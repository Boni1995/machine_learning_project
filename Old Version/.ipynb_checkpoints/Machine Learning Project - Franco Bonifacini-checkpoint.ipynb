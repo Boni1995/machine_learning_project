{
 "cells": [
  {
   "cell_type": "markdown",
   "id": "6d33c9f5-cff7-4471-bd99-789fdb76aea8",
   "metadata": {},
   "source": [
    "# Pre-requisites\n",
    "_Libraries and objects used, together with the imported dataset._"
   ]
  },
  {
   "cell_type": "markdown",
   "id": "869e4e45-41cc-4196-a234-ef630931b794",
   "metadata": {},
   "source": [
    "## Libraries used"
   ]
  },
  {
   "cell_type": "code",
   "execution_count": 1,
   "id": "56ad84de-f502-42a9-abac-e3fcfbab2aa2",
   "metadata": {},
   "outputs": [],
   "source": [
    "import numpy as np\n",
    "import pandas as pd\n",
    "from pprint import pprint\n",
    "import matplotlib.pyplot as plt\n",
    "import seaborn as sns"
   ]
  },
  {
   "cell_type": "markdown",
   "id": "25922277-b0b4-4495-bf20-8f942f1cb51d",
   "metadata": {},
   "source": [
    "## Objects used"
   ]
  },
  {
   "cell_type": "code",
   "execution_count": 2,
   "id": "943b800f-8cc7-4ca5-8324-0ec3a59ac3de",
   "metadata": {},
   "outputs": [],
   "source": [
    "# Object for importing data\n",
    "from data import Mushrooms_dataset\n",
    "\n",
    "# Object for giving a label to a given row, and for defining attributes as \"continuous\" or \"categorical\"\n",
    "from data_classification import Classification\n",
    "\n",
    "# Object for splitting data into train and test set\n",
    "from train_test_split import TrainTestSplit\n",
    "\n",
    "# Object for calculating the gini function\n",
    "from gini import Gini\n",
    "\n",
    "# Object for the tree's nodes\n",
    "from tree_node import TreeNode\n",
    "\n",
    "# Object for the tree algorithm\n",
    "from tree_algorithm import TreePredictor\n",
    "\n",
    "# Object for the accuracy of the tree (uses as input the test_set)\n",
    "from accuracy_algorithm import TreeAccuracy"
   ]
  },
  {
   "cell_type": "markdown",
   "id": "1134ea93-260e-4893-9a8b-6c2c41f1d54b",
   "metadata": {},
   "source": [
    "## Import dataset"
   ]
  },
  {
   "cell_type": "code",
   "execution_count": 3,
   "id": "00f4a570-28bb-420d-a9eb-99f7a8dc5f2e",
   "metadata": {},
   "outputs": [],
   "source": [
    "# Folder where the dataset is saved\n",
    "path = 'Datasets'"
   ]
  },
  {
   "cell_type": "code",
   "execution_count": 4,
   "id": "7c29d74c-136f-436a-8305-ca287ff877bf",
   "metadata": {},
   "outputs": [],
   "source": [
    "# Associating the dataset to a variable\n",
    "df_mushrooms = Mushrooms_dataset(path).dataset"
   ]
  },
  {
   "cell_type": "markdown",
   "id": "97993947-f207-4a8a-91e9-f78e9dc769ba",
   "metadata": {},
   "source": [
    "# EDA\n",
    "_Some exploratory data analysis to understando the data that is going to be used for the construction of the tree predictor._"
   ]
  },
  {
   "cell_type": "code",
   "execution_count": 5,
   "id": "ca9aae53-1cfc-461e-8244-758b4efcf40d",
   "metadata": {},
   "outputs": [
    {
     "data": {
      "text/html": [
       "<div>\n",
       "<style scoped>\n",
       "    .dataframe tbody tr th:only-of-type {\n",
       "        vertical-align: middle;\n",
       "    }\n",
       "\n",
       "    .dataframe tbody tr th {\n",
       "        vertical-align: top;\n",
       "    }\n",
       "\n",
       "    .dataframe thead th {\n",
       "        text-align: right;\n",
       "    }\n",
       "</style>\n",
       "<table border=\"1\" class=\"dataframe\">\n",
       "  <thead>\n",
       "    <tr style=\"text-align: right;\">\n",
       "      <th></th>\n",
       "      <th>class</th>\n",
       "      <th>cap-diameter</th>\n",
       "      <th>cap-shape</th>\n",
       "      <th>cap-surface</th>\n",
       "      <th>cap-color</th>\n",
       "      <th>does-bruise-or-bleed</th>\n",
       "      <th>gill-attachment</th>\n",
       "      <th>gill-spacing</th>\n",
       "      <th>gill-color</th>\n",
       "      <th>stem-height</th>\n",
       "      <th>...</th>\n",
       "      <th>stem-root</th>\n",
       "      <th>stem-surface</th>\n",
       "      <th>stem-color</th>\n",
       "      <th>veil-type</th>\n",
       "      <th>veil-color</th>\n",
       "      <th>has-ring</th>\n",
       "      <th>ring-type</th>\n",
       "      <th>spore-print-color</th>\n",
       "      <th>habitat</th>\n",
       "      <th>season</th>\n",
       "    </tr>\n",
       "  </thead>\n",
       "  <tbody>\n",
       "    <tr>\n",
       "      <th>0</th>\n",
       "      <td>p</td>\n",
       "      <td>15.26</td>\n",
       "      <td>x</td>\n",
       "      <td>g</td>\n",
       "      <td>o</td>\n",
       "      <td>f</td>\n",
       "      <td>e</td>\n",
       "      <td>NaN</td>\n",
       "      <td>w</td>\n",
       "      <td>16.95</td>\n",
       "      <td>...</td>\n",
       "      <td>s</td>\n",
       "      <td>y</td>\n",
       "      <td>w</td>\n",
       "      <td>u</td>\n",
       "      <td>w</td>\n",
       "      <td>t</td>\n",
       "      <td>g</td>\n",
       "      <td>NaN</td>\n",
       "      <td>d</td>\n",
       "      <td>w</td>\n",
       "    </tr>\n",
       "    <tr>\n",
       "      <th>1</th>\n",
       "      <td>p</td>\n",
       "      <td>16.60</td>\n",
       "      <td>x</td>\n",
       "      <td>g</td>\n",
       "      <td>o</td>\n",
       "      <td>f</td>\n",
       "      <td>e</td>\n",
       "      <td>NaN</td>\n",
       "      <td>w</td>\n",
       "      <td>17.99</td>\n",
       "      <td>...</td>\n",
       "      <td>s</td>\n",
       "      <td>y</td>\n",
       "      <td>w</td>\n",
       "      <td>u</td>\n",
       "      <td>w</td>\n",
       "      <td>t</td>\n",
       "      <td>g</td>\n",
       "      <td>NaN</td>\n",
       "      <td>d</td>\n",
       "      <td>u</td>\n",
       "    </tr>\n",
       "    <tr>\n",
       "      <th>2</th>\n",
       "      <td>p</td>\n",
       "      <td>14.07</td>\n",
       "      <td>x</td>\n",
       "      <td>g</td>\n",
       "      <td>o</td>\n",
       "      <td>f</td>\n",
       "      <td>e</td>\n",
       "      <td>NaN</td>\n",
       "      <td>w</td>\n",
       "      <td>17.80</td>\n",
       "      <td>...</td>\n",
       "      <td>s</td>\n",
       "      <td>y</td>\n",
       "      <td>w</td>\n",
       "      <td>u</td>\n",
       "      <td>w</td>\n",
       "      <td>t</td>\n",
       "      <td>g</td>\n",
       "      <td>NaN</td>\n",
       "      <td>d</td>\n",
       "      <td>w</td>\n",
       "    </tr>\n",
       "    <tr>\n",
       "      <th>3</th>\n",
       "      <td>p</td>\n",
       "      <td>14.17</td>\n",
       "      <td>f</td>\n",
       "      <td>h</td>\n",
       "      <td>e</td>\n",
       "      <td>f</td>\n",
       "      <td>e</td>\n",
       "      <td>NaN</td>\n",
       "      <td>w</td>\n",
       "      <td>15.77</td>\n",
       "      <td>...</td>\n",
       "      <td>s</td>\n",
       "      <td>y</td>\n",
       "      <td>w</td>\n",
       "      <td>u</td>\n",
       "      <td>w</td>\n",
       "      <td>t</td>\n",
       "      <td>p</td>\n",
       "      <td>NaN</td>\n",
       "      <td>d</td>\n",
       "      <td>w</td>\n",
       "    </tr>\n",
       "    <tr>\n",
       "      <th>4</th>\n",
       "      <td>p</td>\n",
       "      <td>14.64</td>\n",
       "      <td>x</td>\n",
       "      <td>h</td>\n",
       "      <td>o</td>\n",
       "      <td>f</td>\n",
       "      <td>e</td>\n",
       "      <td>NaN</td>\n",
       "      <td>w</td>\n",
       "      <td>16.53</td>\n",
       "      <td>...</td>\n",
       "      <td>s</td>\n",
       "      <td>y</td>\n",
       "      <td>w</td>\n",
       "      <td>u</td>\n",
       "      <td>w</td>\n",
       "      <td>t</td>\n",
       "      <td>p</td>\n",
       "      <td>NaN</td>\n",
       "      <td>d</td>\n",
       "      <td>w</td>\n",
       "    </tr>\n",
       "  </tbody>\n",
       "</table>\n",
       "<p>5 rows × 21 columns</p>\n",
       "</div>"
      ],
      "text/plain": [
       "  class  cap-diameter cap-shape cap-surface cap-color does-bruise-or-bleed  \\\n",
       "0     p         15.26         x           g         o                    f   \n",
       "1     p         16.60         x           g         o                    f   \n",
       "2     p         14.07         x           g         o                    f   \n",
       "3     p         14.17         f           h         e                    f   \n",
       "4     p         14.64         x           h         o                    f   \n",
       "\n",
       "  gill-attachment gill-spacing gill-color  stem-height  ...  stem-root  \\\n",
       "0               e          NaN          w        16.95  ...          s   \n",
       "1               e          NaN          w        17.99  ...          s   \n",
       "2               e          NaN          w        17.80  ...          s   \n",
       "3               e          NaN          w        15.77  ...          s   \n",
       "4               e          NaN          w        16.53  ...          s   \n",
       "\n",
       "  stem-surface stem-color veil-type veil-color has-ring ring-type  \\\n",
       "0            y          w         u          w        t         g   \n",
       "1            y          w         u          w        t         g   \n",
       "2            y          w         u          w        t         g   \n",
       "3            y          w         u          w        t         p   \n",
       "4            y          w         u          w        t         p   \n",
       "\n",
       "  spore-print-color habitat season  \n",
       "0               NaN       d      w  \n",
       "1               NaN       d      u  \n",
       "2               NaN       d      w  \n",
       "3               NaN       d      w  \n",
       "4               NaN       d      w  \n",
       "\n",
       "[5 rows x 21 columns]"
      ]
     },
     "execution_count": 5,
     "metadata": {},
     "output_type": "execute_result"
    }
   ],
   "source": [
    "# See the first 5 rows of the dataset\n",
    "original_data = df_mushrooms # Just for future comparisons after processing data\n",
    "df_mushrooms.head(5)"
   ]
  },
  {
   "cell_type": "code",
   "execution_count": 6,
   "id": "a413441b-166f-469e-be5b-0008da0f2ccd",
   "metadata": {},
   "outputs": [
    {
     "name": "stdout",
     "output_type": "stream",
     "text": [
      "There are some attributes with missing values:\n",
      "<class 'pandas.core.frame.DataFrame'>\n",
      "RangeIndex: 61069 entries, 0 to 61068\n",
      "Data columns (total 21 columns):\n",
      " #   Column                Non-Null Count  Dtype  \n",
      "---  ------                --------------  -----  \n",
      " 0   class                 61069 non-null  object \n",
      " 1   cap-diameter          61069 non-null  float64\n",
      " 2   cap-shape             61069 non-null  object \n",
      " 3   cap-surface           46949 non-null  object \n",
      " 4   cap-color             61069 non-null  object \n",
      " 5   does-bruise-or-bleed  61069 non-null  object \n",
      " 6   gill-attachment       51185 non-null  object \n",
      " 7   gill-spacing          36006 non-null  object \n",
      " 8   gill-color            61069 non-null  object \n",
      " 9   stem-height           61069 non-null  float64\n",
      " 10  stem-width            61069 non-null  float64\n",
      " 11  stem-root             9531 non-null   object \n",
      " 12  stem-surface          22945 non-null  object \n",
      " 13  stem-color            61069 non-null  object \n",
      " 14  veil-type             3177 non-null   object \n",
      " 15  veil-color            7413 non-null   object \n",
      " 16  has-ring              61069 non-null  object \n",
      " 17  ring-type             58598 non-null  object \n",
      " 18  spore-print-color     6354 non-null   object \n",
      " 19  habitat               61069 non-null  object \n",
      " 20  season                61069 non-null  object \n",
      "dtypes: float64(3), object(18)\n",
      "memory usage: 9.8+ MB\n",
      "None\n"
     ]
    }
   ],
   "source": [
    "# Check the type of each attribute\n",
    "print(f\"There are some attributes with missing values:\")\n",
    "print(df_mushrooms.info())"
   ]
  },
  {
   "cell_type": "markdown",
   "id": "767524de-b250-4785-aa82-900743d4f014",
   "metadata": {},
   "source": [
    "No null values for continuous values, while some categorical columns have nul values."
   ]
  },
  {
   "cell_type": "code",
   "execution_count": 7,
   "id": "95dec12f-eaac-4652-bd17-4043ff85a2c9",
   "metadata": {},
   "outputs": [
    {
     "name": "stdout",
     "output_type": "stream",
     "text": [
      "Taking into account these percentages, I'll exclude those attributes with more than 80% of null values:\n",
      "class                    0.00\n",
      "cap-diameter             0.00\n",
      "cap-shape                0.00\n",
      "cap-surface             23.12\n",
      "cap-color                0.00\n",
      "does-bruise-or-bleed     0.00\n",
      "gill-attachment         16.18\n",
      "gill-spacing            41.04\n",
      "gill-color               0.00\n",
      "stem-height              0.00\n",
      "stem-width               0.00\n",
      "stem-root               84.39\n",
      "stem-surface            62.43\n",
      "stem-color               0.00\n",
      "veil-type               94.80\n",
      "veil-color              87.86\n",
      "has-ring                 0.00\n",
      "ring-type                4.05\n",
      "spore-print-color       89.60\n",
      "habitat                  0.00\n",
      "season                   0.00\n",
      "dtype: float64\n"
     ]
    }
   ],
   "source": [
    "# Obtain percentage of null values\n",
    "print(f\"Taking into account these percentages, I'll exclude those attributes with more than 80% of null values:\")\n",
    "print(round(df_mushrooms.isna().sum()/len(df_mushrooms)*100,2))"
   ]
  },
  {
   "cell_type": "code",
   "execution_count": 8,
   "id": "5f4f7fed-8db5-44e1-80b4-38867b62bb80",
   "metadata": {},
   "outputs": [
    {
     "data": {
      "text/plain": [
       "Index(['stem-root', 'veil-type', 'veil-color', 'spore-print-color'], dtype='object')"
      ]
     },
     "execution_count": 8,
     "metadata": {},
     "output_type": "execute_result"
    }
   ],
   "source": [
    "# Obtain columns which exceed the threshold of 80%\n",
    "columns_to_drop = df_mushrooms.columns[(round(df_mushrooms.isna().sum()/len(df_mushrooms)*100,2)) >= 80]\n",
    "columns_to_drop"
   ]
  },
  {
   "cell_type": "code",
   "execution_count": 9,
   "id": "5c9703a1-4d94-465f-869f-f09b139a8efe",
   "metadata": {},
   "outputs": [
    {
     "data": {
      "text/html": [
       "<div>\n",
       "<style scoped>\n",
       "    .dataframe tbody tr th:only-of-type {\n",
       "        vertical-align: middle;\n",
       "    }\n",
       "\n",
       "    .dataframe tbody tr th {\n",
       "        vertical-align: top;\n",
       "    }\n",
       "\n",
       "    .dataframe thead th {\n",
       "        text-align: right;\n",
       "    }\n",
       "</style>\n",
       "<table border=\"1\" class=\"dataframe\">\n",
       "  <thead>\n",
       "    <tr style=\"text-align: right;\">\n",
       "      <th></th>\n",
       "      <th>class</th>\n",
       "      <th>cap-diameter</th>\n",
       "      <th>cap-shape</th>\n",
       "      <th>cap-surface</th>\n",
       "      <th>cap-color</th>\n",
       "      <th>does-bruise-or-bleed</th>\n",
       "      <th>gill-attachment</th>\n",
       "      <th>gill-spacing</th>\n",
       "      <th>gill-color</th>\n",
       "      <th>stem-height</th>\n",
       "      <th>stem-width</th>\n",
       "      <th>stem-surface</th>\n",
       "      <th>stem-color</th>\n",
       "      <th>has-ring</th>\n",
       "      <th>ring-type</th>\n",
       "      <th>habitat</th>\n",
       "      <th>season</th>\n",
       "    </tr>\n",
       "  </thead>\n",
       "  <tbody>\n",
       "    <tr>\n",
       "      <th>0</th>\n",
       "      <td>p</td>\n",
       "      <td>15.26</td>\n",
       "      <td>x</td>\n",
       "      <td>g</td>\n",
       "      <td>o</td>\n",
       "      <td>f</td>\n",
       "      <td>e</td>\n",
       "      <td>NaN</td>\n",
       "      <td>w</td>\n",
       "      <td>16.95</td>\n",
       "      <td>17.09</td>\n",
       "      <td>y</td>\n",
       "      <td>w</td>\n",
       "      <td>t</td>\n",
       "      <td>g</td>\n",
       "      <td>d</td>\n",
       "      <td>w</td>\n",
       "    </tr>\n",
       "    <tr>\n",
       "      <th>1</th>\n",
       "      <td>p</td>\n",
       "      <td>16.60</td>\n",
       "      <td>x</td>\n",
       "      <td>g</td>\n",
       "      <td>o</td>\n",
       "      <td>f</td>\n",
       "      <td>e</td>\n",
       "      <td>NaN</td>\n",
       "      <td>w</td>\n",
       "      <td>17.99</td>\n",
       "      <td>18.19</td>\n",
       "      <td>y</td>\n",
       "      <td>w</td>\n",
       "      <td>t</td>\n",
       "      <td>g</td>\n",
       "      <td>d</td>\n",
       "      <td>u</td>\n",
       "    </tr>\n",
       "    <tr>\n",
       "      <th>2</th>\n",
       "      <td>p</td>\n",
       "      <td>14.07</td>\n",
       "      <td>x</td>\n",
       "      <td>g</td>\n",
       "      <td>o</td>\n",
       "      <td>f</td>\n",
       "      <td>e</td>\n",
       "      <td>NaN</td>\n",
       "      <td>w</td>\n",
       "      <td>17.80</td>\n",
       "      <td>17.74</td>\n",
       "      <td>y</td>\n",
       "      <td>w</td>\n",
       "      <td>t</td>\n",
       "      <td>g</td>\n",
       "      <td>d</td>\n",
       "      <td>w</td>\n",
       "    </tr>\n",
       "    <tr>\n",
       "      <th>3</th>\n",
       "      <td>p</td>\n",
       "      <td>14.17</td>\n",
       "      <td>f</td>\n",
       "      <td>h</td>\n",
       "      <td>e</td>\n",
       "      <td>f</td>\n",
       "      <td>e</td>\n",
       "      <td>NaN</td>\n",
       "      <td>w</td>\n",
       "      <td>15.77</td>\n",
       "      <td>15.98</td>\n",
       "      <td>y</td>\n",
       "      <td>w</td>\n",
       "      <td>t</td>\n",
       "      <td>p</td>\n",
       "      <td>d</td>\n",
       "      <td>w</td>\n",
       "    </tr>\n",
       "    <tr>\n",
       "      <th>4</th>\n",
       "      <td>p</td>\n",
       "      <td>14.64</td>\n",
       "      <td>x</td>\n",
       "      <td>h</td>\n",
       "      <td>o</td>\n",
       "      <td>f</td>\n",
       "      <td>e</td>\n",
       "      <td>NaN</td>\n",
       "      <td>w</td>\n",
       "      <td>16.53</td>\n",
       "      <td>17.20</td>\n",
       "      <td>y</td>\n",
       "      <td>w</td>\n",
       "      <td>t</td>\n",
       "      <td>p</td>\n",
       "      <td>d</td>\n",
       "      <td>w</td>\n",
       "    </tr>\n",
       "  </tbody>\n",
       "</table>\n",
       "</div>"
      ],
      "text/plain": [
       "  class  cap-diameter cap-shape cap-surface cap-color does-bruise-or-bleed  \\\n",
       "0     p         15.26         x           g         o                    f   \n",
       "1     p         16.60         x           g         o                    f   \n",
       "2     p         14.07         x           g         o                    f   \n",
       "3     p         14.17         f           h         e                    f   \n",
       "4     p         14.64         x           h         o                    f   \n",
       "\n",
       "  gill-attachment gill-spacing gill-color  stem-height  stem-width  \\\n",
       "0               e          NaN          w        16.95       17.09   \n",
       "1               e          NaN          w        17.99       18.19   \n",
       "2               e          NaN          w        17.80       17.74   \n",
       "3               e          NaN          w        15.77       15.98   \n",
       "4               e          NaN          w        16.53       17.20   \n",
       "\n",
       "  stem-surface stem-color has-ring ring-type habitat season  \n",
       "0            y          w        t         g       d      w  \n",
       "1            y          w        t         g       d      u  \n",
       "2            y          w        t         g       d      w  \n",
       "3            y          w        t         p       d      w  \n",
       "4            y          w        t         p       d      w  "
      ]
     },
     "execution_count": 9,
     "metadata": {},
     "output_type": "execute_result"
    }
   ],
   "source": [
    "# Drop the columns obtained before (>=80%)\n",
    "df_mushrooms = df_mushrooms.drop(columns=columns_to_drop)\n",
    "df_mushrooms.head(5)"
   ]
  },
  {
   "cell_type": "code",
   "execution_count": 10,
   "id": "3eb5b53a-3a4e-42b1-9ca3-ae45b78781d8",
   "metadata": {},
   "outputs": [
    {
     "name": "stdout",
     "output_type": "stream",
     "text": [
      "The maximum percentage of null values for a single row is: 23.53%.\n",
      "With this value, I won't drop any row and replace null values with median.\n"
     ]
    }
   ],
   "source": [
    "# Now I'll check the percentage of nan values by row\n",
    "row_null = round((df_mushrooms.isna().sum(axis=1) / df_mushrooms.shape[1])*100,2)\n",
    "print(f\"The maximum percentage of null values for a single row is: {row_null.max()}%.\")\n",
    "print(f\"With this value, I won't drop any row and replace null values with median.\")"
   ]
  },
  {
   "cell_type": "code",
   "execution_count": 11,
   "id": "e193f33f-32ca-431e-9d99-6db396f9e806",
   "metadata": {},
   "outputs": [
    {
     "data": {
      "text/html": [
       "<div>\n",
       "<style scoped>\n",
       "    .dataframe tbody tr th:only-of-type {\n",
       "        vertical-align: middle;\n",
       "    }\n",
       "\n",
       "    .dataframe tbody tr th {\n",
       "        vertical-align: top;\n",
       "    }\n",
       "\n",
       "    .dataframe thead th {\n",
       "        text-align: right;\n",
       "    }\n",
       "</style>\n",
       "<table border=\"1\" class=\"dataframe\">\n",
       "  <thead>\n",
       "    <tr style=\"text-align: right;\">\n",
       "      <th></th>\n",
       "      <th>class</th>\n",
       "      <th>cap-diameter</th>\n",
       "      <th>cap-shape</th>\n",
       "      <th>cap-surface</th>\n",
       "      <th>cap-color</th>\n",
       "      <th>does-bruise-or-bleed</th>\n",
       "      <th>gill-attachment</th>\n",
       "      <th>gill-spacing</th>\n",
       "      <th>gill-color</th>\n",
       "      <th>stem-height</th>\n",
       "      <th>stem-width</th>\n",
       "      <th>stem-surface</th>\n",
       "      <th>stem-color</th>\n",
       "      <th>has-ring</th>\n",
       "      <th>ring-type</th>\n",
       "      <th>habitat</th>\n",
       "      <th>season</th>\n",
       "    </tr>\n",
       "  </thead>\n",
       "  <tbody>\n",
       "    <tr>\n",
       "      <th>0</th>\n",
       "      <td>p</td>\n",
       "      <td>15.26</td>\n",
       "      <td>x</td>\n",
       "      <td>g</td>\n",
       "      <td>o</td>\n",
       "      <td>f</td>\n",
       "      <td>e</td>\n",
       "      <td>c</td>\n",
       "      <td>w</td>\n",
       "      <td>16.95</td>\n",
       "      <td>17.09</td>\n",
       "      <td>y</td>\n",
       "      <td>w</td>\n",
       "      <td>t</td>\n",
       "      <td>g</td>\n",
       "      <td>d</td>\n",
       "      <td>w</td>\n",
       "    </tr>\n",
       "    <tr>\n",
       "      <th>1</th>\n",
       "      <td>p</td>\n",
       "      <td>16.60</td>\n",
       "      <td>x</td>\n",
       "      <td>g</td>\n",
       "      <td>o</td>\n",
       "      <td>f</td>\n",
       "      <td>e</td>\n",
       "      <td>c</td>\n",
       "      <td>w</td>\n",
       "      <td>17.99</td>\n",
       "      <td>18.19</td>\n",
       "      <td>y</td>\n",
       "      <td>w</td>\n",
       "      <td>t</td>\n",
       "      <td>g</td>\n",
       "      <td>d</td>\n",
       "      <td>u</td>\n",
       "    </tr>\n",
       "    <tr>\n",
       "      <th>2</th>\n",
       "      <td>p</td>\n",
       "      <td>14.07</td>\n",
       "      <td>x</td>\n",
       "      <td>g</td>\n",
       "      <td>o</td>\n",
       "      <td>f</td>\n",
       "      <td>e</td>\n",
       "      <td>c</td>\n",
       "      <td>w</td>\n",
       "      <td>17.80</td>\n",
       "      <td>17.74</td>\n",
       "      <td>y</td>\n",
       "      <td>w</td>\n",
       "      <td>t</td>\n",
       "      <td>g</td>\n",
       "      <td>d</td>\n",
       "      <td>w</td>\n",
       "    </tr>\n",
       "    <tr>\n",
       "      <th>3</th>\n",
       "      <td>p</td>\n",
       "      <td>14.17</td>\n",
       "      <td>f</td>\n",
       "      <td>h</td>\n",
       "      <td>e</td>\n",
       "      <td>f</td>\n",
       "      <td>e</td>\n",
       "      <td>c</td>\n",
       "      <td>w</td>\n",
       "      <td>15.77</td>\n",
       "      <td>15.98</td>\n",
       "      <td>y</td>\n",
       "      <td>w</td>\n",
       "      <td>t</td>\n",
       "      <td>p</td>\n",
       "      <td>d</td>\n",
       "      <td>w</td>\n",
       "    </tr>\n",
       "    <tr>\n",
       "      <th>4</th>\n",
       "      <td>p</td>\n",
       "      <td>14.64</td>\n",
       "      <td>x</td>\n",
       "      <td>h</td>\n",
       "      <td>o</td>\n",
       "      <td>f</td>\n",
       "      <td>e</td>\n",
       "      <td>c</td>\n",
       "      <td>w</td>\n",
       "      <td>16.53</td>\n",
       "      <td>17.20</td>\n",
       "      <td>y</td>\n",
       "      <td>w</td>\n",
       "      <td>t</td>\n",
       "      <td>p</td>\n",
       "      <td>d</td>\n",
       "      <td>w</td>\n",
       "    </tr>\n",
       "  </tbody>\n",
       "</table>\n",
       "</div>"
      ],
      "text/plain": [
       "  class  cap-diameter cap-shape cap-surface cap-color does-bruise-or-bleed  \\\n",
       "0     p         15.26         x           g         o                    f   \n",
       "1     p         16.60         x           g         o                    f   \n",
       "2     p         14.07         x           g         o                    f   \n",
       "3     p         14.17         f           h         e                    f   \n",
       "4     p         14.64         x           h         o                    f   \n",
       "\n",
       "  gill-attachment gill-spacing gill-color  stem-height  stem-width  \\\n",
       "0               e            c          w        16.95       17.09   \n",
       "1               e            c          w        17.99       18.19   \n",
       "2               e            c          w        17.80       17.74   \n",
       "3               e            c          w        15.77       15.98   \n",
       "4               e            c          w        16.53       17.20   \n",
       "\n",
       "  stem-surface stem-color has-ring ring-type habitat season  \n",
       "0            y          w        t         g       d      w  \n",
       "1            y          w        t         g       d      u  \n",
       "2            y          w        t         g       d      w  \n",
       "3            y          w        t         p       d      w  \n",
       "4            y          w        t         p       d      w  "
      ]
     },
     "execution_count": 11,
     "metadata": {},
     "output_type": "execute_result"
    }
   ],
   "source": [
    "# Replace null values with mode of the column (numerical attributes have no null values).\n",
    "for col in df_mushrooms.columns:\n",
    "    if df_mushrooms[col].dtype == 'object':\n",
    "        object_value = df_mushrooms[col].mode()[0]\n",
    "        df_mushrooms.loc[:, col] = df_mushrooms[col].fillna(object_value)\n",
    "\n",
    "df_mushrooms.head(5)"
   ]
  },
  {
   "cell_type": "code",
   "execution_count": 12,
   "id": "48ec9adb-8198-4146-a77d-f0db232150d5",
   "metadata": {},
   "outputs": [
    {
     "data": {
      "text/plain": [
       "146"
      ]
     },
     "execution_count": 12,
     "metadata": {},
     "output_type": "execute_result"
    }
   ],
   "source": [
    "# Finally, I'll check the presence of any duplicate\n",
    "df_mushrooms.duplicated().sum()"
   ]
  },
  {
   "cell_type": "code",
   "execution_count": 13,
   "id": "0ef7643f-f56e-4778-9f2e-c0c8645ddad6",
   "metadata": {},
   "outputs": [
    {
     "name": "stdout",
     "output_type": "stream",
     "text": [
      "Finally, the final dataset has 146 less rows and 4 less columns than the original dataset.\n"
     ]
    }
   ],
   "source": [
    "# To avoid overfitting, I'll remove those duplicated rows\n",
    "df_mushrooms = df_mushrooms.drop_duplicates()\n",
    "\n",
    "print(f\"Finally, the final dataset has {len(original_data) - len(df_mushrooms)} less rows and {original_data.shape[1] - df_mushrooms.shape[1]} less columns than the original dataset.\")"
   ]
  },
  {
   "cell_type": "markdown",
   "id": "94100cd8-5cbd-4990-98d7-7c99bc5a7e32",
   "metadata": {},
   "source": [
    "# Tree Predictor\n",
    "_Implementation of the tree predictor._"
   ]
  },
  {
   "cell_type": "markdown",
   "id": "a13440a1-685f-4845-a799-f40fcf5deae1",
   "metadata": {},
   "source": [
    "## Train-Test Split"
   ]
  },
  {
   "cell_type": "code",
   "execution_count": 14,
   "id": "8ceafce2-ddbb-4125-9e78-17e3c8aa6ebc",
   "metadata": {},
   "outputs": [],
   "source": [
    "# First I split the dataset into a training and test set.\n",
    "# I splitted 70/30 (train/test), and defined seed=0 to keep the same result each time the notebook is run.\n",
    "train_set, test_set = TrainTestSplit(data = df_mushrooms, test_size = 0.3, seed = 0).split()"
   ]
  },
  {
   "cell_type": "code",
   "execution_count": 15,
   "id": "4f6e6e0c-36b0-4b68-aea4-c3ffdd863631",
   "metadata": {},
   "outputs": [
    {
     "name": "stdout",
     "output_type": "stream",
     "text": [
      "Original dataset: 60923\n",
      "Train set: 42646\n",
      "Test set: 18277\n"
     ]
    }
   ],
   "source": [
    "# Check the number of samples for each set\n",
    "print(f'Original dataset: {len(df_mushrooms)}')\n",
    "print(f'Train set: {len(train_set)}')\n",
    "print(f'Test set: {len(test_set)}')"
   ]
  },
  {
   "cell_type": "code",
   "execution_count": 16,
   "id": "3920d860-d870-4d87-b9d0-452367a4254f",
   "metadata": {},
   "outputs": [
    {
     "data": {
      "text/html": [
       "<div>\n",
       "<style scoped>\n",
       "    .dataframe tbody tr th:only-of-type {\n",
       "        vertical-align: middle;\n",
       "    }\n",
       "\n",
       "    .dataframe tbody tr th {\n",
       "        vertical-align: top;\n",
       "    }\n",
       "\n",
       "    .dataframe thead th {\n",
       "        text-align: right;\n",
       "    }\n",
       "</style>\n",
       "<table border=\"1\" class=\"dataframe\">\n",
       "  <thead>\n",
       "    <tr style=\"text-align: right;\">\n",
       "      <th></th>\n",
       "      <th>class</th>\n",
       "      <th>cap-diameter</th>\n",
       "      <th>cap-shape</th>\n",
       "      <th>cap-surface</th>\n",
       "      <th>cap-color</th>\n",
       "      <th>does-bruise-or-bleed</th>\n",
       "      <th>gill-attachment</th>\n",
       "      <th>gill-spacing</th>\n",
       "      <th>gill-color</th>\n",
       "      <th>stem-height</th>\n",
       "      <th>stem-width</th>\n",
       "      <th>stem-surface</th>\n",
       "      <th>stem-color</th>\n",
       "      <th>has-ring</th>\n",
       "      <th>ring-type</th>\n",
       "      <th>habitat</th>\n",
       "      <th>season</th>\n",
       "    </tr>\n",
       "  </thead>\n",
       "  <tbody>\n",
       "    <tr>\n",
       "      <th>0</th>\n",
       "      <td>p</td>\n",
       "      <td>15.26</td>\n",
       "      <td>x</td>\n",
       "      <td>g</td>\n",
       "      <td>o</td>\n",
       "      <td>f</td>\n",
       "      <td>e</td>\n",
       "      <td>c</td>\n",
       "      <td>w</td>\n",
       "      <td>16.95</td>\n",
       "      <td>17.09</td>\n",
       "      <td>y</td>\n",
       "      <td>w</td>\n",
       "      <td>t</td>\n",
       "      <td>g</td>\n",
       "      <td>d</td>\n",
       "      <td>w</td>\n",
       "    </tr>\n",
       "    <tr>\n",
       "      <th>2</th>\n",
       "      <td>p</td>\n",
       "      <td>14.07</td>\n",
       "      <td>x</td>\n",
       "      <td>g</td>\n",
       "      <td>o</td>\n",
       "      <td>f</td>\n",
       "      <td>e</td>\n",
       "      <td>c</td>\n",
       "      <td>w</td>\n",
       "      <td>17.80</td>\n",
       "      <td>17.74</td>\n",
       "      <td>y</td>\n",
       "      <td>w</td>\n",
       "      <td>t</td>\n",
       "      <td>g</td>\n",
       "      <td>d</td>\n",
       "      <td>w</td>\n",
       "    </tr>\n",
       "    <tr>\n",
       "      <th>3</th>\n",
       "      <td>p</td>\n",
       "      <td>14.17</td>\n",
       "      <td>f</td>\n",
       "      <td>h</td>\n",
       "      <td>e</td>\n",
       "      <td>f</td>\n",
       "      <td>e</td>\n",
       "      <td>c</td>\n",
       "      <td>w</td>\n",
       "      <td>15.77</td>\n",
       "      <td>15.98</td>\n",
       "      <td>y</td>\n",
       "      <td>w</td>\n",
       "      <td>t</td>\n",
       "      <td>p</td>\n",
       "      <td>d</td>\n",
       "      <td>w</td>\n",
       "    </tr>\n",
       "    <tr>\n",
       "      <th>5</th>\n",
       "      <td>p</td>\n",
       "      <td>15.34</td>\n",
       "      <td>x</td>\n",
       "      <td>g</td>\n",
       "      <td>o</td>\n",
       "      <td>f</td>\n",
       "      <td>e</td>\n",
       "      <td>c</td>\n",
       "      <td>w</td>\n",
       "      <td>17.84</td>\n",
       "      <td>18.79</td>\n",
       "      <td>y</td>\n",
       "      <td>w</td>\n",
       "      <td>t</td>\n",
       "      <td>p</td>\n",
       "      <td>d</td>\n",
       "      <td>u</td>\n",
       "    </tr>\n",
       "    <tr>\n",
       "      <th>6</th>\n",
       "      <td>p</td>\n",
       "      <td>14.85</td>\n",
       "      <td>f</td>\n",
       "      <td>h</td>\n",
       "      <td>o</td>\n",
       "      <td>f</td>\n",
       "      <td>e</td>\n",
       "      <td>c</td>\n",
       "      <td>w</td>\n",
       "      <td>17.71</td>\n",
       "      <td>16.89</td>\n",
       "      <td>y</td>\n",
       "      <td>w</td>\n",
       "      <td>t</td>\n",
       "      <td>g</td>\n",
       "      <td>d</td>\n",
       "      <td>w</td>\n",
       "    </tr>\n",
       "  </tbody>\n",
       "</table>\n",
       "</div>"
      ],
      "text/plain": [
       "  class  cap-diameter cap-shape cap-surface cap-color does-bruise-or-bleed  \\\n",
       "0     p         15.26         x           g         o                    f   \n",
       "2     p         14.07         x           g         o                    f   \n",
       "3     p         14.17         f           h         e                    f   \n",
       "5     p         15.34         x           g         o                    f   \n",
       "6     p         14.85         f           h         o                    f   \n",
       "\n",
       "  gill-attachment gill-spacing gill-color  stem-height  stem-width  \\\n",
       "0               e            c          w        16.95       17.09   \n",
       "2               e            c          w        17.80       17.74   \n",
       "3               e            c          w        15.77       15.98   \n",
       "5               e            c          w        17.84       18.79   \n",
       "6               e            c          w        17.71       16.89   \n",
       "\n",
       "  stem-surface stem-color has-ring ring-type habitat season  \n",
       "0            y          w        t         g       d      w  \n",
       "2            y          w        t         g       d      w  \n",
       "3            y          w        t         p       d      w  \n",
       "5            y          w        t         p       d      u  \n",
       "6            y          w        t         g       d      w  "
      ]
     },
     "execution_count": 16,
     "metadata": {},
     "output_type": "execute_result"
    }
   ],
   "source": [
    "# Print the first 5 rows of the train set\n",
    "train_set.head(5)"
   ]
  },
  {
   "cell_type": "code",
   "execution_count": 17,
   "id": "23b9fe73-00d3-4f4f-a1c5-a545d217ae5f",
   "metadata": {},
   "outputs": [
    {
     "data": {
      "text/html": [
       "<div>\n",
       "<style scoped>\n",
       "    .dataframe tbody tr th:only-of-type {\n",
       "        vertical-align: middle;\n",
       "    }\n",
       "\n",
       "    .dataframe tbody tr th {\n",
       "        vertical-align: top;\n",
       "    }\n",
       "\n",
       "    .dataframe thead th {\n",
       "        text-align: right;\n",
       "    }\n",
       "</style>\n",
       "<table border=\"1\" class=\"dataframe\">\n",
       "  <thead>\n",
       "    <tr style=\"text-align: right;\">\n",
       "      <th></th>\n",
       "      <th>class</th>\n",
       "      <th>cap-diameter</th>\n",
       "      <th>cap-shape</th>\n",
       "      <th>cap-surface</th>\n",
       "      <th>cap-color</th>\n",
       "      <th>does-bruise-or-bleed</th>\n",
       "      <th>gill-attachment</th>\n",
       "      <th>gill-spacing</th>\n",
       "      <th>gill-color</th>\n",
       "      <th>stem-height</th>\n",
       "      <th>stem-width</th>\n",
       "      <th>stem-surface</th>\n",
       "      <th>stem-color</th>\n",
       "      <th>has-ring</th>\n",
       "      <th>ring-type</th>\n",
       "      <th>habitat</th>\n",
       "      <th>season</th>\n",
       "    </tr>\n",
       "  </thead>\n",
       "  <tbody>\n",
       "    <tr>\n",
       "      <th>55342</th>\n",
       "      <td>e</td>\n",
       "      <td>5.06</td>\n",
       "      <td>o</td>\n",
       "      <td>l</td>\n",
       "      <td>n</td>\n",
       "      <td>f</td>\n",
       "      <td>f</td>\n",
       "      <td>f</td>\n",
       "      <td>f</td>\n",
       "      <td>7.04</td>\n",
       "      <td>57.99</td>\n",
       "      <td>s</td>\n",
       "      <td>n</td>\n",
       "      <td>f</td>\n",
       "      <td>f</td>\n",
       "      <td>d</td>\n",
       "      <td>a</td>\n",
       "    </tr>\n",
       "    <tr>\n",
       "      <th>25249</th>\n",
       "      <td>e</td>\n",
       "      <td>17.94</td>\n",
       "      <td>s</td>\n",
       "      <td>t</td>\n",
       "      <td>k</td>\n",
       "      <td>f</td>\n",
       "      <td>a</td>\n",
       "      <td>d</td>\n",
       "      <td>k</td>\n",
       "      <td>6.92</td>\n",
       "      <td>25.64</td>\n",
       "      <td>s</td>\n",
       "      <td>w</td>\n",
       "      <td>f</td>\n",
       "      <td>f</td>\n",
       "      <td>d</td>\n",
       "      <td>w</td>\n",
       "    </tr>\n",
       "    <tr>\n",
       "      <th>49675</th>\n",
       "      <td>e</td>\n",
       "      <td>6.40</td>\n",
       "      <td>x</td>\n",
       "      <td>d</td>\n",
       "      <td>y</td>\n",
       "      <td>t</td>\n",
       "      <td>p</td>\n",
       "      <td>c</td>\n",
       "      <td>y</td>\n",
       "      <td>7.34</td>\n",
       "      <td>13.07</td>\n",
       "      <td>s</td>\n",
       "      <td>y</td>\n",
       "      <td>f</td>\n",
       "      <td>f</td>\n",
       "      <td>d</td>\n",
       "      <td>u</td>\n",
       "    </tr>\n",
       "    <tr>\n",
       "      <th>58489</th>\n",
       "      <td>e</td>\n",
       "      <td>48.63</td>\n",
       "      <td>o</td>\n",
       "      <td>y</td>\n",
       "      <td>y</td>\n",
       "      <td>f</td>\n",
       "      <td>p</td>\n",
       "      <td>c</td>\n",
       "      <td>y</td>\n",
       "      <td>5.35</td>\n",
       "      <td>17.66</td>\n",
       "      <td>k</td>\n",
       "      <td>k</td>\n",
       "      <td>f</td>\n",
       "      <td>f</td>\n",
       "      <td>d</td>\n",
       "      <td>u</td>\n",
       "    </tr>\n",
       "    <tr>\n",
       "      <th>27564</th>\n",
       "      <td>p</td>\n",
       "      <td>7.07</td>\n",
       "      <td>x</td>\n",
       "      <td>d</td>\n",
       "      <td>e</td>\n",
       "      <td>t</td>\n",
       "      <td>d</td>\n",
       "      <td>c</td>\n",
       "      <td>n</td>\n",
       "      <td>7.74</td>\n",
       "      <td>10.31</td>\n",
       "      <td>s</td>\n",
       "      <td>n</td>\n",
       "      <td>f</td>\n",
       "      <td>f</td>\n",
       "      <td>d</td>\n",
       "      <td>a</td>\n",
       "    </tr>\n",
       "  </tbody>\n",
       "</table>\n",
       "</div>"
      ],
      "text/plain": [
       "      class  cap-diameter cap-shape cap-surface cap-color  \\\n",
       "55342     e          5.06         o           l         n   \n",
       "25249     e         17.94         s           t         k   \n",
       "49675     e          6.40         x           d         y   \n",
       "58489     e         48.63         o           y         y   \n",
       "27564     p          7.07         x           d         e   \n",
       "\n",
       "      does-bruise-or-bleed gill-attachment gill-spacing gill-color  \\\n",
       "55342                    f               f            f          f   \n",
       "25249                    f               a            d          k   \n",
       "49675                    t               p            c          y   \n",
       "58489                    f               p            c          y   \n",
       "27564                    t               d            c          n   \n",
       "\n",
       "       stem-height  stem-width stem-surface stem-color has-ring ring-type  \\\n",
       "55342         7.04       57.99            s          n        f         f   \n",
       "25249         6.92       25.64            s          w        f         f   \n",
       "49675         7.34       13.07            s          y        f         f   \n",
       "58489         5.35       17.66            k          k        f         f   \n",
       "27564         7.74       10.31            s          n        f         f   \n",
       "\n",
       "      habitat season  \n",
       "55342       d      a  \n",
       "25249       d      w  \n",
       "49675       d      u  \n",
       "58489       d      u  \n",
       "27564       d      a  "
      ]
     },
     "execution_count": 17,
     "metadata": {},
     "output_type": "execute_result"
    }
   ],
   "source": [
    "# Print the first 5 rows of the test set\n",
    "test_set.head(5)"
   ]
  },
  {
   "cell_type": "markdown",
   "id": "d47ccb8c-b598-4fd6-8d8d-c9230561914c",
   "metadata": {},
   "source": [
    "## Tree with min_samples = 300 and max_depth = 5"
   ]
  },
  {
   "cell_type": "code",
   "execution_count": 18,
   "id": "3f347ab8-7e09-414f-b007-09122023d2b2",
   "metadata": {},
   "outputs": [],
   "source": [
    "# Load the algorithm with the train_set (aprox. it last 1400 secs.)\n",
    "tree = TreePredictor(data = train_set, counter = 0, min_samples = 300, max_depth = 5).tree_predictor()"
   ]
  },
  {
   "cell_type": "code",
   "execution_count": 19,
   "id": "309af6a0-56a4-478f-9b2d-29158b572955",
   "metadata": {},
   "outputs": [
    {
     "name": "stdout",
     "output_type": "stream",
     "text": [
      "{'stem-width <= 8.55 (gini: 0.49, n: 42646)': [{'gill-spacing = d (gini: 0.42, n: 18651)': [{'stem-height <= 3.61 (gini: 0.4, n: 3006)': [{'stem-width <= 3.01 (gini: 0.2, n: 802)': [{'cap-shape = b (gini: 0.02, n: 642)': ['e', 'p']}, 'e']}, {'cap-surface = l (gini: 0.26, n: 2204)': ['p', {'stem-surface = h (gini: 0.1, n: 1955)': ['p', 'e']}]}]}, {'stem-color = w (gini: 0.37, n: 15645)': [{'has-ring = t (gini: 0.48, n: 4201)': [{'gill-attachment = x (gini: 0.1, n: 743)': ['e', 'p']}, {'cap-surface = i (gini: 0.47, n: 3458)': ['p', 'e']}]}, {'cap-shape = c (gini: 0.29, n: 11444)': [{'stem-width <= 1.88 (gini: 0.45, n: 500)': ['e', 'p']}, {'ring-type = r (gini: 0.26, n: 10944)': ['e', 'p']}]}]}]}, {'stem-surface = g (gini: 0.49, n: 23995)': ['p', {'cap-color = r (gini: 0.49, n: 23152)': [{'cap-surface = s (gini: 0.12, n: 938)': ['p', {'gill-color = r (gini: 0.02, n: 793)': ['e', 'p']}]}, {'ring-type = z (gini: 0.48, n: 22214)': ['p', 'e']}]}]}]}\n"
     ]
    }
   ],
   "source": [
    "# Run the tree predictor algorithm with the train set\n",
    "print(tree)"
   ]
  },
  {
   "cell_type": "code",
   "execution_count": 20,
   "id": "e0211e2b-591f-4420-96b5-552ad68e1420",
   "metadata": {},
   "outputs": [
    {
     "name": "stdout",
     "output_type": "stream",
     "text": [
      "{'stem-width <= 8.55 (gini: 0.49, n: 42646)': [{'gill-spacing = d (gini: 0.42, n: 18651)': [{'stem-height <= 3.61 (gini: 0.4, n: 3006)': [{'stem-width <= 3.01 (gini: 0.2, n: 802)': [{'cap-shape = b (gini: 0.02, n: 642)': ['e',\n",
      "                                                                                                                                                                                                                              'p']},\n",
      "                                                                                                                                                                                      'e']},\n",
      "                                                                                                                                          {'cap-surface = l (gini: 0.26, n: 2204)': ['p',\n",
      "                                                                                                                                                                                     {'stem-surface = h (gini: 0.1, n: 1955)': ['p',\n",
      "                                                                                                                                                                                                                                'e']}]}]},\n",
      "                                                                                            {'stem-color = w (gini: 0.37, n: 15645)': [{'has-ring = t (gini: 0.48, n: 4201)': [{'gill-attachment = x (gini: 0.1, n: 743)': ['e',\n",
      "                                                                                                                                                                                                                            'p']},\n",
      "                                                                                                                                                                               {'cap-surface = i (gini: 0.47, n: 3458)': ['p',\n",
      "                                                                                                                                                                                                                          'e']}]},\n",
      "                                                                                                                                       {'cap-shape = c (gini: 0.29, n: 11444)': [{'stem-width <= 1.88 (gini: 0.45, n: 500)': ['e',\n",
      "                                                                                                                                                                                                                              'p']},\n",
      "                                                                                                                                                                                 {'ring-type = r (gini: 0.26, n: 10944)': ['e',\n",
      "                                                                                                                                                                                                                           'p']}]}]}]},\n",
      "                                               {'stem-surface = g (gini: 0.49, n: 23995)': ['p',\n",
      "                                                                                            {'cap-color = r (gini: 0.49, n: 23152)': [{'cap-surface = s (gini: 0.12, n: 938)': ['p',\n",
      "                                                                                                                                                                                {'gill-color = r (gini: 0.02, n: 793)': ['e',\n",
      "                                                                                                                                                                                                                         'p']}]},\n",
      "                                                                                                                                      {'ring-type = z (gini: 0.48, n: 22214)': ['p',\n",
      "                                                                                                                                                                                'e']}]}]}]}\n"
     ]
    }
   ],
   "source": [
    "pprint(tree)"
   ]
  },
  {
   "cell_type": "markdown",
   "id": "a8abc521-a727-4fb4-94cd-8fd425b5d004",
   "metadata": {},
   "source": [
    "### Accuracy"
   ]
  },
  {
   "cell_type": "code",
   "execution_count": 21,
   "id": "483dc514-08b5-44f8-94ac-64557eddb3a2",
   "metadata": {},
   "outputs": [],
   "source": [
    "accuracy_test = TreeAccuracy(test_set, tree)"
   ]
  },
  {
   "cell_type": "code",
   "execution_count": 22,
   "id": "b9fe2cc2-a02e-41f5-b480-0df8f7a666b9",
   "metadata": {},
   "outputs": [],
   "source": [
    "accuracy = accuracy_test.tree_accuracy()"
   ]
  },
  {
   "cell_type": "code",
   "execution_count": 23,
   "id": "57d28527-1181-4890-be53-3b410cf4d869",
   "metadata": {},
   "outputs": [
    {
     "data": {
      "text/plain": [
       "0.7319581988291295"
      ]
     },
     "execution_count": 23,
     "metadata": {},
     "output_type": "execute_result"
    }
   ],
   "source": [
    "accuracy"
   ]
  },
  {
   "cell_type": "markdown",
   "id": "4cb6bc0b-1c6b-4162-ac17-ef0e96a15578",
   "metadata": {},
   "source": [
    "## Tree with min_samples = 300 and max_depth = 3"
   ]
  },
  {
   "cell_type": "code",
   "execution_count": 24,
   "id": "ac9becbd-db70-4a77-af9b-002b46ac99c0",
   "metadata": {},
   "outputs": [],
   "source": [
    "# Load the algorithm with the train_set\n",
    "tree_2 = TreePredictor(data = train_set, counter = 0, min_samples = 300, max_depth = 3).tree_predictor()"
   ]
  },
  {
   "cell_type": "code",
   "execution_count": 25,
   "id": "4369d42f-e845-463c-9062-455f037abacf",
   "metadata": {},
   "outputs": [
    {
     "name": "stdout",
     "output_type": "stream",
     "text": [
      "{'stem-width <= 8.55 (gini: 0.49, n: 42646)': [{'gill-spacing = d (gini: 0.42, n: 18651)': [{'stem-height <= 3.61 (gini: 0.4, n: 3006)': ['p', 'e']}, 'p']}, {'stem-surface = g (gini: 0.49, n: 23995)': ['p', {'cap-color = r (gini: 0.49, n: 23152)': ['p', 'e']}]}]}\n"
     ]
    }
   ],
   "source": [
    "# Run the tree predictor algorithm with the train set\n",
    "print(tree_2)"
   ]
  },
  {
   "cell_type": "code",
   "execution_count": 26,
   "id": "b3ea694b-1493-4c35-9217-7bc4c79f46a2",
   "metadata": {},
   "outputs": [
    {
     "name": "stdout",
     "output_type": "stream",
     "text": [
      "{'stem-width <= 8.55 (gini: 0.49, n: 42646)': [{'gill-spacing = d (gini: 0.42, n: 18651)': [{'stem-height <= 3.61 (gini: 0.4, n: 3006)': ['p',\n",
      "                                                                                                                                          'e']},\n",
      "                                                                                            'p']},\n",
      "                                               {'stem-surface = g (gini: 0.49, n: 23995)': ['p',\n",
      "                                                                                            {'cap-color = r (gini: 0.49, n: 23152)': ['p',\n",
      "                                                                                                                                      'e']}]}]}\n"
     ]
    }
   ],
   "source": [
    "pprint(tree_2)"
   ]
  },
  {
   "cell_type": "markdown",
   "id": "aa977793-3a4b-4036-bab7-6c2d5ebad670",
   "metadata": {},
   "source": [
    "### Accuracy"
   ]
  },
  {
   "cell_type": "code",
   "execution_count": 27,
   "id": "7e06b5c4-537a-4b37-8f76-86e5b6505de5",
   "metadata": {},
   "outputs": [],
   "source": [
    "accuracy_test_2 = TreeAccuracy(test_set, tree_2)"
   ]
  },
  {
   "cell_type": "code",
   "execution_count": 28,
   "id": "c37c41e4-fe07-4435-9592-79720ce2c936",
   "metadata": {},
   "outputs": [],
   "source": [
    "accuracy_2 = accuracy_test_2.tree_accuracy()"
   ]
  },
  {
   "cell_type": "code",
   "execution_count": 29,
   "id": "55ddc8be-ec77-485d-a484-a7d183e01f3f",
   "metadata": {},
   "outputs": [
    {
     "data": {
      "text/plain": [
       "0.6785577501778192"
      ]
     },
     "execution_count": 29,
     "metadata": {},
     "output_type": "execute_result"
    }
   ],
   "source": [
    "accuracy_2"
   ]
  },
  {
   "cell_type": "markdown",
   "id": "61bfd867-d9a0-4046-9485-7220e4cd5a2d",
   "metadata": {},
   "source": [
    "## Tree with min_samples = 500 and max_depth = 5"
   ]
  },
  {
   "cell_type": "code",
   "execution_count": 30,
   "id": "804c20b8-8bf8-471d-9daa-84e60c3f9951",
   "metadata": {},
   "outputs": [],
   "source": [
    "# Load the algorithm with the train_set\n",
    "tree_3 = TreePredictor(data = train_set, counter = 0, min_samples = 500, max_depth = 5).tree_predictor()"
   ]
  },
  {
   "cell_type": "code",
   "execution_count": 31,
   "id": "a9ce5242-399f-4da6-bf85-f6a906669a57",
   "metadata": {},
   "outputs": [
    {
     "name": "stdout",
     "output_type": "stream",
     "text": [
      "{'stem-width <= 8.55 (gini: 0.49, n: 42646)': [{'gill-spacing = d (gini: 0.42, n: 18651)': [{'stem-height <= 3.61 (gini: 0.4, n: 3006)': [{'stem-width <= 3.01 (gini: 0.2, n: 802)': [{'cap-shape = b (gini: 0.02, n: 642)': ['e', 'p']}, 'e']}, {'cap-surface = l (gini: 0.26, n: 2204)': ['p', {'stem-surface = h (gini: 0.1, n: 1955)': ['p', 'e']}]}]}, {'stem-color = w (gini: 0.37, n: 15645)': [{'has-ring = t (gini: 0.48, n: 4201)': [{'gill-attachment = x (gini: 0.1, n: 743)': ['e', 'p']}, {'cap-surface = i (gini: 0.47, n: 3458)': ['p', 'e']}]}, {'cap-shape = c (gini: 0.29, n: 11444)': [{'stem-width <= 1.88 (gini: 0.45, n: 500)': ['e', 'p']}, {'ring-type = r (gini: 0.26, n: 10944)': ['e', 'p']}]}]}]}, {'stem-surface = g (gini: 0.49, n: 23995)': ['p', {'cap-color = r (gini: 0.49, n: 23152)': [{'cap-surface = s (gini: 0.12, n: 938)': ['p', {'gill-color = r (gini: 0.02, n: 793)': ['e', 'p']}]}, {'ring-type = z (gini: 0.48, n: 22214)': ['p', 'e']}]}]}]}\n"
     ]
    }
   ],
   "source": [
    "# Run the tree predictor algorithm with the train set\n",
    "print(tree_3)"
   ]
  },
  {
   "cell_type": "code",
   "execution_count": 32,
   "id": "8054bef5-1529-4fd7-b6f1-599f4e45312d",
   "metadata": {},
   "outputs": [
    {
     "name": "stdout",
     "output_type": "stream",
     "text": [
      "{'stem-width <= 8.55 (gini: 0.49, n: 42646)': [{'gill-spacing = d (gini: 0.42, n: 18651)': [{'stem-height <= 3.61 (gini: 0.4, n: 3006)': [{'stem-width <= 3.01 (gini: 0.2, n: 802)': [{'cap-shape = b (gini: 0.02, n: 642)': ['e',\n",
      "                                                                                                                                                                                                                              'p']},\n",
      "                                                                                                                                                                                      'e']},\n",
      "                                                                                                                                          {'cap-surface = l (gini: 0.26, n: 2204)': ['p',\n",
      "                                                                                                                                                                                     {'stem-surface = h (gini: 0.1, n: 1955)': ['p',\n",
      "                                                                                                                                                                                                                                'e']}]}]},\n",
      "                                                                                            {'stem-color = w (gini: 0.37, n: 15645)': [{'has-ring = t (gini: 0.48, n: 4201)': [{'gill-attachment = x (gini: 0.1, n: 743)': ['e',\n",
      "                                                                                                                                                                                                                            'p']},\n",
      "                                                                                                                                                                               {'cap-surface = i (gini: 0.47, n: 3458)': ['p',\n",
      "                                                                                                                                                                                                                          'e']}]},\n",
      "                                                                                                                                       {'cap-shape = c (gini: 0.29, n: 11444)': [{'stem-width <= 1.88 (gini: 0.45, n: 500)': ['e',\n",
      "                                                                                                                                                                                                                              'p']},\n",
      "                                                                                                                                                                                 {'ring-type = r (gini: 0.26, n: 10944)': ['e',\n",
      "                                                                                                                                                                                                                           'p']}]}]}]},\n",
      "                                               {'stem-surface = g (gini: 0.49, n: 23995)': ['p',\n",
      "                                                                                            {'cap-color = r (gini: 0.49, n: 23152)': [{'cap-surface = s (gini: 0.12, n: 938)': ['p',\n",
      "                                                                                                                                                                                {'gill-color = r (gini: 0.02, n: 793)': ['e',\n",
      "                                                                                                                                                                                                                         'p']}]},\n",
      "                                                                                                                                      {'ring-type = z (gini: 0.48, n: 22214)': ['p',\n",
      "                                                                                                                                                                                'e']}]}]}]}\n"
     ]
    }
   ],
   "source": [
    "pprint(tree_3)"
   ]
  },
  {
   "cell_type": "markdown",
   "id": "2e3f8502-eece-4767-919f-58bb0c1da338",
   "metadata": {},
   "source": [
    "### Accuracy"
   ]
  },
  {
   "cell_type": "code",
   "execution_count": 33,
   "id": "88b16594-f6cc-4cb4-8f96-df4f116d66d7",
   "metadata": {},
   "outputs": [],
   "source": [
    "accuracy_test_3 = TreeAccuracy(test_set, tree_3)"
   ]
  },
  {
   "cell_type": "code",
   "execution_count": 34,
   "id": "fee984b3-6acb-4ae1-9d56-fe024fac928e",
   "metadata": {},
   "outputs": [],
   "source": [
    "accuracy_3 = accuracy_test_3.tree_accuracy()"
   ]
  },
  {
   "cell_type": "code",
   "execution_count": 35,
   "id": "18c16f0c-6e48-4889-9b2c-6e5c5afdb0e5",
   "metadata": {},
   "outputs": [
    {
     "data": {
      "text/plain": [
       "0.7319581988291295"
      ]
     },
     "execution_count": 35,
     "metadata": {},
     "output_type": "execute_result"
    }
   ],
   "source": [
    "accuracy_3"
   ]
  },
  {
   "cell_type": "markdown",
   "id": "8602863e-ec60-4bed-a4fe-e83a5ad5c431",
   "metadata": {},
   "source": [
    "## Tree with min_samples = 500 and max_depth = 3"
   ]
  },
  {
   "cell_type": "code",
   "execution_count": 36,
   "id": "a16386d9-de40-471c-b487-64be8a7e3229",
   "metadata": {},
   "outputs": [],
   "source": [
    "# Load the algorithm with the train_set\n",
    "tree_4 = TreePredictor(data = train_set, counter = 0, min_samples = 500, max_depth = 3).tree_predictor()"
   ]
  },
  {
   "cell_type": "code",
   "execution_count": 37,
   "id": "10eb2d7b-f33b-479e-9af3-38e714389090",
   "metadata": {},
   "outputs": [
    {
     "name": "stdout",
     "output_type": "stream",
     "text": [
      "{'stem-width <= 8.55 (gini: 0.49, n: 42646)': [{'gill-spacing = d (gini: 0.42, n: 18651)': [{'stem-height <= 3.61 (gini: 0.4, n: 3006)': ['p', 'e']}, 'p']}, {'stem-surface = g (gini: 0.49, n: 23995)': ['p', {'cap-color = r (gini: 0.49, n: 23152)': ['p', 'e']}]}]}\n"
     ]
    }
   ],
   "source": [
    "# Run the tree predictor algorithm with the train set\n",
    "print(tree_4)"
   ]
  },
  {
   "cell_type": "code",
   "execution_count": 38,
   "id": "f0ded435-437f-4483-8b10-a1ac39b406cb",
   "metadata": {},
   "outputs": [
    {
     "name": "stdout",
     "output_type": "stream",
     "text": [
      "{'stem-width <= 8.55 (gini: 0.49, n: 42646)': [{'gill-spacing = d (gini: 0.42, n: 18651)': [{'stem-height <= 3.61 (gini: 0.4, n: 3006)': ['p',\n",
      "                                                                                                                                          'e']},\n",
      "                                                                                            'p']},\n",
      "                                               {'stem-surface = g (gini: 0.49, n: 23995)': ['p',\n",
      "                                                                                            {'cap-color = r (gini: 0.49, n: 23152)': ['p',\n",
      "                                                                                                                                      'e']}]}]}\n"
     ]
    }
   ],
   "source": [
    "pprint(tree_4)"
   ]
  },
  {
   "cell_type": "markdown",
   "id": "437bd06c-4f28-460f-8d23-69d4e458d0b7",
   "metadata": {},
   "source": [
    "### Accuracy"
   ]
  },
  {
   "cell_type": "code",
   "execution_count": 39,
   "id": "a37e37e7-d595-49e0-9c2f-ce1eb0a6711f",
   "metadata": {},
   "outputs": [],
   "source": [
    "accuracy_test_4 = TreeAccuracy(test_set, tree_4)"
   ]
  },
  {
   "cell_type": "code",
   "execution_count": 40,
   "id": "dcc42907-feb2-4890-bfea-3602a4cd48e5",
   "metadata": {},
   "outputs": [],
   "source": [
    "accuracy_4 = accuracy_test_4.tree_accuracy()"
   ]
  },
  {
   "cell_type": "code",
   "execution_count": 41,
   "id": "a744b358-c576-422d-9c9d-7763cb7ab017",
   "metadata": {},
   "outputs": [
    {
     "data": {
      "text/plain": [
       "0.6785577501778192"
      ]
     },
     "execution_count": 41,
     "metadata": {},
     "output_type": "execute_result"
    }
   ],
   "source": [
    "accuracy_4"
   ]
  }
 ],
 "metadata": {
  "kernelspec": {
   "display_name": "Python 3 (ipykernel)",
   "language": "python",
   "name": "python3"
  },
  "language_info": {
   "codemirror_mode": {
    "name": "ipython",
    "version": 3
   },
   "file_extension": ".py",
   "mimetype": "text/x-python",
   "name": "python",
   "nbconvert_exporter": "python",
   "pygments_lexer": "ipython3",
   "version": "3.11.0"
  }
 },
 "nbformat": 4,
 "nbformat_minor": 5
}
