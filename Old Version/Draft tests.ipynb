{
 "cells": [
  {
   "cell_type": "code",
   "execution_count": 1,
   "id": "b9a3e31d-c366-47e5-93ce-b2ef3990d4fe",
   "metadata": {},
   "outputs": [],
   "source": [
    "import pandas as pd\n",
    "import numpy as np\n",
    "from pprint import pprint\n",
    "\n",
    "from data import Mushrooms_dataset\n",
    "from train_test_split import TrainTestSplit\n",
    "from gini import Gini"
   ]
  },
  {
   "cell_type": "markdown",
   "id": "03311bb5-6498-4f17-8485-4f84700c9d3c",
   "metadata": {
    "jp-MarkdownHeadingCollapsed": true
   },
   "source": [
    "## Split data into train and test"
   ]
  },
  {
   "cell_type": "code",
   "execution_count": 2,
   "id": "98620ca0-275d-4914-9d75-34502338fdbe",
   "metadata": {},
   "outputs": [],
   "source": [
    "# Import primary_data dataset\n",
    "path = 'Datasets'\n",
    "\n",
    "data = Mushrooms_dataset(path)\n",
    "\n",
    "df_mushrooms = data.dataset"
   ]
  },
  {
   "cell_type": "code",
   "execution_count": 3,
   "id": "9e5d693f-8e56-47b2-b38a-08df31b0c565",
   "metadata": {},
   "outputs": [
    {
     "data": {
      "text/html": [
       "<div>\n",
       "<style scoped>\n",
       "    .dataframe tbody tr th:only-of-type {\n",
       "        vertical-align: middle;\n",
       "    }\n",
       "\n",
       "    .dataframe tbody tr th {\n",
       "        vertical-align: top;\n",
       "    }\n",
       "\n",
       "    .dataframe thead th {\n",
       "        text-align: right;\n",
       "    }\n",
       "</style>\n",
       "<table border=\"1\" class=\"dataframe\">\n",
       "  <thead>\n",
       "    <tr style=\"text-align: right;\">\n",
       "      <th></th>\n",
       "      <th>class</th>\n",
       "      <th>cap-diameter</th>\n",
       "      <th>cap-shape</th>\n",
       "      <th>cap-surface</th>\n",
       "      <th>cap-color</th>\n",
       "      <th>does-bruise-or-bleed</th>\n",
       "      <th>gill-attachment</th>\n",
       "      <th>gill-spacing</th>\n",
       "      <th>gill-color</th>\n",
       "      <th>stem-height</th>\n",
       "      <th>...</th>\n",
       "      <th>stem-root</th>\n",
       "      <th>stem-surface</th>\n",
       "      <th>stem-color</th>\n",
       "      <th>veil-type</th>\n",
       "      <th>veil-color</th>\n",
       "      <th>has-ring</th>\n",
       "      <th>ring-type</th>\n",
       "      <th>spore-print-color</th>\n",
       "      <th>habitat</th>\n",
       "      <th>season</th>\n",
       "    </tr>\n",
       "  </thead>\n",
       "  <tbody>\n",
       "    <tr>\n",
       "      <th>0</th>\n",
       "      <td>p</td>\n",
       "      <td>15.26</td>\n",
       "      <td>x</td>\n",
       "      <td>g</td>\n",
       "      <td>o</td>\n",
       "      <td>f</td>\n",
       "      <td>e</td>\n",
       "      <td>na</td>\n",
       "      <td>w</td>\n",
       "      <td>16.95</td>\n",
       "      <td>...</td>\n",
       "      <td>s</td>\n",
       "      <td>y</td>\n",
       "      <td>w</td>\n",
       "      <td>u</td>\n",
       "      <td>w</td>\n",
       "      <td>t</td>\n",
       "      <td>g</td>\n",
       "      <td>na</td>\n",
       "      <td>d</td>\n",
       "      <td>w</td>\n",
       "    </tr>\n",
       "    <tr>\n",
       "      <th>1</th>\n",
       "      <td>p</td>\n",
       "      <td>16.60</td>\n",
       "      <td>x</td>\n",
       "      <td>g</td>\n",
       "      <td>o</td>\n",
       "      <td>f</td>\n",
       "      <td>e</td>\n",
       "      <td>na</td>\n",
       "      <td>w</td>\n",
       "      <td>17.99</td>\n",
       "      <td>...</td>\n",
       "      <td>s</td>\n",
       "      <td>y</td>\n",
       "      <td>w</td>\n",
       "      <td>u</td>\n",
       "      <td>w</td>\n",
       "      <td>t</td>\n",
       "      <td>g</td>\n",
       "      <td>na</td>\n",
       "      <td>d</td>\n",
       "      <td>u</td>\n",
       "    </tr>\n",
       "    <tr>\n",
       "      <th>2</th>\n",
       "      <td>p</td>\n",
       "      <td>14.07</td>\n",
       "      <td>x</td>\n",
       "      <td>g</td>\n",
       "      <td>o</td>\n",
       "      <td>f</td>\n",
       "      <td>e</td>\n",
       "      <td>na</td>\n",
       "      <td>w</td>\n",
       "      <td>17.80</td>\n",
       "      <td>...</td>\n",
       "      <td>s</td>\n",
       "      <td>y</td>\n",
       "      <td>w</td>\n",
       "      <td>u</td>\n",
       "      <td>w</td>\n",
       "      <td>t</td>\n",
       "      <td>g</td>\n",
       "      <td>na</td>\n",
       "      <td>d</td>\n",
       "      <td>w</td>\n",
       "    </tr>\n",
       "    <tr>\n",
       "      <th>3</th>\n",
       "      <td>p</td>\n",
       "      <td>14.17</td>\n",
       "      <td>f</td>\n",
       "      <td>h</td>\n",
       "      <td>e</td>\n",
       "      <td>f</td>\n",
       "      <td>e</td>\n",
       "      <td>na</td>\n",
       "      <td>w</td>\n",
       "      <td>15.77</td>\n",
       "      <td>...</td>\n",
       "      <td>s</td>\n",
       "      <td>y</td>\n",
       "      <td>w</td>\n",
       "      <td>u</td>\n",
       "      <td>w</td>\n",
       "      <td>t</td>\n",
       "      <td>p</td>\n",
       "      <td>na</td>\n",
       "      <td>d</td>\n",
       "      <td>w</td>\n",
       "    </tr>\n",
       "    <tr>\n",
       "      <th>4</th>\n",
       "      <td>p</td>\n",
       "      <td>14.64</td>\n",
       "      <td>x</td>\n",
       "      <td>h</td>\n",
       "      <td>o</td>\n",
       "      <td>f</td>\n",
       "      <td>e</td>\n",
       "      <td>na</td>\n",
       "      <td>w</td>\n",
       "      <td>16.53</td>\n",
       "      <td>...</td>\n",
       "      <td>s</td>\n",
       "      <td>y</td>\n",
       "      <td>w</td>\n",
       "      <td>u</td>\n",
       "      <td>w</td>\n",
       "      <td>t</td>\n",
       "      <td>p</td>\n",
       "      <td>na</td>\n",
       "      <td>d</td>\n",
       "      <td>w</td>\n",
       "    </tr>\n",
       "  </tbody>\n",
       "</table>\n",
       "<p>5 rows × 21 columns</p>\n",
       "</div>"
      ],
      "text/plain": [
       "  class  cap-diameter cap-shape cap-surface cap-color does-bruise-or-bleed  \\\n",
       "0     p         15.26         x           g         o                    f   \n",
       "1     p         16.60         x           g         o                    f   \n",
       "2     p         14.07         x           g         o                    f   \n",
       "3     p         14.17         f           h         e                    f   \n",
       "4     p         14.64         x           h         o                    f   \n",
       "\n",
       "  gill-attachment gill-spacing gill-color  stem-height  ...  stem-root  \\\n",
       "0               e           na          w        16.95  ...          s   \n",
       "1               e           na          w        17.99  ...          s   \n",
       "2               e           na          w        17.80  ...          s   \n",
       "3               e           na          w        15.77  ...          s   \n",
       "4               e           na          w        16.53  ...          s   \n",
       "\n",
       "  stem-surface stem-color veil-type veil-color has-ring ring-type  \\\n",
       "0            y          w         u          w        t         g   \n",
       "1            y          w         u          w        t         g   \n",
       "2            y          w         u          w        t         g   \n",
       "3            y          w         u          w        t         p   \n",
       "4            y          w         u          w        t         p   \n",
       "\n",
       "  spore-print-color habitat season  \n",
       "0                na       d      w  \n",
       "1                na       d      u  \n",
       "2                na       d      w  \n",
       "3                na       d      w  \n",
       "4                na       d      w  \n",
       "\n",
       "[5 rows x 21 columns]"
      ]
     },
     "execution_count": 3,
     "metadata": {},
     "output_type": "execute_result"
    }
   ],
   "source": [
    "df_mushrooms.head(5)"
   ]
  },
  {
   "cell_type": "code",
   "execution_count": 4,
   "id": "e1195e7f-1c3b-4388-96b9-e5f54cab2c65",
   "metadata": {},
   "outputs": [],
   "source": [
    "# Split dataset into traint_set adn test_set\n",
    "train_set, test_set = TrainTestSplit(data = df_mushrooms, test_size = 0.3, seed = 0).split()"
   ]
  },
  {
   "cell_type": "code",
   "execution_count": 5,
   "id": "8af18927-f2ae-4be4-92c7-5d01e2752e0c",
   "metadata": {},
   "outputs": [
    {
     "data": {
      "text/html": [
       "<div>\n",
       "<style scoped>\n",
       "    .dataframe tbody tr th:only-of-type {\n",
       "        vertical-align: middle;\n",
       "    }\n",
       "\n",
       "    .dataframe tbody tr th {\n",
       "        vertical-align: top;\n",
       "    }\n",
       "\n",
       "    .dataframe thead th {\n",
       "        text-align: right;\n",
       "    }\n",
       "</style>\n",
       "<table border=\"1\" class=\"dataframe\">\n",
       "  <thead>\n",
       "    <tr style=\"text-align: right;\">\n",
       "      <th></th>\n",
       "      <th>class</th>\n",
       "      <th>cap-diameter</th>\n",
       "      <th>cap-shape</th>\n",
       "      <th>cap-surface</th>\n",
       "      <th>cap-color</th>\n",
       "      <th>does-bruise-or-bleed</th>\n",
       "      <th>gill-attachment</th>\n",
       "      <th>gill-spacing</th>\n",
       "      <th>gill-color</th>\n",
       "      <th>stem-height</th>\n",
       "      <th>...</th>\n",
       "      <th>stem-root</th>\n",
       "      <th>stem-surface</th>\n",
       "      <th>stem-color</th>\n",
       "      <th>veil-type</th>\n",
       "      <th>veil-color</th>\n",
       "      <th>has-ring</th>\n",
       "      <th>ring-type</th>\n",
       "      <th>spore-print-color</th>\n",
       "      <th>habitat</th>\n",
       "      <th>season</th>\n",
       "    </tr>\n",
       "  </thead>\n",
       "  <tbody>\n",
       "    <tr>\n",
       "      <th>0</th>\n",
       "      <td>p</td>\n",
       "      <td>15.26</td>\n",
       "      <td>x</td>\n",
       "      <td>g</td>\n",
       "      <td>o</td>\n",
       "      <td>f</td>\n",
       "      <td>e</td>\n",
       "      <td>na</td>\n",
       "      <td>w</td>\n",
       "      <td>16.95</td>\n",
       "      <td>...</td>\n",
       "      <td>s</td>\n",
       "      <td>y</td>\n",
       "      <td>w</td>\n",
       "      <td>u</td>\n",
       "      <td>w</td>\n",
       "      <td>t</td>\n",
       "      <td>g</td>\n",
       "      <td>na</td>\n",
       "      <td>d</td>\n",
       "      <td>w</td>\n",
       "    </tr>\n",
       "    <tr>\n",
       "      <th>2</th>\n",
       "      <td>p</td>\n",
       "      <td>14.07</td>\n",
       "      <td>x</td>\n",
       "      <td>g</td>\n",
       "      <td>o</td>\n",
       "      <td>f</td>\n",
       "      <td>e</td>\n",
       "      <td>na</td>\n",
       "      <td>w</td>\n",
       "      <td>17.80</td>\n",
       "      <td>...</td>\n",
       "      <td>s</td>\n",
       "      <td>y</td>\n",
       "      <td>w</td>\n",
       "      <td>u</td>\n",
       "      <td>w</td>\n",
       "      <td>t</td>\n",
       "      <td>g</td>\n",
       "      <td>na</td>\n",
       "      <td>d</td>\n",
       "      <td>w</td>\n",
       "    </tr>\n",
       "    <tr>\n",
       "      <th>3</th>\n",
       "      <td>p</td>\n",
       "      <td>14.17</td>\n",
       "      <td>f</td>\n",
       "      <td>h</td>\n",
       "      <td>e</td>\n",
       "      <td>f</td>\n",
       "      <td>e</td>\n",
       "      <td>na</td>\n",
       "      <td>w</td>\n",
       "      <td>15.77</td>\n",
       "      <td>...</td>\n",
       "      <td>s</td>\n",
       "      <td>y</td>\n",
       "      <td>w</td>\n",
       "      <td>u</td>\n",
       "      <td>w</td>\n",
       "      <td>t</td>\n",
       "      <td>p</td>\n",
       "      <td>na</td>\n",
       "      <td>d</td>\n",
       "      <td>w</td>\n",
       "    </tr>\n",
       "    <tr>\n",
       "      <th>5</th>\n",
       "      <td>p</td>\n",
       "      <td>15.34</td>\n",
       "      <td>x</td>\n",
       "      <td>g</td>\n",
       "      <td>o</td>\n",
       "      <td>f</td>\n",
       "      <td>e</td>\n",
       "      <td>na</td>\n",
       "      <td>w</td>\n",
       "      <td>17.84</td>\n",
       "      <td>...</td>\n",
       "      <td>s</td>\n",
       "      <td>y</td>\n",
       "      <td>w</td>\n",
       "      <td>u</td>\n",
       "      <td>w</td>\n",
       "      <td>t</td>\n",
       "      <td>p</td>\n",
       "      <td>na</td>\n",
       "      <td>d</td>\n",
       "      <td>u</td>\n",
       "    </tr>\n",
       "    <tr>\n",
       "      <th>6</th>\n",
       "      <td>p</td>\n",
       "      <td>14.85</td>\n",
       "      <td>f</td>\n",
       "      <td>h</td>\n",
       "      <td>o</td>\n",
       "      <td>f</td>\n",
       "      <td>e</td>\n",
       "      <td>na</td>\n",
       "      <td>w</td>\n",
       "      <td>17.71</td>\n",
       "      <td>...</td>\n",
       "      <td>s</td>\n",
       "      <td>y</td>\n",
       "      <td>w</td>\n",
       "      <td>u</td>\n",
       "      <td>w</td>\n",
       "      <td>t</td>\n",
       "      <td>g</td>\n",
       "      <td>na</td>\n",
       "      <td>d</td>\n",
       "      <td>w</td>\n",
       "    </tr>\n",
       "  </tbody>\n",
       "</table>\n",
       "<p>5 rows × 21 columns</p>\n",
       "</div>"
      ],
      "text/plain": [
       "  class  cap-diameter cap-shape cap-surface cap-color does-bruise-or-bleed  \\\n",
       "0     p         15.26         x           g         o                    f   \n",
       "2     p         14.07         x           g         o                    f   \n",
       "3     p         14.17         f           h         e                    f   \n",
       "5     p         15.34         x           g         o                    f   \n",
       "6     p         14.85         f           h         o                    f   \n",
       "\n",
       "  gill-attachment gill-spacing gill-color  stem-height  ...  stem-root  \\\n",
       "0               e           na          w        16.95  ...          s   \n",
       "2               e           na          w        17.80  ...          s   \n",
       "3               e           na          w        15.77  ...          s   \n",
       "5               e           na          w        17.84  ...          s   \n",
       "6               e           na          w        17.71  ...          s   \n",
       "\n",
       "  stem-surface stem-color veil-type veil-color has-ring ring-type  \\\n",
       "0            y          w         u          w        t         g   \n",
       "2            y          w         u          w        t         g   \n",
       "3            y          w         u          w        t         p   \n",
       "5            y          w         u          w        t         p   \n",
       "6            y          w         u          w        t         g   \n",
       "\n",
       "  spore-print-color habitat season  \n",
       "0                na       d      w  \n",
       "2                na       d      w  \n",
       "3                na       d      w  \n",
       "5                na       d      u  \n",
       "6                na       d      w  \n",
       "\n",
       "[5 rows x 21 columns]"
      ]
     },
     "execution_count": 5,
     "metadata": {},
     "output_type": "execute_result"
    }
   ],
   "source": [
    "train_set.head(5)"
   ]
  },
  {
   "cell_type": "code",
   "execution_count": 6,
   "id": "25164790-4ef2-48df-aae4-35f6e5236e7d",
   "metadata": {},
   "outputs": [
    {
     "data": {
      "text/html": [
       "<div>\n",
       "<style scoped>\n",
       "    .dataframe tbody tr th:only-of-type {\n",
       "        vertical-align: middle;\n",
       "    }\n",
       "\n",
       "    .dataframe tbody tr th {\n",
       "        vertical-align: top;\n",
       "    }\n",
       "\n",
       "    .dataframe thead th {\n",
       "        text-align: right;\n",
       "    }\n",
       "</style>\n",
       "<table border=\"1\" class=\"dataframe\">\n",
       "  <thead>\n",
       "    <tr style=\"text-align: right;\">\n",
       "      <th></th>\n",
       "      <th>class</th>\n",
       "      <th>cap-diameter</th>\n",
       "      <th>cap-shape</th>\n",
       "      <th>cap-surface</th>\n",
       "      <th>cap-color</th>\n",
       "      <th>does-bruise-or-bleed</th>\n",
       "      <th>gill-attachment</th>\n",
       "      <th>gill-spacing</th>\n",
       "      <th>gill-color</th>\n",
       "      <th>stem-height</th>\n",
       "      <th>...</th>\n",
       "      <th>stem-root</th>\n",
       "      <th>stem-surface</th>\n",
       "      <th>stem-color</th>\n",
       "      <th>veil-type</th>\n",
       "      <th>veil-color</th>\n",
       "      <th>has-ring</th>\n",
       "      <th>ring-type</th>\n",
       "      <th>spore-print-color</th>\n",
       "      <th>habitat</th>\n",
       "      <th>season</th>\n",
       "    </tr>\n",
       "  </thead>\n",
       "  <tbody>\n",
       "    <tr>\n",
       "      <th>55340</th>\n",
       "      <td>e</td>\n",
       "      <td>4.71</td>\n",
       "      <td>o</td>\n",
       "      <td>l</td>\n",
       "      <td>n</td>\n",
       "      <td>f</td>\n",
       "      <td>f</td>\n",
       "      <td>f</td>\n",
       "      <td>f</td>\n",
       "      <td>8.02</td>\n",
       "      <td>...</td>\n",
       "      <td>na</td>\n",
       "      <td>na</td>\n",
       "      <td>n</td>\n",
       "      <td>na</td>\n",
       "      <td>na</td>\n",
       "      <td>f</td>\n",
       "      <td>f</td>\n",
       "      <td>g</td>\n",
       "      <td>d</td>\n",
       "      <td>u</td>\n",
       "    </tr>\n",
       "    <tr>\n",
       "      <th>25247</th>\n",
       "      <td>e</td>\n",
       "      <td>15.24</td>\n",
       "      <td>x</td>\n",
       "      <td>t</td>\n",
       "      <td>n</td>\n",
       "      <td>f</td>\n",
       "      <td>a</td>\n",
       "      <td>d</td>\n",
       "      <td>k</td>\n",
       "      <td>8.43</td>\n",
       "      <td>...</td>\n",
       "      <td>na</td>\n",
       "      <td>na</td>\n",
       "      <td>w</td>\n",
       "      <td>na</td>\n",
       "      <td>na</td>\n",
       "      <td>f</td>\n",
       "      <td>f</td>\n",
       "      <td>w</td>\n",
       "      <td>d</td>\n",
       "      <td>w</td>\n",
       "    </tr>\n",
       "    <tr>\n",
       "      <th>49673</th>\n",
       "      <td>e</td>\n",
       "      <td>5.24</td>\n",
       "      <td>x</td>\n",
       "      <td>d</td>\n",
       "      <td>n</td>\n",
       "      <td>t</td>\n",
       "      <td>p</td>\n",
       "      <td>na</td>\n",
       "      <td>y</td>\n",
       "      <td>6.46</td>\n",
       "      <td>...</td>\n",
       "      <td>na</td>\n",
       "      <td>na</td>\n",
       "      <td>y</td>\n",
       "      <td>na</td>\n",
       "      <td>na</td>\n",
       "      <td>f</td>\n",
       "      <td>f</td>\n",
       "      <td>na</td>\n",
       "      <td>d</td>\n",
       "      <td>a</td>\n",
       "    </tr>\n",
       "    <tr>\n",
       "      <th>58343</th>\n",
       "      <td>e</td>\n",
       "      <td>52.81</td>\n",
       "      <td>o</td>\n",
       "      <td>y</td>\n",
       "      <td>y</td>\n",
       "      <td>f</td>\n",
       "      <td>p</td>\n",
       "      <td>na</td>\n",
       "      <td>y</td>\n",
       "      <td>7.84</td>\n",
       "      <td>...</td>\n",
       "      <td>na</td>\n",
       "      <td>k</td>\n",
       "      <td>k</td>\n",
       "      <td>na</td>\n",
       "      <td>na</td>\n",
       "      <td>f</td>\n",
       "      <td>f</td>\n",
       "      <td>na</td>\n",
       "      <td>d</td>\n",
       "      <td>u</td>\n",
       "    </tr>\n",
       "    <tr>\n",
       "      <th>27562</th>\n",
       "      <td>p</td>\n",
       "      <td>5.05</td>\n",
       "      <td>s</td>\n",
       "      <td>d</td>\n",
       "      <td>e</td>\n",
       "      <td>t</td>\n",
       "      <td>d</td>\n",
       "      <td>c</td>\n",
       "      <td>w</td>\n",
       "      <td>5.89</td>\n",
       "      <td>...</td>\n",
       "      <td>na</td>\n",
       "      <td>na</td>\n",
       "      <td>n</td>\n",
       "      <td>na</td>\n",
       "      <td>na</td>\n",
       "      <td>f</td>\n",
       "      <td>f</td>\n",
       "      <td>na</td>\n",
       "      <td>d</td>\n",
       "      <td>a</td>\n",
       "    </tr>\n",
       "  </tbody>\n",
       "</table>\n",
       "<p>5 rows × 21 columns</p>\n",
       "</div>"
      ],
      "text/plain": [
       "      class  cap-diameter cap-shape cap-surface cap-color  \\\n",
       "55340     e          4.71         o           l         n   \n",
       "25247     e         15.24         x           t         n   \n",
       "49673     e          5.24         x           d         n   \n",
       "58343     e         52.81         o           y         y   \n",
       "27562     p          5.05         s           d         e   \n",
       "\n",
       "      does-bruise-or-bleed gill-attachment gill-spacing gill-color  \\\n",
       "55340                    f               f            f          f   \n",
       "25247                    f               a            d          k   \n",
       "49673                    t               p           na          y   \n",
       "58343                    f               p           na          y   \n",
       "27562                    t               d            c          w   \n",
       "\n",
       "       stem-height  ...  stem-root stem-surface stem-color veil-type  \\\n",
       "55340         8.02  ...         na           na          n        na   \n",
       "25247         8.43  ...         na           na          w        na   \n",
       "49673         6.46  ...         na           na          y        na   \n",
       "58343         7.84  ...         na            k          k        na   \n",
       "27562         5.89  ...         na           na          n        na   \n",
       "\n",
       "      veil-color has-ring ring-type spore-print-color habitat season  \n",
       "55340         na        f         f                 g       d      u  \n",
       "25247         na        f         f                 w       d      w  \n",
       "49673         na        f         f                na       d      a  \n",
       "58343         na        f         f                na       d      u  \n",
       "27562         na        f         f                na       d      a  \n",
       "\n",
       "[5 rows x 21 columns]"
      ]
     },
     "execution_count": 6,
     "metadata": {},
     "output_type": "execute_result"
    }
   ],
   "source": [
    "test_set.head(5)"
   ]
  },
  {
   "cell_type": "code",
   "execution_count": 7,
   "id": "dbd3e7e0-94d0-468c-ab11-3a2ae9407b45",
   "metadata": {},
   "outputs": [
    {
     "name": "stdout",
     "output_type": "stream",
     "text": [
      "train_set:\n",
      "p: 23715\n",
      "e: 19033\n",
      "test_set:\n",
      "p: 10173\n",
      "e: 8148\n"
     ]
    }
   ],
   "source": [
    "print(\"train_set:\")\n",
    "print(f\"p: {train_set['class'][train_set['class'] == 'p'].count()}\")\n",
    "print(f\"e: {train_set['class'][train_set['class'] == 'e'].count()}\")\n",
    "\n",
    "print(\"test_set:\")\n",
    "print(f\"p: {test_set['class'][test_set['class'] == 'p'].count()}\")\n",
    "print(f\"e: {test_set['class'][test_set['class'] == 'e'].count()}\")"
   ]
  },
  {
   "cell_type": "markdown",
   "id": "30f6a2dd-8ef4-4e04-a47d-e9dfeba70f3e",
   "metadata": {},
   "source": [
    "## Functions"
   ]
  },
  {
   "cell_type": "code",
   "execution_count": 8,
   "id": "df626f2d-eebd-4cbf-9ab5-244077b40d27",
   "metadata": {},
   "outputs": [
    {
     "data": {
      "text/html": [
       "<div>\n",
       "<style scoped>\n",
       "    .dataframe tbody tr th:only-of-type {\n",
       "        vertical-align: middle;\n",
       "    }\n",
       "\n",
       "    .dataframe tbody tr th {\n",
       "        vertical-align: top;\n",
       "    }\n",
       "\n",
       "    .dataframe thead th {\n",
       "        text-align: right;\n",
       "    }\n",
       "</style>\n",
       "<table border=\"1\" class=\"dataframe\">\n",
       "  <thead>\n",
       "    <tr style=\"text-align: right;\">\n",
       "      <th></th>\n",
       "      <th>class</th>\n",
       "      <th>cap-diameter</th>\n",
       "      <th>cap-shape</th>\n",
       "      <th>cap-surface</th>\n",
       "      <th>cap-color</th>\n",
       "      <th>does-bruise-or-bleed</th>\n",
       "      <th>gill-attachment</th>\n",
       "      <th>gill-spacing</th>\n",
       "      <th>gill-color</th>\n",
       "      <th>stem-height</th>\n",
       "      <th>...</th>\n",
       "      <th>stem-root</th>\n",
       "      <th>stem-surface</th>\n",
       "      <th>stem-color</th>\n",
       "      <th>veil-type</th>\n",
       "      <th>veil-color</th>\n",
       "      <th>has-ring</th>\n",
       "      <th>ring-type</th>\n",
       "      <th>spore-print-color</th>\n",
       "      <th>habitat</th>\n",
       "      <th>season</th>\n",
       "    </tr>\n",
       "  </thead>\n",
       "  <tbody>\n",
       "    <tr>\n",
       "      <th>0</th>\n",
       "      <td>p</td>\n",
       "      <td>15.26</td>\n",
       "      <td>x</td>\n",
       "      <td>g</td>\n",
       "      <td>o</td>\n",
       "      <td>f</td>\n",
       "      <td>e</td>\n",
       "      <td>na</td>\n",
       "      <td>w</td>\n",
       "      <td>16.95</td>\n",
       "      <td>...</td>\n",
       "      <td>s</td>\n",
       "      <td>y</td>\n",
       "      <td>w</td>\n",
       "      <td>u</td>\n",
       "      <td>w</td>\n",
       "      <td>t</td>\n",
       "      <td>g</td>\n",
       "      <td>na</td>\n",
       "      <td>d</td>\n",
       "      <td>w</td>\n",
       "    </tr>\n",
       "    <tr>\n",
       "      <th>2</th>\n",
       "      <td>p</td>\n",
       "      <td>14.07</td>\n",
       "      <td>x</td>\n",
       "      <td>g</td>\n",
       "      <td>o</td>\n",
       "      <td>f</td>\n",
       "      <td>e</td>\n",
       "      <td>na</td>\n",
       "      <td>w</td>\n",
       "      <td>17.80</td>\n",
       "      <td>...</td>\n",
       "      <td>s</td>\n",
       "      <td>y</td>\n",
       "      <td>w</td>\n",
       "      <td>u</td>\n",
       "      <td>w</td>\n",
       "      <td>t</td>\n",
       "      <td>g</td>\n",
       "      <td>na</td>\n",
       "      <td>d</td>\n",
       "      <td>w</td>\n",
       "    </tr>\n",
       "    <tr>\n",
       "      <th>3</th>\n",
       "      <td>p</td>\n",
       "      <td>14.17</td>\n",
       "      <td>f</td>\n",
       "      <td>h</td>\n",
       "      <td>e</td>\n",
       "      <td>f</td>\n",
       "      <td>e</td>\n",
       "      <td>na</td>\n",
       "      <td>w</td>\n",
       "      <td>15.77</td>\n",
       "      <td>...</td>\n",
       "      <td>s</td>\n",
       "      <td>y</td>\n",
       "      <td>w</td>\n",
       "      <td>u</td>\n",
       "      <td>w</td>\n",
       "      <td>t</td>\n",
       "      <td>p</td>\n",
       "      <td>na</td>\n",
       "      <td>d</td>\n",
       "      <td>w</td>\n",
       "    </tr>\n",
       "    <tr>\n",
       "      <th>5</th>\n",
       "      <td>p</td>\n",
       "      <td>15.34</td>\n",
       "      <td>x</td>\n",
       "      <td>g</td>\n",
       "      <td>o</td>\n",
       "      <td>f</td>\n",
       "      <td>e</td>\n",
       "      <td>na</td>\n",
       "      <td>w</td>\n",
       "      <td>17.84</td>\n",
       "      <td>...</td>\n",
       "      <td>s</td>\n",
       "      <td>y</td>\n",
       "      <td>w</td>\n",
       "      <td>u</td>\n",
       "      <td>w</td>\n",
       "      <td>t</td>\n",
       "      <td>p</td>\n",
       "      <td>na</td>\n",
       "      <td>d</td>\n",
       "      <td>u</td>\n",
       "    </tr>\n",
       "    <tr>\n",
       "      <th>6</th>\n",
       "      <td>p</td>\n",
       "      <td>14.85</td>\n",
       "      <td>f</td>\n",
       "      <td>h</td>\n",
       "      <td>o</td>\n",
       "      <td>f</td>\n",
       "      <td>e</td>\n",
       "      <td>na</td>\n",
       "      <td>w</td>\n",
       "      <td>17.71</td>\n",
       "      <td>...</td>\n",
       "      <td>s</td>\n",
       "      <td>y</td>\n",
       "      <td>w</td>\n",
       "      <td>u</td>\n",
       "      <td>w</td>\n",
       "      <td>t</td>\n",
       "      <td>g</td>\n",
       "      <td>na</td>\n",
       "      <td>d</td>\n",
       "      <td>w</td>\n",
       "    </tr>\n",
       "  </tbody>\n",
       "</table>\n",
       "<p>5 rows × 21 columns</p>\n",
       "</div>"
      ],
      "text/plain": [
       "  class  cap-diameter cap-shape cap-surface cap-color does-bruise-or-bleed  \\\n",
       "0     p         15.26         x           g         o                    f   \n",
       "2     p         14.07         x           g         o                    f   \n",
       "3     p         14.17         f           h         e                    f   \n",
       "5     p         15.34         x           g         o                    f   \n",
       "6     p         14.85         f           h         o                    f   \n",
       "\n",
       "  gill-attachment gill-spacing gill-color  stem-height  ...  stem-root  \\\n",
       "0               e           na          w        16.95  ...          s   \n",
       "2               e           na          w        17.80  ...          s   \n",
       "3               e           na          w        15.77  ...          s   \n",
       "5               e           na          w        17.84  ...          s   \n",
       "6               e           na          w        17.71  ...          s   \n",
       "\n",
       "  stem-surface stem-color veil-type veil-color has-ring ring-type  \\\n",
       "0            y          w         u          w        t         g   \n",
       "2            y          w         u          w        t         g   \n",
       "3            y          w         u          w        t         p   \n",
       "5            y          w         u          w        t         p   \n",
       "6            y          w         u          w        t         g   \n",
       "\n",
       "  spore-print-color habitat season  \n",
       "0                na       d      w  \n",
       "2                na       d      w  \n",
       "3                na       d      w  \n",
       "5                na       d      u  \n",
       "6                na       d      w  \n",
       "\n",
       "[5 rows x 21 columns]"
      ]
     },
     "execution_count": 8,
     "metadata": {},
     "output_type": "execute_result"
    }
   ],
   "source": [
    "data = train_set\n",
    "data.head(5)"
   ]
  },
  {
   "cell_type": "code",
   "execution_count": 9,
   "id": "5423fd06-76e8-442d-a9b7-45b1dec11c9f",
   "metadata": {},
   "outputs": [
    {
     "name": "stdout",
     "output_type": "stream",
     "text": [
      "<class 'pandas.core.frame.DataFrame'>\n",
      "Index: 42748 entries, 0 to 61068\n",
      "Data columns (total 21 columns):\n",
      " #   Column                Non-Null Count  Dtype  \n",
      "---  ------                --------------  -----  \n",
      " 0   class                 42748 non-null  object \n",
      " 1   cap-diameter          42748 non-null  float64\n",
      " 2   cap-shape             42748 non-null  object \n",
      " 3   cap-surface           42748 non-null  object \n",
      " 4   cap-color             42748 non-null  object \n",
      " 5   does-bruise-or-bleed  42748 non-null  object \n",
      " 6   gill-attachment       42748 non-null  object \n",
      " 7   gill-spacing          42748 non-null  object \n",
      " 8   gill-color            42748 non-null  object \n",
      " 9   stem-height           42748 non-null  float64\n",
      " 10  stem-width            42748 non-null  float64\n",
      " 11  stem-root             42748 non-null  object \n",
      " 12  stem-surface          42748 non-null  object \n",
      " 13  stem-color            42748 non-null  object \n",
      " 14  veil-type             42748 non-null  object \n",
      " 15  veil-color            42748 non-null  object \n",
      " 16  has-ring              42748 non-null  object \n",
      " 17  ring-type             42748 non-null  object \n",
      " 18  spore-print-color     42748 non-null  object \n",
      " 19  habitat               42748 non-null  object \n",
      " 20  season                42748 non-null  object \n",
      "dtypes: float64(3), object(18)\n",
      "memory usage: 7.2+ MB\n"
     ]
    }
   ],
   "source": [
    "data.info()"
   ]
  },
  {
   "cell_type": "markdown",
   "id": "50a6d9ba-bdcb-40ac-924c-bda36d518abb",
   "metadata": {},
   "source": [
    "### Leaf flag"
   ]
  },
  {
   "cell_type": "code",
   "execution_count": 10,
   "id": "ad7be04d-135f-4876-898a-49f97c48e2a8",
   "metadata": {},
   "outputs": [],
   "source": [
    "def is_leaf (data):\n",
    "    \n",
    "    label_column = data[:, 0]\n",
    "    unique_classes = np.unique(label_column)\n",
    "\n",
    "    if len(unique_classes) == 1:\n",
    "        return True\n",
    "    else:\n",
    "        return False"
   ]
  },
  {
   "cell_type": "code",
   "execution_count": 11,
   "id": "9096a6b2-71ac-41a8-b968-8989473efd47",
   "metadata": {},
   "outputs": [
    {
     "data": {
      "text/plain": [
       "True"
      ]
     },
     "execution_count": 11,
     "metadata": {},
     "output_type": "execute_result"
    }
   ],
   "source": [
    "is_leaf(data[data['class'] == 'p'].values)"
   ]
  },
  {
   "cell_type": "code",
   "execution_count": 12,
   "id": "9a52f856-ec22-45ce-80a3-6623d8a35aaf",
   "metadata": {},
   "outputs": [
    {
     "data": {
      "text/plain": [
       "True"
      ]
     },
     "execution_count": 12,
     "metadata": {},
     "output_type": "execute_result"
    }
   ],
   "source": [
    "is_leaf(data[data['class'] == 'e'].values)"
   ]
  },
  {
   "cell_type": "markdown",
   "id": "4b4d1c39-f0d0-47a8-afa9-b65620e069cd",
   "metadata": {},
   "source": [
    "### Classification"
   ]
  },
  {
   "cell_type": "code",
   "execution_count": 13,
   "id": "b927a60b-7612-435e-b02e-f16c4f52e0ad",
   "metadata": {},
   "outputs": [
    {
     "name": "stdout",
     "output_type": "stream",
     "text": [
      "e: 19033\n",
      "p: 23715\n"
     ]
    }
   ],
   "source": [
    "unique_values, counts = np.unique(data.iloc[:, 0].values, return_counts=True)\n",
    "for value, count in zip(unique_values, counts):\n",
    "    print(f\"{value}: {count}\")"
   ]
  },
  {
   "cell_type": "code",
   "execution_count": 14,
   "id": "93210708-8a53-4165-b8d7-45361bd1db7b",
   "metadata": {},
   "outputs": [],
   "source": [
    "def classify_data(data):\n",
    "    \n",
    "    label_column = data[:, 0]\n",
    "    unique_classes, count_unique_classes = np.unique(label_column, return_counts=True)\n",
    "\n",
    "    index = count_unique_classes.argmax()\n",
    "    classification = unique_classes[index]\n",
    "    \n",
    "    return classification"
   ]
  },
  {
   "cell_type": "code",
   "execution_count": 15,
   "id": "3a4065ec-9c4a-4600-9c5c-0156730711bf",
   "metadata": {},
   "outputs": [
    {
     "data": {
      "text/plain": [
       "'p'"
      ]
     },
     "execution_count": 15,
     "metadata": {},
     "output_type": "execute_result"
    }
   ],
   "source": [
    "classify_data(data.values)"
   ]
  },
  {
   "cell_type": "markdown",
   "id": "3bbc4059-2761-42b8-a4b9-616ece564b4f",
   "metadata": {},
   "source": [
    "### Attribute types"
   ]
  },
  {
   "cell_type": "code",
   "execution_count": 16,
   "id": "e36754e1-9d56-4e93-af94-df82d0593281",
   "metadata": {},
   "outputs": [
    {
     "data": {
      "text/plain": [
       "class                      2\n",
       "cap-diameter            2380\n",
       "cap-shape                  7\n",
       "cap-surface               12\n",
       "cap-color                 12\n",
       "does-bruise-or-bleed       2\n",
       "gill-attachment            8\n",
       "gill-spacing               4\n",
       "gill-color                12\n",
       "stem-height             2067\n",
       "stem-width              4286\n",
       "stem-root                  6\n",
       "stem-surface               9\n",
       "stem-color                13\n",
       "veil-type                  2\n",
       "veil-color                 7\n",
       "has-ring                   2\n",
       "ring-type                  9\n",
       "spore-print-color          8\n",
       "habitat                    8\n",
       "season                     4\n",
       "dtype: int64"
      ]
     },
     "execution_count": 16,
     "metadata": {},
     "output_type": "execute_result"
    }
   ],
   "source": [
    "data.nunique()"
   ]
  },
  {
   "cell_type": "code",
   "execution_count": 17,
   "id": "d29928ae-02b8-46e0-abfa-ac0fdb821b12",
   "metadata": {},
   "outputs": [],
   "source": [
    "def attribute_type(data):\n",
    "    \n",
    "    attribute_types = []\n",
    "    treshold = 20\n",
    "\n",
    "    _, n_columns = data.shape\n",
    "    \n",
    "    for column_index in range(0, n_columns):\n",
    "        values = data[:, column_index]\n",
    "        unique_values = len(set(values))\n",
    "        first_value = values[0]\n",
    "        \n",
    "        if (isinstance(first_value, str)) or (unique_values <= treshold):\n",
    "            attribute_types.append(\"categorical\")\n",
    "        else:\n",
    "            attribute_types.append(\"continuous\")\n",
    "    \n",
    "    return attribute_types"
   ]
  },
  {
   "cell_type": "code",
   "execution_count": 18,
   "id": "6ac98014-f601-47b3-9983-0d83ffcd5138",
   "metadata": {},
   "outputs": [
    {
     "data": {
      "text/plain": [
       "['categorical',\n",
       " 'continuous',\n",
       " 'categorical',\n",
       " 'categorical',\n",
       " 'categorical',\n",
       " 'categorical',\n",
       " 'categorical',\n",
       " 'categorical',\n",
       " 'categorical',\n",
       " 'continuous',\n",
       " 'continuous',\n",
       " 'categorical',\n",
       " 'categorical',\n",
       " 'categorical',\n",
       " 'categorical',\n",
       " 'categorical',\n",
       " 'categorical',\n",
       " 'categorical',\n",
       " 'categorical',\n",
       " 'categorical',\n",
       " 'categorical']"
      ]
     },
     "execution_count": 18,
     "metadata": {},
     "output_type": "execute_result"
    }
   ],
   "source": [
    "attribute_type(data.values)"
   ]
  },
  {
   "cell_type": "markdown",
   "id": "f3e9c361-c9fc-4a9f-9ff6-2b879daaff4f",
   "metadata": {},
   "source": [
    "### Potential splits"
   ]
  },
  {
   "cell_type": "code",
   "execution_count": 19,
   "id": "1beae0f0-6d97-4cd4-af45-f54d6f4b9ac3",
   "metadata": {},
   "outputs": [],
   "source": [
    "def get_potential_splits(data):\n",
    "    \n",
    "    potential_splits = {}\n",
    "    _, n_columns = data.shape\n",
    "    for column_index in range(1, n_columns):        # excluding the last column which is the label\n",
    "        potential_splits[column_index] = []\n",
    "        values = data[:, column_index]\n",
    "        unique_values = np.unique(values)\n",
    "\n",
    "        for index in range(len(unique_values)):\n",
    "            if index != 0:\n",
    "                current_value = unique_values[index]\n",
    "                previous_value = unique_values[index - 1]\n",
    "                potential_split = (current_value + previous_value) / 2\n",
    "                \n",
    "                potential_splits[column_index].append(potential_split)\n",
    "    \n",
    "    return potential_splits"
   ]
  },
  {
   "cell_type": "code",
   "execution_count": 20,
   "id": "e987e89e-460c-4c58-8666-435c0f04c77b",
   "metadata": {},
   "outputs": [
    {
     "ename": "TypeError",
     "evalue": "unsupported operand type(s) for /: 'str' and 'int'",
     "output_type": "error",
     "traceback": [
      "\u001b[1;31m---------------------------------------------------------------------------\u001b[0m",
      "\u001b[1;31mTypeError\u001b[0m                                 Traceback (most recent call last)",
      "Cell \u001b[1;32mIn[20], line 1\u001b[0m\n\u001b[1;32m----> 1\u001b[0m \u001b[43mget_potential_splits\u001b[49m\u001b[43m(\u001b[49m\u001b[43mdata\u001b[49m\u001b[38;5;241;43m.\u001b[39;49m\u001b[43mvalues\u001b[49m\u001b[43m)\u001b[49m \u001b[38;5;66;03m# The error is because I have numerical and categorical attributes\u001b[39;00m\n",
      "Cell \u001b[1;32mIn[19], line 14\u001b[0m, in \u001b[0;36mget_potential_splits\u001b[1;34m(data)\u001b[0m\n\u001b[0;32m     12\u001b[0m             current_value \u001b[38;5;241m=\u001b[39m unique_values[index]\n\u001b[0;32m     13\u001b[0m             previous_value \u001b[38;5;241m=\u001b[39m unique_values[index \u001b[38;5;241m-\u001b[39m \u001b[38;5;241m1\u001b[39m]\n\u001b[1;32m---> 14\u001b[0m             potential_split \u001b[38;5;241m=\u001b[39m \u001b[43m(\u001b[49m\u001b[43mcurrent_value\u001b[49m\u001b[43m \u001b[49m\u001b[38;5;241;43m+\u001b[39;49m\u001b[43m \u001b[49m\u001b[43mprevious_value\u001b[49m\u001b[43m)\u001b[49m\u001b[43m \u001b[49m\u001b[38;5;241;43m/\u001b[39;49m\u001b[43m \u001b[49m\u001b[38;5;241;43m2\u001b[39;49m\n\u001b[0;32m     16\u001b[0m             potential_splits[column_index]\u001b[38;5;241m.\u001b[39mappend(potential_split)\n\u001b[0;32m     18\u001b[0m \u001b[38;5;28;01mreturn\u001b[39;00m potential_splits\n",
      "\u001b[1;31mTypeError\u001b[0m: unsupported operand type(s) for /: 'str' and 'int'"
     ]
    }
   ],
   "source": [
    "get_potential_splits(data.values) # The error is because I have numerical and categorical attributes"
   ]
  },
  {
   "cell_type": "code",
   "execution_count": 21,
   "id": "77ada11d-1525-493b-babc-a9081460214f",
   "metadata": {},
   "outputs": [],
   "source": [
    "def get_potential_splits(data):\n",
    "    potential_splits = {}\n",
    "    \n",
    "    _, n_columns = data.shape\n",
    "    \n",
    "    for column_index in range(1, n_columns):\n",
    "        values = data[:, column_index]\n",
    "        unique_values = np.unique((values[values != \"na\"]))\n",
    "\n",
    "        potential_splits[column_index] = unique_values\n",
    "        \n",
    "    return potential_splits"
   ]
  },
  {
   "cell_type": "code",
   "execution_count": 22,
   "id": "1e3d25fe-7e6a-4193-adda-f5ac77a7a7ce",
   "metadata": {},
   "outputs": [
    {
     "data": {
      "text/plain": [
       "{1: array([0.38, 0.44, 0.47, ..., 58.89, 59.46, 62.34], dtype=object),\n",
       " 2: array(['b', 'c', 'f', 'o', 'p', 's', 'x'], dtype=object),\n",
       " 3: array(['d', 'e', 'g', 'h', 'i', 'k', 'l', 's', 't', 'w', 'y'],\n",
       "       dtype=object),\n",
       " 4: array(['b', 'e', 'g', 'k', 'l', 'n', 'o', 'p', 'r', 'u', 'w', 'y'],\n",
       "       dtype=object),\n",
       " 5: array(['f', 't'], dtype=object),\n",
       " 6: array(['a', 'd', 'e', 'f', 'p', 's', 'x'], dtype=object),\n",
       " 7: array(['c', 'd', 'f'], dtype=object),\n",
       " 8: array(['b', 'e', 'f', 'g', 'k', 'n', 'o', 'p', 'r', 'u', 'w', 'y'],\n",
       "       dtype=object),\n",
       " 9: array([0.0, 0.97, 1.09, ..., 33.03, 33.25, 33.72], dtype=object),\n",
       " 10: array([0.0, 0.52, 0.53, ..., 98.0, 102.48, 103.91], dtype=object),\n",
       " 11: array(['b', 'c', 'f', 'r', 's'], dtype=object),\n",
       " 12: array(['f', 'g', 'h', 'i', 'k', 's', 't', 'y'], dtype=object),\n",
       " 13: array(['b', 'e', 'f', 'g', 'k', 'l', 'n', 'o', 'p', 'r', 'u', 'w', 'y'],\n",
       "       dtype=object),\n",
       " 14: array(['u'], dtype=object),\n",
       " 15: array(['e', 'k', 'n', 'u', 'w', 'y'], dtype=object),\n",
       " 16: array(['f', 't'], dtype=object),\n",
       " 17: array(['e', 'f', 'g', 'l', 'm', 'p', 'r', 'z'], dtype=object),\n",
       " 18: array(['g', 'k', 'n', 'p', 'r', 'u', 'w'], dtype=object),\n",
       " 19: array(['d', 'g', 'h', 'l', 'm', 'p', 'u', 'w'], dtype=object),\n",
       " 20: array(['a', 's', 'u', 'w'], dtype=object)}"
      ]
     },
     "execution_count": 22,
     "metadata": {},
     "output_type": "execute_result"
    }
   ],
   "source": [
    "get_potential_splits(data.values) # Here I can see all possible attributes for splitting (excluding the class)"
   ]
  },
  {
   "cell_type": "markdown",
   "id": "8eb10f4f-d4d7-4404-ab67-0177b64cb35d",
   "metadata": {},
   "source": [
    "### Split"
   ]
  },
  {
   "cell_type": "code",
   "execution_count": 23,
   "id": "49a7e76b-80d4-4989-9937-3dcb663f7e17",
   "metadata": {},
   "outputs": [],
   "source": [
    "def split_data(data, split_column, split_value):\n",
    "    \n",
    "    split_column_values = data[:, split_column]\n",
    "\n",
    "    type_attribute = attribute_type(data)\n",
    "    \n",
    "    type_of_attribute = type_attribute[split_column]\n",
    "\n",
    "    if type_of_attribute == \"continuous\":\n",
    "        left_split = data[split_column_values <= split_value]\n",
    "        right_split = data[split_column_values >  split_value]\n",
    "\n",
    "    else:\n",
    "        left_split = data[split_column_values == split_value]\n",
    "        right_split = data[split_column_values !=  split_value]\n",
    "    \n",
    "    return left_split, right_split"
   ]
  },
  {
   "cell_type": "code",
   "execution_count": 24,
   "id": "7a7caa25-4f83-4141-8984-cb3f14cd1556",
   "metadata": {},
   "outputs": [
    {
     "data": {
      "text/plain": [
       "(array([['p', 6.87, 'x', ..., 'na', 'd', 'a'],\n",
       "        ['p', 5.95, 'p', ..., 'na', 'd', 'u'],\n",
       "        ['p', 7.06, 'p', ..., 'na', 'd', 'u'],\n",
       "        ...,\n",
       "        ['p', 1.27, 's', ..., 'na', 'd', 'u'],\n",
       "        ['p', 1.24, 'f', ..., 'na', 'd', 'u'],\n",
       "        ['p', 1.17, 's', ..., 'na', 'd', 'u']], dtype=object),\n",
       " array([['p', 15.26, 'x', ..., 'na', 'd', 'w'],\n",
       "        ['p', 14.07, 'x', ..., 'na', 'd', 'w'],\n",
       "        ['p', 14.17, 'f', ..., 'na', 'd', 'w'],\n",
       "        ...,\n",
       "        ['p', 11.76, 'o', ..., 'na', 'd', 'u'],\n",
       "        ['p', 10.4, 'o', ..., 'na', 'd', 'u'],\n",
       "        ['p', 10.75, 'o', ..., 'na', 'd', 'u']], dtype=object))"
      ]
     },
     "execution_count": 24,
     "metadata": {},
     "output_type": "execute_result"
    }
   ],
   "source": [
    " split_data(data.values, 1, 10) # Just trying an example to see if it works"
   ]
  },
  {
   "cell_type": "markdown",
   "id": "48df3131-c91f-4e51-820e-42134e020420",
   "metadata": {},
   "source": [
    "### Gini"
   ]
  },
  {
   "cell_type": "code",
   "execution_count": 25,
   "id": "492ab8ed-9850-4737-91fa-be21a1544205",
   "metadata": {},
   "outputs": [
    {
     "data": {
      "text/plain": [
       "array([19033, 23715], dtype=int64)"
      ]
     },
     "execution_count": 25,
     "metadata": {},
     "output_type": "execute_result"
    }
   ],
   "source": [
    "label_column = data.iloc[:, 0]\n",
    "    \n",
    "_, counts = np.unique(label_column, return_counts=True)\n",
    "\n",
    "counts"
   ]
  },
  {
   "cell_type": "code",
   "execution_count": 26,
   "id": "4ac11808-9c02-4b21-bec5-52dce7687805",
   "metadata": {},
   "outputs": [
    {
     "data": {
      "text/plain": [
       "array([0.4452372, 0.5547628])"
      ]
     },
     "execution_count": 26,
     "metadata": {},
     "output_type": "execute_result"
    }
   ],
   "source": [
    "label_column = data.iloc[:, 0]\n",
    "    \n",
    "_, counts = np.unique(label_column, return_counts=True)\n",
    "\n",
    "p = counts/counts.sum()\n",
    "\n",
    "p"
   ]
  },
  {
   "cell_type": "code",
   "execution_count": 27,
   "id": "6771dbd5-422d-475f-b0ad-ece13318d082",
   "metadata": {},
   "outputs": [
    {
     "data": {
      "text/plain": [
       "0.49400207236598814"
      ]
     },
     "execution_count": 27,
     "metadata": {},
     "output_type": "execute_result"
    }
   ],
   "source": [
    "1 - np.sum(p ** 2)"
   ]
  },
  {
   "cell_type": "code",
   "execution_count": 28,
   "id": "cda2302a-bfe1-4c42-a086-f00039716bb5",
   "metadata": {},
   "outputs": [],
   "source": [
    "def gini_function(data):\n",
    "    \n",
    "    label_column = data[:, 0]\n",
    "    \n",
    "    _, counts = np.unique(label_column, return_counts=True)\n",
    "\n",
    "    total_count = len(label_column)\n",
    "    \n",
    "    p = counts / total_count\n",
    "    \n",
    "    gini = 1 - np.sum(p ** 2)\n",
    "     \n",
    "    return gini"
   ]
  },
  {
   "cell_type": "code",
   "execution_count": 29,
   "id": "5dcf83cb-3122-4de5-b817-20885dfdb26b",
   "metadata": {},
   "outputs": [
    {
     "data": {
      "text/plain": [
       "0.49400207236598814"
      ]
     },
     "execution_count": 29,
     "metadata": {},
     "output_type": "execute_result"
    }
   ],
   "source": [
    "gini_function(data.values)"
   ]
  },
  {
   "cell_type": "code",
   "execution_count": 30,
   "id": "70531c90-e539-401d-8209-c099db96739d",
   "metadata": {},
   "outputs": [
    {
     "data": {
      "text/plain": [
       "42748"
      ]
     },
     "execution_count": 30,
     "metadata": {},
     "output_type": "execute_result"
    }
   ],
   "source": [
    "# Try to get an overall gini\n",
    "data_below, data_above = split_data(data.values, 1, 10)\n",
    "n = len(data_below) + len(data_above)\n",
    "n"
   ]
  },
  {
   "cell_type": "code",
   "execution_count": 31,
   "id": "6843be78-3584-4568-940b-b448560200ec",
   "metadata": {},
   "outputs": [
    {
     "name": "stdout",
     "output_type": "stream",
     "text": [
      "data_below: 0.8352203611864882\n",
      "data_above: 0.16477963881351174\n"
     ]
    }
   ],
   "source": [
    "p_left = len(data_below) / n\n",
    "p_right = len(data_above) / n\n",
    "\n",
    "print(f\"data_below: {p_left}\")\n",
    "print(f\"data_above: {p_right}\")"
   ]
  },
  {
   "cell_type": "code",
   "execution_count": 32,
   "id": "7456badf-cb17-4157-af1f-97ed4270e707",
   "metadata": {},
   "outputs": [
    {
     "name": "stdout",
     "output_type": "stream",
     "text": [
      "gini: 0.4875764865587138\n"
     ]
    },
    {
     "data": {
      "text/plain": [
       "0.40723380920960783"
      ]
     },
     "execution_count": 32,
     "metadata": {},
     "output_type": "execute_result"
    }
   ],
   "source": [
    "left =  p_left * gini_function(data_below)\n",
    "print(f\"gini: {gini_function(data_below)}\")\n",
    "left"
   ]
  },
  {
   "cell_type": "code",
   "execution_count": 33,
   "id": "a11c668e-f9f0-4845-8337-0c7ce1441940",
   "metadata": {},
   "outputs": [
    {
     "name": "stdout",
     "output_type": "stream",
     "text": [
      "gini: 0.49098193040516636\n"
     ]
    },
    {
     "data": {
      "text/plain": [
       "0.08090382515612407"
      ]
     },
     "execution_count": 33,
     "metadata": {},
     "output_type": "execute_result"
    }
   ],
   "source": [
    "right =  p_right * gini_function(data_above)\n",
    "print(f\"gini: {gini_function(data_above)}\")\n",
    "right"
   ]
  },
  {
   "cell_type": "code",
   "execution_count": 34,
   "id": "0ad35729-4e62-4182-8c75-4fae94c2c74a",
   "metadata": {},
   "outputs": [
    {
     "data": {
      "text/plain": [
       "0.4881376343657319"
      ]
     },
     "execution_count": 34,
     "metadata": {},
     "output_type": "execute_result"
    }
   ],
   "source": [
    "left+right"
   ]
  },
  {
   "cell_type": "code",
   "execution_count": 35,
   "id": "ed788225-e7d5-4d14-867d-f4a453142c89",
   "metadata": {},
   "outputs": [],
   "source": [
    "def overall_gini (data_below, data_above):\n",
    "\n",
    "        n = len(data_below) + len(data_above)\n",
    "        p_left = len(data_below) / n\n",
    "        p_right = len(data_above) / n\n",
    "        \n",
    "        overall_gini =  (p_left * gini_function(data_below) + p_right * gini_function(data_above))\n",
    "        \n",
    "        return overall_gini"
   ]
  },
  {
   "cell_type": "code",
   "execution_count": 36,
   "id": "c9008f76-cc48-48b3-acad-058c09275f95",
   "metadata": {},
   "outputs": [
    {
     "data": {
      "text/plain": [
       "0.4881376343657319"
      ]
     },
     "execution_count": 36,
     "metadata": {},
     "output_type": "execute_result"
    }
   ],
   "source": [
    "overall_gini(data_below, data_above)"
   ]
  },
  {
   "cell_type": "markdown",
   "id": "285319ec-62ed-4d62-9290-e74bd61c3296",
   "metadata": {},
   "source": [
    "### Best Split"
   ]
  },
  {
   "cell_type": "code",
   "execution_count": 37,
   "id": "2e4a58d7-9b44-4c03-93b0-8e80c1b28940",
   "metadata": {},
   "outputs": [],
   "source": [
    "def best_split(data, potential_splits):\n",
    "        \n",
    "        base_gini = float('inf')\n",
    "\n",
    "        for column_index in potential_splits:\n",
    "            for value in potential_splits[column_index]:\n",
    "                \n",
    "                left_leaf, right_leaf = split_data(data, split_column=column_index, split_value=value)  \n",
    "                \n",
    "                current_overall_gini = overall_gini(left_leaf, right_leaf)\n",
    "\n",
    "                if current_overall_gini <= base_gini:\n",
    "                    base_gini = current_overall_gini\n",
    "                   \n",
    "                    best_attribute = column_index\n",
    "                    best_value = value\n",
    "        \n",
    "        return best_attribute, best_value, current_overall_gini"
   ]
  },
  {
   "cell_type": "markdown",
   "id": "210286cd-71f1-4c92-86fb-195db121c916",
   "metadata": {},
   "source": [
    "### Tree algorithm"
   ]
  },
  {
   "cell_type": "code",
   "execution_count": 38,
   "id": "90978816-fbc0-49de-8a64-05c9ead7ab92",
   "metadata": {},
   "outputs": [],
   "source": [
    "def tree_predictor(data, counter, min_samples, max_depth):\n",
    "\n",
    "    # data preparations\n",
    "    if counter == 0:\n",
    "        global column_names, type_attribute\n",
    "        column_names = data.columns\n",
    "        type_attribute = attribute_type(data.values)\n",
    "        data = data.values\n",
    "    else:\n",
    "        data = data\n",
    "\n",
    "    n_sample = len(data)\n",
    "        \n",
    "    # Stop criterias\n",
    "    if (is_leaf(data)) or (len(data) < min_samples) or (counter == max_depth):\n",
    "        classification = classify_data(data)\n",
    "            \n",
    "        return classification\n",
    "\n",
    "        \n",
    "    # Recursive part\n",
    "    else:    \n",
    "        counter += 1\n",
    "\n",
    "        potential_splits = get_potential_splits(data)\n",
    "        best_criteria, threshold, gini = best_split(data, potential_splits)\n",
    "        left_split, right_split = split_data(data, best_criteria, threshold)\n",
    "            \n",
    "        # Control of empty data after split\n",
    "        if len(left_split) == 0 or len(right_split) == 0:\n",
    "            classification = classify_data(data)\n",
    "\n",
    "            return classification\n",
    "            \n",
    "        # Question\n",
    "        attribute_name = column_names[best_criteria]\n",
    "        type_of_attribute = type_attribute[best_criteria]\n",
    "            \n",
    "        if type_of_attribute == \"continuous\":\n",
    "            question = \"{} <= {} (gini: {}, n: {})\".format(attribute_name, threshold, gini, n_sample)\n",
    "                \n",
    "        # If feature is categorical\n",
    "        else:\n",
    "            question = \"{} = {} (gini: {}, n: {})\".format(attribute_name, threshold, gini, n_sample)\n",
    "            \n",
    "        # Instantiate sub-tree\n",
    "        sub_tree = {question: []}\n",
    "\n",
    "        # Find answers (recursion)\n",
    "        yes = tree_predictor(left_split, counter, min_samples, max_depth)\n",
    "        no = tree_predictor(right_split, counter, min_samples, max_depth)\n",
    "            \n",
    "        # If the answers are the same, then there is no point in asking the qestion.\n",
    "        # This could happen when the data is classified even though it is not pure\n",
    "        # yet (min_samples or max_depth base case).\n",
    "        if yes == no:\n",
    "            sub_tree = yes\n",
    "        else:\n",
    "            sub_tree[question].append(yes)\n",
    "            sub_tree[question].append(no)\n",
    "            \n",
    "        return sub_tree"
   ]
  },
  {
   "cell_type": "code",
   "execution_count": null,
   "id": "130b352d-a2be-42a0-b734-2655a04a48d5",
   "metadata": {},
   "outputs": [],
   "source": [
    "tree = tree_predictor(train_set, counter = 0, min_samples = 300, max_depth = 5)"
   ]
  },
  {
   "cell_type": "code",
   "execution_count": null,
   "id": "6374f6c2-7b32-4681-a1ad-4033819a998b",
   "metadata": {},
   "outputs": [],
   "source": [
    "pprint(tree)"
   ]
  },
  {
   "cell_type": "code",
   "execution_count": null,
   "id": "2558e649-8641-45f9-a048-40be3e37f7d9",
   "metadata": {},
   "outputs": [],
   "source": [
    "node = list(tree.keys())[0]"
   ]
  },
  {
   "cell_type": "code",
   "execution_count": null,
   "id": "6f5ef006-dae0-44df-b25d-5cfbbbda4eb8",
   "metadata": {},
   "outputs": [],
   "source": [
    "attribute, comparison, value, gini_str, gini, n_sample_str, n_sample = node.split(\" \")"
   ]
  },
  {
   "cell_type": "code",
   "execution_count": null,
   "id": "f426900c-56a1-4463-8836-bfd0375e06fb",
   "metadata": {},
   "outputs": [],
   "source": [
    "test = test_set\n",
    "test[attribute]"
   ]
  },
  {
   "cell_type": "code",
   "execution_count": null,
   "id": "0b4e7712-e4d1-47de-9740-75826c8cc304",
   "metadata": {},
   "outputs": [],
   "source": [
    "test_att = test[attribute]"
   ]
  },
  {
   "cell_type": "code",
   "execution_count": null,
   "id": "0fe74ed0-052b-424f-97de-e215589ba8fb",
   "metadata": {},
   "outputs": [],
   "source": [
    "test_att <= float(value)"
   ]
  },
  {
   "cell_type": "code",
   "execution_count": null,
   "id": "bd66c34e-dca3-4f26-86dc-37198d05af71",
   "metadata": {},
   "outputs": [],
   "source": [
    "tree[node][0]"
   ]
  },
  {
   "cell_type": "code",
   "execution_count": null,
   "id": "30380b8f-44f1-4ac2-8a90-25dec9655f47",
   "metadata": {},
   "outputs": [],
   "source": [
    "tree[node][1]"
   ]
  },
  {
   "cell_type": "code",
   "execution_count": null,
   "id": "df7f33e2-f432-4431-b4cc-7bf930b2fd33",
   "metadata": {},
   "outputs": [],
   "source": [
    "test_example = test_set.iloc[0]\n",
    "test_example"
   ]
  },
  {
   "cell_type": "code",
   "execution_count": null,
   "id": "b96ccf05-505c-45b1-bbd7-af6116451507",
   "metadata": {},
   "outputs": [],
   "source": [
    "def test_classification(test, tree):\n",
    "    question = list(tree.keys())[0]\n",
    "    attribute, comparison, value, gini_str, gini, n_sample_str, n_sample = question.split(\" \")\n",
    "\n",
    "    # ask question\n",
    "    if comparison == \"<=\":\n",
    "        if test[attribute] <= float(value):\n",
    "            answer = tree[question][0]\n",
    "        else:\n",
    "            answer = tree[question][1]\n",
    "    \n",
    "    # feature is categorical\n",
    "    else:\n",
    "        if str(test[attribute]) == value:\n",
    "            answer = tree[question][0]\n",
    "        else:\n",
    "            answer = tree[question][1]\n",
    "\n",
    "    # base case\n",
    "    if not isinstance(answer, dict):\n",
    "        return answer\n",
    "    \n",
    "    # recursive part\n",
    "    else:\n",
    "        residual_tree = answer\n",
    "        return test_classification(test, residual_tree)"
   ]
  },
  {
   "cell_type": "code",
   "execution_count": null,
   "id": "8fe31758-795a-42eb-b638-2cccce81503c",
   "metadata": {},
   "outputs": [],
   "source": [
    "test_classification(test_example, tree)"
   ]
  },
  {
   "cell_type": "code",
   "execution_count": null,
   "id": "6bd662f2-2926-432a-840c-597545c0cf2e",
   "metadata": {},
   "outputs": [],
   "source": [
    "def tree_accuracy(test_set, tree):\n",
    "\n",
    "    test_set[\"classification\"] = test_set.apply(test_classification, axis=1, args=(tree,))\n",
    "    test_set[\"classification_correct\"] = test_set[\"classification\"] == test_set[\"class\"]\n",
    "    \n",
    "    accuracy = test_set[\"classification_correct\"].mean()\n",
    "    \n",
    "    return accuracy"
   ]
  },
  {
   "cell_type": "code",
   "execution_count": null,
   "id": "f559579e-e790-4cc3-ac45-fb7bc5877f69",
   "metadata": {},
   "outputs": [],
   "source": [
    "accuracy = tree_accuracy(test_set, tree)\n",
    "accuracy"
   ]
  },
  {
   "cell_type": "code",
   "execution_count": null,
   "id": "82e24335-2dfe-4be1-9966-ebb234d509a1",
   "metadata": {},
   "outputs": [],
   "source": []
  }
 ],
 "metadata": {
  "kernelspec": {
   "display_name": "Python 3 (ipykernel)",
   "language": "python",
   "name": "python3"
  },
  "language_info": {
   "codemirror_mode": {
    "name": "ipython",
    "version": 3
   },
   "file_extension": ".py",
   "mimetype": "text/x-python",
   "name": "python",
   "nbconvert_exporter": "python",
   "pygments_lexer": "ipython3",
   "version": "3.11.0"
  }
 },
 "nbformat": 4,
 "nbformat_minor": 5
}
