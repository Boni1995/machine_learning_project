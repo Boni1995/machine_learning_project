{
 "cells": [
  {
   "cell_type": "code",
   "execution_count": 25,
   "id": "b9a3e31d-c366-47e5-93ce-b2ef3990d4fe",
   "metadata": {},
   "outputs": [],
   "source": [
    "import pandas as pd\n",
    "import numpy as np\n",
    "\n",
    "from data import Mushrooms_dataset\n",
    "from train_test_split import Train_test_split\n",
    "from gini import Gini"
   ]
  },
  {
   "cell_type": "markdown",
   "id": "f7f60df3-b440-42b6-afdf-ddb418edaf4c",
   "metadata": {
    "jp-MarkdownHeadingCollapsed": true
   },
   "source": [
    "## EDA"
   ]
  },
  {
   "cell_type": "code",
   "execution_count": 2,
   "id": "98620ca0-275d-4914-9d75-34502338fdbe",
   "metadata": {},
   "outputs": [],
   "source": [
    "# Import primary_data dataset\n",
    "path = 'Datasets'\n",
    "\n",
    "data = Mushrooms_dataset(path)\n",
    "\n",
    "df_mushrooms = data.dataset"
   ]
  },
  {
   "cell_type": "code",
   "execution_count": 3,
   "id": "9e5d693f-8e56-47b2-b38a-08df31b0c565",
   "metadata": {},
   "outputs": [
    {
     "data": {
      "text/html": [
       "<div>\n",
       "<style scoped>\n",
       "    .dataframe tbody tr th:only-of-type {\n",
       "        vertical-align: middle;\n",
       "    }\n",
       "\n",
       "    .dataframe tbody tr th {\n",
       "        vertical-align: top;\n",
       "    }\n",
       "\n",
       "    .dataframe thead th {\n",
       "        text-align: right;\n",
       "    }\n",
       "</style>\n",
       "<table border=\"1\" class=\"dataframe\">\n",
       "  <thead>\n",
       "    <tr style=\"text-align: right;\">\n",
       "      <th></th>\n",
       "      <th>class</th>\n",
       "      <th>cap-diameter</th>\n",
       "      <th>cap-shape</th>\n",
       "      <th>cap-surface</th>\n",
       "      <th>cap-color</th>\n",
       "      <th>does-bruise-or-bleed</th>\n",
       "      <th>gill-attachment</th>\n",
       "      <th>gill-spacing</th>\n",
       "      <th>gill-color</th>\n",
       "      <th>stem-height</th>\n",
       "      <th>...</th>\n",
       "      <th>stem-root</th>\n",
       "      <th>stem-surface</th>\n",
       "      <th>stem-color</th>\n",
       "      <th>veil-type</th>\n",
       "      <th>veil-color</th>\n",
       "      <th>has-ring</th>\n",
       "      <th>ring-type</th>\n",
       "      <th>spore-print-color</th>\n",
       "      <th>habitat</th>\n",
       "      <th>season</th>\n",
       "    </tr>\n",
       "  </thead>\n",
       "  <tbody>\n",
       "    <tr>\n",
       "      <th>0</th>\n",
       "      <td>p</td>\n",
       "      <td>15.26</td>\n",
       "      <td>x</td>\n",
       "      <td>g</td>\n",
       "      <td>o</td>\n",
       "      <td>f</td>\n",
       "      <td>e</td>\n",
       "      <td>na</td>\n",
       "      <td>w</td>\n",
       "      <td>16.95</td>\n",
       "      <td>...</td>\n",
       "      <td>s</td>\n",
       "      <td>y</td>\n",
       "      <td>w</td>\n",
       "      <td>u</td>\n",
       "      <td>w</td>\n",
       "      <td>t</td>\n",
       "      <td>g</td>\n",
       "      <td>na</td>\n",
       "      <td>d</td>\n",
       "      <td>w</td>\n",
       "    </tr>\n",
       "    <tr>\n",
       "      <th>1</th>\n",
       "      <td>p</td>\n",
       "      <td>16.60</td>\n",
       "      <td>x</td>\n",
       "      <td>g</td>\n",
       "      <td>o</td>\n",
       "      <td>f</td>\n",
       "      <td>e</td>\n",
       "      <td>na</td>\n",
       "      <td>w</td>\n",
       "      <td>17.99</td>\n",
       "      <td>...</td>\n",
       "      <td>s</td>\n",
       "      <td>y</td>\n",
       "      <td>w</td>\n",
       "      <td>u</td>\n",
       "      <td>w</td>\n",
       "      <td>t</td>\n",
       "      <td>g</td>\n",
       "      <td>na</td>\n",
       "      <td>d</td>\n",
       "      <td>u</td>\n",
       "    </tr>\n",
       "    <tr>\n",
       "      <th>2</th>\n",
       "      <td>p</td>\n",
       "      <td>14.07</td>\n",
       "      <td>x</td>\n",
       "      <td>g</td>\n",
       "      <td>o</td>\n",
       "      <td>f</td>\n",
       "      <td>e</td>\n",
       "      <td>na</td>\n",
       "      <td>w</td>\n",
       "      <td>17.80</td>\n",
       "      <td>...</td>\n",
       "      <td>s</td>\n",
       "      <td>y</td>\n",
       "      <td>w</td>\n",
       "      <td>u</td>\n",
       "      <td>w</td>\n",
       "      <td>t</td>\n",
       "      <td>g</td>\n",
       "      <td>na</td>\n",
       "      <td>d</td>\n",
       "      <td>w</td>\n",
       "    </tr>\n",
       "    <tr>\n",
       "      <th>3</th>\n",
       "      <td>p</td>\n",
       "      <td>14.17</td>\n",
       "      <td>f</td>\n",
       "      <td>h</td>\n",
       "      <td>e</td>\n",
       "      <td>f</td>\n",
       "      <td>e</td>\n",
       "      <td>na</td>\n",
       "      <td>w</td>\n",
       "      <td>15.77</td>\n",
       "      <td>...</td>\n",
       "      <td>s</td>\n",
       "      <td>y</td>\n",
       "      <td>w</td>\n",
       "      <td>u</td>\n",
       "      <td>w</td>\n",
       "      <td>t</td>\n",
       "      <td>p</td>\n",
       "      <td>na</td>\n",
       "      <td>d</td>\n",
       "      <td>w</td>\n",
       "    </tr>\n",
       "    <tr>\n",
       "      <th>4</th>\n",
       "      <td>p</td>\n",
       "      <td>14.64</td>\n",
       "      <td>x</td>\n",
       "      <td>h</td>\n",
       "      <td>o</td>\n",
       "      <td>f</td>\n",
       "      <td>e</td>\n",
       "      <td>na</td>\n",
       "      <td>w</td>\n",
       "      <td>16.53</td>\n",
       "      <td>...</td>\n",
       "      <td>s</td>\n",
       "      <td>y</td>\n",
       "      <td>w</td>\n",
       "      <td>u</td>\n",
       "      <td>w</td>\n",
       "      <td>t</td>\n",
       "      <td>p</td>\n",
       "      <td>na</td>\n",
       "      <td>d</td>\n",
       "      <td>w</td>\n",
       "    </tr>\n",
       "  </tbody>\n",
       "</table>\n",
       "<p>5 rows × 21 columns</p>\n",
       "</div>"
      ],
      "text/plain": [
       "  class  cap-diameter cap-shape cap-surface cap-color does-bruise-or-bleed  \\\n",
       "0     p         15.26         x           g         o                    f   \n",
       "1     p         16.60         x           g         o                    f   \n",
       "2     p         14.07         x           g         o                    f   \n",
       "3     p         14.17         f           h         e                    f   \n",
       "4     p         14.64         x           h         o                    f   \n",
       "\n",
       "  gill-attachment gill-spacing gill-color  stem-height  ...  stem-root  \\\n",
       "0               e           na          w        16.95  ...          s   \n",
       "1               e           na          w        17.99  ...          s   \n",
       "2               e           na          w        17.80  ...          s   \n",
       "3               e           na          w        15.77  ...          s   \n",
       "4               e           na          w        16.53  ...          s   \n",
       "\n",
       "  stem-surface stem-color veil-type veil-color has-ring ring-type  \\\n",
       "0            y          w         u          w        t         g   \n",
       "1            y          w         u          w        t         g   \n",
       "2            y          w         u          w        t         g   \n",
       "3            y          w         u          w        t         p   \n",
       "4            y          w         u          w        t         p   \n",
       "\n",
       "  spore-print-color habitat season  \n",
       "0                na       d      w  \n",
       "1                na       d      u  \n",
       "2                na       d      w  \n",
       "3                na       d      w  \n",
       "4                na       d      w  \n",
       "\n",
       "[5 rows x 21 columns]"
      ]
     },
     "execution_count": 3,
     "metadata": {},
     "output_type": "execute_result"
    }
   ],
   "source": [
    "df_mushrooms.head(5)"
   ]
  },
  {
   "cell_type": "code",
   "execution_count": 4,
   "id": "e1195e7f-1c3b-4388-96b9-e5f54cab2c65",
   "metadata": {},
   "outputs": [],
   "source": [
    "# Split dataset into traint_set adn test_set\n",
    "train_set, test_set = Train_test_split(data = df_mushrooms, test_size = 0.3, seed = 0).split()"
   ]
  },
  {
   "cell_type": "code",
   "execution_count": 5,
   "id": "8af18927-f2ae-4be4-92c7-5d01e2752e0c",
   "metadata": {},
   "outputs": [
    {
     "data": {
      "text/html": [
       "<div>\n",
       "<style scoped>\n",
       "    .dataframe tbody tr th:only-of-type {\n",
       "        vertical-align: middle;\n",
       "    }\n",
       "\n",
       "    .dataframe tbody tr th {\n",
       "        vertical-align: top;\n",
       "    }\n",
       "\n",
       "    .dataframe thead th {\n",
       "        text-align: right;\n",
       "    }\n",
       "</style>\n",
       "<table border=\"1\" class=\"dataframe\">\n",
       "  <thead>\n",
       "    <tr style=\"text-align: right;\">\n",
       "      <th></th>\n",
       "      <th>class</th>\n",
       "      <th>cap-diameter</th>\n",
       "      <th>cap-shape</th>\n",
       "      <th>cap-surface</th>\n",
       "      <th>cap-color</th>\n",
       "      <th>does-bruise-or-bleed</th>\n",
       "      <th>gill-attachment</th>\n",
       "      <th>gill-spacing</th>\n",
       "      <th>gill-color</th>\n",
       "      <th>stem-height</th>\n",
       "      <th>...</th>\n",
       "      <th>stem-root</th>\n",
       "      <th>stem-surface</th>\n",
       "      <th>stem-color</th>\n",
       "      <th>veil-type</th>\n",
       "      <th>veil-color</th>\n",
       "      <th>has-ring</th>\n",
       "      <th>ring-type</th>\n",
       "      <th>spore-print-color</th>\n",
       "      <th>habitat</th>\n",
       "      <th>season</th>\n",
       "    </tr>\n",
       "  </thead>\n",
       "  <tbody>\n",
       "    <tr>\n",
       "      <th>0</th>\n",
       "      <td>p</td>\n",
       "      <td>15.26</td>\n",
       "      <td>x</td>\n",
       "      <td>g</td>\n",
       "      <td>o</td>\n",
       "      <td>f</td>\n",
       "      <td>e</td>\n",
       "      <td>na</td>\n",
       "      <td>w</td>\n",
       "      <td>16.95</td>\n",
       "      <td>...</td>\n",
       "      <td>s</td>\n",
       "      <td>y</td>\n",
       "      <td>w</td>\n",
       "      <td>u</td>\n",
       "      <td>w</td>\n",
       "      <td>t</td>\n",
       "      <td>g</td>\n",
       "      <td>na</td>\n",
       "      <td>d</td>\n",
       "      <td>w</td>\n",
       "    </tr>\n",
       "    <tr>\n",
       "      <th>2</th>\n",
       "      <td>p</td>\n",
       "      <td>14.07</td>\n",
       "      <td>x</td>\n",
       "      <td>g</td>\n",
       "      <td>o</td>\n",
       "      <td>f</td>\n",
       "      <td>e</td>\n",
       "      <td>na</td>\n",
       "      <td>w</td>\n",
       "      <td>17.80</td>\n",
       "      <td>...</td>\n",
       "      <td>s</td>\n",
       "      <td>y</td>\n",
       "      <td>w</td>\n",
       "      <td>u</td>\n",
       "      <td>w</td>\n",
       "      <td>t</td>\n",
       "      <td>g</td>\n",
       "      <td>na</td>\n",
       "      <td>d</td>\n",
       "      <td>w</td>\n",
       "    </tr>\n",
       "    <tr>\n",
       "      <th>3</th>\n",
       "      <td>p</td>\n",
       "      <td>14.17</td>\n",
       "      <td>f</td>\n",
       "      <td>h</td>\n",
       "      <td>e</td>\n",
       "      <td>f</td>\n",
       "      <td>e</td>\n",
       "      <td>na</td>\n",
       "      <td>w</td>\n",
       "      <td>15.77</td>\n",
       "      <td>...</td>\n",
       "      <td>s</td>\n",
       "      <td>y</td>\n",
       "      <td>w</td>\n",
       "      <td>u</td>\n",
       "      <td>w</td>\n",
       "      <td>t</td>\n",
       "      <td>p</td>\n",
       "      <td>na</td>\n",
       "      <td>d</td>\n",
       "      <td>w</td>\n",
       "    </tr>\n",
       "    <tr>\n",
       "      <th>5</th>\n",
       "      <td>p</td>\n",
       "      <td>15.34</td>\n",
       "      <td>x</td>\n",
       "      <td>g</td>\n",
       "      <td>o</td>\n",
       "      <td>f</td>\n",
       "      <td>e</td>\n",
       "      <td>na</td>\n",
       "      <td>w</td>\n",
       "      <td>17.84</td>\n",
       "      <td>...</td>\n",
       "      <td>s</td>\n",
       "      <td>y</td>\n",
       "      <td>w</td>\n",
       "      <td>u</td>\n",
       "      <td>w</td>\n",
       "      <td>t</td>\n",
       "      <td>p</td>\n",
       "      <td>na</td>\n",
       "      <td>d</td>\n",
       "      <td>u</td>\n",
       "    </tr>\n",
       "    <tr>\n",
       "      <th>6</th>\n",
       "      <td>p</td>\n",
       "      <td>14.85</td>\n",
       "      <td>f</td>\n",
       "      <td>h</td>\n",
       "      <td>o</td>\n",
       "      <td>f</td>\n",
       "      <td>e</td>\n",
       "      <td>na</td>\n",
       "      <td>w</td>\n",
       "      <td>17.71</td>\n",
       "      <td>...</td>\n",
       "      <td>s</td>\n",
       "      <td>y</td>\n",
       "      <td>w</td>\n",
       "      <td>u</td>\n",
       "      <td>w</td>\n",
       "      <td>t</td>\n",
       "      <td>g</td>\n",
       "      <td>na</td>\n",
       "      <td>d</td>\n",
       "      <td>w</td>\n",
       "    </tr>\n",
       "  </tbody>\n",
       "</table>\n",
       "<p>5 rows × 21 columns</p>\n",
       "</div>"
      ],
      "text/plain": [
       "  class  cap-diameter cap-shape cap-surface cap-color does-bruise-or-bleed  \\\n",
       "0     p         15.26         x           g         o                    f   \n",
       "2     p         14.07         x           g         o                    f   \n",
       "3     p         14.17         f           h         e                    f   \n",
       "5     p         15.34         x           g         o                    f   \n",
       "6     p         14.85         f           h         o                    f   \n",
       "\n",
       "  gill-attachment gill-spacing gill-color  stem-height  ...  stem-root  \\\n",
       "0               e           na          w        16.95  ...          s   \n",
       "2               e           na          w        17.80  ...          s   \n",
       "3               e           na          w        15.77  ...          s   \n",
       "5               e           na          w        17.84  ...          s   \n",
       "6               e           na          w        17.71  ...          s   \n",
       "\n",
       "  stem-surface stem-color veil-type veil-color has-ring ring-type  \\\n",
       "0            y          w         u          w        t         g   \n",
       "2            y          w         u          w        t         g   \n",
       "3            y          w         u          w        t         p   \n",
       "5            y          w         u          w        t         p   \n",
       "6            y          w         u          w        t         g   \n",
       "\n",
       "  spore-print-color habitat season  \n",
       "0                na       d      w  \n",
       "2                na       d      w  \n",
       "3                na       d      w  \n",
       "5                na       d      u  \n",
       "6                na       d      w  \n",
       "\n",
       "[5 rows x 21 columns]"
      ]
     },
     "execution_count": 5,
     "metadata": {},
     "output_type": "execute_result"
    }
   ],
   "source": [
    "train_set.head(5)"
   ]
  },
  {
   "cell_type": "code",
   "execution_count": 6,
   "id": "25164790-4ef2-48df-aae4-35f6e5236e7d",
   "metadata": {},
   "outputs": [
    {
     "data": {
      "text/html": [
       "<div>\n",
       "<style scoped>\n",
       "    .dataframe tbody tr th:only-of-type {\n",
       "        vertical-align: middle;\n",
       "    }\n",
       "\n",
       "    .dataframe tbody tr th {\n",
       "        vertical-align: top;\n",
       "    }\n",
       "\n",
       "    .dataframe thead th {\n",
       "        text-align: right;\n",
       "    }\n",
       "</style>\n",
       "<table border=\"1\" class=\"dataframe\">\n",
       "  <thead>\n",
       "    <tr style=\"text-align: right;\">\n",
       "      <th></th>\n",
       "      <th>class</th>\n",
       "      <th>cap-diameter</th>\n",
       "      <th>cap-shape</th>\n",
       "      <th>cap-surface</th>\n",
       "      <th>cap-color</th>\n",
       "      <th>does-bruise-or-bleed</th>\n",
       "      <th>gill-attachment</th>\n",
       "      <th>gill-spacing</th>\n",
       "      <th>gill-color</th>\n",
       "      <th>stem-height</th>\n",
       "      <th>...</th>\n",
       "      <th>stem-root</th>\n",
       "      <th>stem-surface</th>\n",
       "      <th>stem-color</th>\n",
       "      <th>veil-type</th>\n",
       "      <th>veil-color</th>\n",
       "      <th>has-ring</th>\n",
       "      <th>ring-type</th>\n",
       "      <th>spore-print-color</th>\n",
       "      <th>habitat</th>\n",
       "      <th>season</th>\n",
       "    </tr>\n",
       "  </thead>\n",
       "  <tbody>\n",
       "    <tr>\n",
       "      <th>55340</th>\n",
       "      <td>e</td>\n",
       "      <td>4.71</td>\n",
       "      <td>o</td>\n",
       "      <td>l</td>\n",
       "      <td>n</td>\n",
       "      <td>f</td>\n",
       "      <td>f</td>\n",
       "      <td>f</td>\n",
       "      <td>f</td>\n",
       "      <td>8.02</td>\n",
       "      <td>...</td>\n",
       "      <td>na</td>\n",
       "      <td>na</td>\n",
       "      <td>n</td>\n",
       "      <td>na</td>\n",
       "      <td>na</td>\n",
       "      <td>f</td>\n",
       "      <td>f</td>\n",
       "      <td>g</td>\n",
       "      <td>d</td>\n",
       "      <td>u</td>\n",
       "    </tr>\n",
       "    <tr>\n",
       "      <th>25247</th>\n",
       "      <td>e</td>\n",
       "      <td>15.24</td>\n",
       "      <td>x</td>\n",
       "      <td>t</td>\n",
       "      <td>n</td>\n",
       "      <td>f</td>\n",
       "      <td>a</td>\n",
       "      <td>d</td>\n",
       "      <td>k</td>\n",
       "      <td>8.43</td>\n",
       "      <td>...</td>\n",
       "      <td>na</td>\n",
       "      <td>na</td>\n",
       "      <td>w</td>\n",
       "      <td>na</td>\n",
       "      <td>na</td>\n",
       "      <td>f</td>\n",
       "      <td>f</td>\n",
       "      <td>w</td>\n",
       "      <td>d</td>\n",
       "      <td>w</td>\n",
       "    </tr>\n",
       "    <tr>\n",
       "      <th>49673</th>\n",
       "      <td>e</td>\n",
       "      <td>5.24</td>\n",
       "      <td>x</td>\n",
       "      <td>d</td>\n",
       "      <td>n</td>\n",
       "      <td>t</td>\n",
       "      <td>p</td>\n",
       "      <td>na</td>\n",
       "      <td>y</td>\n",
       "      <td>6.46</td>\n",
       "      <td>...</td>\n",
       "      <td>na</td>\n",
       "      <td>na</td>\n",
       "      <td>y</td>\n",
       "      <td>na</td>\n",
       "      <td>na</td>\n",
       "      <td>f</td>\n",
       "      <td>f</td>\n",
       "      <td>na</td>\n",
       "      <td>d</td>\n",
       "      <td>a</td>\n",
       "    </tr>\n",
       "    <tr>\n",
       "      <th>58343</th>\n",
       "      <td>e</td>\n",
       "      <td>52.81</td>\n",
       "      <td>o</td>\n",
       "      <td>y</td>\n",
       "      <td>y</td>\n",
       "      <td>f</td>\n",
       "      <td>p</td>\n",
       "      <td>na</td>\n",
       "      <td>y</td>\n",
       "      <td>7.84</td>\n",
       "      <td>...</td>\n",
       "      <td>na</td>\n",
       "      <td>k</td>\n",
       "      <td>k</td>\n",
       "      <td>na</td>\n",
       "      <td>na</td>\n",
       "      <td>f</td>\n",
       "      <td>f</td>\n",
       "      <td>na</td>\n",
       "      <td>d</td>\n",
       "      <td>u</td>\n",
       "    </tr>\n",
       "    <tr>\n",
       "      <th>27562</th>\n",
       "      <td>p</td>\n",
       "      <td>5.05</td>\n",
       "      <td>s</td>\n",
       "      <td>d</td>\n",
       "      <td>e</td>\n",
       "      <td>t</td>\n",
       "      <td>d</td>\n",
       "      <td>c</td>\n",
       "      <td>w</td>\n",
       "      <td>5.89</td>\n",
       "      <td>...</td>\n",
       "      <td>na</td>\n",
       "      <td>na</td>\n",
       "      <td>n</td>\n",
       "      <td>na</td>\n",
       "      <td>na</td>\n",
       "      <td>f</td>\n",
       "      <td>f</td>\n",
       "      <td>na</td>\n",
       "      <td>d</td>\n",
       "      <td>a</td>\n",
       "    </tr>\n",
       "  </tbody>\n",
       "</table>\n",
       "<p>5 rows × 21 columns</p>\n",
       "</div>"
      ],
      "text/plain": [
       "      class  cap-diameter cap-shape cap-surface cap-color  \\\n",
       "55340     e          4.71         o           l         n   \n",
       "25247     e         15.24         x           t         n   \n",
       "49673     e          5.24         x           d         n   \n",
       "58343     e         52.81         o           y         y   \n",
       "27562     p          5.05         s           d         e   \n",
       "\n",
       "      does-bruise-or-bleed gill-attachment gill-spacing gill-color  \\\n",
       "55340                    f               f            f          f   \n",
       "25247                    f               a            d          k   \n",
       "49673                    t               p           na          y   \n",
       "58343                    f               p           na          y   \n",
       "27562                    t               d            c          w   \n",
       "\n",
       "       stem-height  ...  stem-root stem-surface stem-color veil-type  \\\n",
       "55340         8.02  ...         na           na          n        na   \n",
       "25247         8.43  ...         na           na          w        na   \n",
       "49673         6.46  ...         na           na          y        na   \n",
       "58343         7.84  ...         na            k          k        na   \n",
       "27562         5.89  ...         na           na          n        na   \n",
       "\n",
       "      veil-color has-ring ring-type spore-print-color habitat season  \n",
       "55340         na        f         f                 g       d      u  \n",
       "25247         na        f         f                 w       d      w  \n",
       "49673         na        f         f                na       d      a  \n",
       "58343         na        f         f                na       d      u  \n",
       "27562         na        f         f                na       d      a  \n",
       "\n",
       "[5 rows x 21 columns]"
      ]
     },
     "execution_count": 6,
     "metadata": {},
     "output_type": "execute_result"
    }
   ],
   "source": [
    "test_set.head(5)"
   ]
  },
  {
   "cell_type": "code",
   "execution_count": 7,
   "id": "dbd3e7e0-94d0-468c-ab11-3a2ae9407b45",
   "metadata": {},
   "outputs": [
    {
     "name": "stdout",
     "output_type": "stream",
     "text": [
      "train_set:\n",
      "p: 23715\n",
      "e: 19033\n",
      "test_set:\n",
      "p: 10173\n",
      "e: 8148\n"
     ]
    }
   ],
   "source": [
    "print(\"train_set:\")\n",
    "print(f\"p: {train_set['class'][train_set['class'] == 'p'].count()}\")\n",
    "print(f\"e: {train_set['class'][train_set['class'] == 'e'].count()}\")\n",
    "\n",
    "print(\"test_set:\")\n",
    "print(f\"p: {test_set['class'][test_set['class'] == 'p'].count()}\")\n",
    "print(f\"e: {test_set['class'][test_set['class'] == 'e'].count()}\")"
   ]
  },
  {
   "cell_type": "markdown",
   "id": "30f6a2dd-8ef4-4e04-a47d-e9dfeba70f3e",
   "metadata": {},
   "source": [
    "## Functions"
   ]
  },
  {
   "cell_type": "markdown",
   "id": "50a6d9ba-bdcb-40ac-924c-bda36d518abb",
   "metadata": {},
   "source": [
    "### Leaf flag"
   ]
  },
  {
   "cell_type": "code",
   "execution_count": 9,
   "id": "ad7be04d-135f-4876-898a-49f97c48e2a8",
   "metadata": {},
   "outputs": [],
   "source": [
    "def is_leaf (data):\n",
    "\n",
    "    label_column = data[:, 0]\n",
    "    unique_classes = np.unique(label_column)\n",
    "\n",
    "    if len(unique_classes) == 1:\n",
    "        return True\n",
    "    else:\n",
    "        return False"
   ]
  },
  {
   "cell_type": "code",
   "execution_count": 10,
   "id": "65c72030-aac3-4919-8a0b-1a601fd38285",
   "metadata": {},
   "outputs": [
    {
     "data": {
      "text/plain": [
       "False"
      ]
     },
     "execution_count": 10,
     "metadata": {},
     "output_type": "execute_result"
    }
   ],
   "source": [
    "is_leaf(train_set.values)"
   ]
  },
  {
   "cell_type": "code",
   "execution_count": 11,
   "id": "9096a6b2-71ac-41a8-b968-8989473efd47",
   "metadata": {},
   "outputs": [
    {
     "data": {
      "text/plain": [
       "True"
      ]
     },
     "execution_count": 11,
     "metadata": {},
     "output_type": "execute_result"
    }
   ],
   "source": [
    "is_leaf(train_set[train_set['class'] == 'p'].values)"
   ]
  },
  {
   "cell_type": "markdown",
   "id": "4b4d1c39-f0d0-47a8-afa9-b65620e069cd",
   "metadata": {},
   "source": [
    "### Classification"
   ]
  },
  {
   "cell_type": "code",
   "execution_count": 35,
   "id": "93210708-8a53-4165-b8d7-45361bd1db7b",
   "metadata": {},
   "outputs": [],
   "source": [
    "def classify_data(data):\n",
    "    \n",
    "    label_column = data.iloc[:, 0].values\n",
    "    unique_classes, count_unique_classes = np.unique(label_column, return_counts=True)\n",
    "\n",
    "    index = count_unique_classes.argmax()\n",
    "    classification = unique_classes[index]\n",
    "    \n",
    "    return classification"
   ]
  },
  {
   "cell_type": "code",
   "execution_count": 36,
   "id": "3a4065ec-9c4a-4600-9c5c-0156730711bf",
   "metadata": {},
   "outputs": [
    {
     "data": {
      "text/plain": [
       "'p'"
      ]
     },
     "execution_count": 36,
     "metadata": {},
     "output_type": "execute_result"
    }
   ],
   "source": [
    "classify_data(train_set)"
   ]
  },
  {
   "cell_type": "code",
   "execution_count": 14,
   "id": "944c13c3-2d86-4294-acc0-e60078354ad6",
   "metadata": {},
   "outputs": [
    {
     "data": {
      "text/plain": [
       "'e'"
      ]
     },
     "execution_count": 14,
     "metadata": {},
     "output_type": "execute_result"
    }
   ],
   "source": [
    "classify_data(train_set[train_set['class'] == 'e'].values)"
   ]
  },
  {
   "cell_type": "markdown",
   "id": "8eb10f4f-d4d7-4404-ab67-0177b64cb35d",
   "metadata": {},
   "source": [
    "### Split"
   ]
  },
  {
   "cell_type": "code",
   "execution_count": 15,
   "id": "bf77ace1-c052-45f9-bcfe-d907673f719d",
   "metadata": {},
   "outputs": [
    {
     "data": {
      "text/plain": [
       "0        15.26\n",
       "2        14.07\n",
       "3        14.17\n",
       "5        15.34\n",
       "6        14.85\n",
       "         ...  \n",
       "61064     1.18\n",
       "61065     1.27\n",
       "61066     1.27\n",
       "61067     1.24\n",
       "61068     1.17\n",
       "Name: cap-diameter, Length: 42748, dtype: float64"
      ]
     },
     "execution_count": 15,
     "metadata": {},
     "output_type": "execute_result"
    }
   ],
   "source": [
    "split_column_values = train_set.iloc[:, 1]\n",
    "split_column_values"
   ]
  },
  {
   "cell_type": "code",
   "execution_count": 16,
   "id": "49a7e76b-80d4-4989-9937-3dcb663f7e17",
   "metadata": {},
   "outputs": [],
   "source": [
    "def split_data(data, split_column, split_value):\n",
    "    \n",
    "    split_column_values = data.iloc[:, split_column]\n",
    "\n",
    "    data_below = data[split_column_values <= split_value]\n",
    "    data_above = data[split_column_values >  split_value]\n",
    "    \n",
    "    return data_below, data_above"
   ]
  },
  {
   "cell_type": "markdown",
   "id": "48df3131-c91f-4e51-820e-42134e020420",
   "metadata": {},
   "source": [
    "### Gini impurity (simplified function for binary nodes)"
   ]
  },
  {
   "cell_type": "code",
   "execution_count": 17,
   "id": "492ab8ed-9850-4737-91fa-be21a1544205",
   "metadata": {},
   "outputs": [
    {
     "data": {
      "text/plain": [
       "array([19033, 23715], dtype=int64)"
      ]
     },
     "execution_count": 17,
     "metadata": {},
     "output_type": "execute_result"
    }
   ],
   "source": [
    "label_column = train_set.iloc[:, 0]\n",
    "    \n",
    "_, counts = np.unique(label_column, return_counts=True)\n",
    "\n",
    "counts"
   ]
  },
  {
   "cell_type": "code",
   "execution_count": 18,
   "id": "4ac11808-9c02-4b21-bec5-52dce7687805",
   "metadata": {},
   "outputs": [
    {
     "data": {
      "text/plain": [
       "array([0.4452372, 0.5547628])"
      ]
     },
     "execution_count": 18,
     "metadata": {},
     "output_type": "execute_result"
    }
   ],
   "source": [
    "label_column = train_set.iloc[:, 0]\n",
    "    \n",
    "_, counts = np.unique(label_column, return_counts=True)\n",
    "\n",
    "p = counts/counts.sum()\n",
    "\n",
    "p"
   ]
  },
  {
   "cell_type": "code",
   "execution_count": 19,
   "id": "6771dbd5-422d-475f-b0ad-ece13318d082",
   "metadata": {},
   "outputs": [
    {
     "data": {
      "text/plain": [
       "0.49400207236598814"
      ]
     },
     "execution_count": 19,
     "metadata": {},
     "output_type": "execute_result"
    }
   ],
   "source": [
    "1 - np.sum(p ** 2)"
   ]
  },
  {
   "cell_type": "code",
   "execution_count": 20,
   "id": "cda2302a-bfe1-4c42-a086-f00039716bb5",
   "metadata": {},
   "outputs": [],
   "source": [
    "def gini_impurity(data):\n",
    "    \n",
    "    label_column = data.iloc[:, 0]\n",
    "    \n",
    "    _, counts = np.unique(label_column, return_counts=True)\n",
    "\n",
    "    if len(counts) != 2:\n",
    "        raise ValueError(\"Tree for binary nodes, so only 2 classes are accepted.\")\n",
    "\n",
    "    p = counts / counts.sum()\n",
    "    \n",
    "    gini = 1 - np.sum(p ** 2)\n",
    "     \n",
    "    return gini"
   ]
  },
  {
   "cell_type": "code",
   "execution_count": 21,
   "id": "5dcf83cb-3122-4de5-b817-20885dfdb26b",
   "metadata": {},
   "outputs": [
    {
     "data": {
      "text/plain": [
       "0.49400207236598814"
      ]
     },
     "execution_count": 21,
     "metadata": {},
     "output_type": "execute_result"
    }
   ],
   "source": [
    "gini_impurity(train_set)"
   ]
  },
  {
   "cell_type": "markdown",
   "id": "3bbc4059-2761-42b8-a4b9-616ece564b4f",
   "metadata": {},
   "source": [
    "### Attribute types"
   ]
  },
  {
   "cell_type": "code",
   "execution_count": 22,
   "id": "e36754e1-9d56-4e93-af94-df82d0593281",
   "metadata": {},
   "outputs": [
    {
     "data": {
      "text/plain": [
       "class                      2\n",
       "cap-diameter            2380\n",
       "cap-shape                  7\n",
       "cap-surface               12\n",
       "cap-color                 12\n",
       "does-bruise-or-bleed       2\n",
       "gill-attachment            8\n",
       "gill-spacing               4\n",
       "gill-color                12\n",
       "stem-height             2067\n",
       "stem-width              4286\n",
       "stem-root                  6\n",
       "stem-surface               9\n",
       "stem-color                13\n",
       "veil-type                  2\n",
       "veil-color                 7\n",
       "has-ring                   2\n",
       "ring-type                  9\n",
       "spore-print-color          8\n",
       "habitat                    8\n",
       "season                     4\n",
       "dtype: int64"
      ]
     },
     "execution_count": 22,
     "metadata": {},
     "output_type": "execute_result"
    }
   ],
   "source": [
    "train_set.nunique()"
   ]
  },
  {
   "cell_type": "code",
   "execution_count": 23,
   "id": "d29928ae-02b8-46e0-abfa-ac0fdb821b12",
   "metadata": {},
   "outputs": [],
   "source": [
    "def attribute_type(data):\n",
    "    \n",
    "    attribute_types = []\n",
    "    treshold = 20\n",
    "\n",
    "    for attribute in data.columns:\n",
    "        if attribute != \"class\":\n",
    "            unique_values = data[attribute].unique()\n",
    "            first_value = unique_values[0]\n",
    "\n",
    "            if (isinstance(first_value, str)) or (len(unique_values) <= treshold):\n",
    "                attribute_types.append(\"categorical\")\n",
    "            else:\n",
    "                attribute_types.append(\"continuous\")\n",
    "    \n",
    "    return attribute_types"
   ]
  },
  {
   "cell_type": "code",
   "execution_count": 24,
   "id": "6ac98014-f601-47b3-9983-0d83ffcd5138",
   "metadata": {},
   "outputs": [
    {
     "data": {
      "text/plain": [
       "['continuous',\n",
       " 'categorical',\n",
       " 'categorical',\n",
       " 'categorical',\n",
       " 'categorical',\n",
       " 'categorical',\n",
       " 'categorical',\n",
       " 'categorical',\n",
       " 'continuous',\n",
       " 'continuous',\n",
       " 'categorical',\n",
       " 'categorical',\n",
       " 'categorical',\n",
       " 'categorical',\n",
       " 'categorical',\n",
       " 'categorical',\n",
       " 'categorical',\n",
       " 'categorical',\n",
       " 'categorical',\n",
       " 'categorical']"
      ]
     },
     "execution_count": 24,
     "metadata": {},
     "output_type": "execute_result"
    }
   ],
   "source": [
    "attribute_type(train_set)"
   ]
  },
  {
   "cell_type": "code",
   "execution_count": null,
   "id": "9f434e4d-86cb-4bfb-b1bb-29a9f4ec1c4f",
   "metadata": {},
   "outputs": [],
   "source": []
  }
 ],
 "metadata": {
  "kernelspec": {
   "display_name": "Python 3 (ipykernel)",
   "language": "python",
   "name": "python3"
  },
  "language_info": {
   "codemirror_mode": {
    "name": "ipython",
    "version": 3
   },
   "file_extension": ".py",
   "mimetype": "text/x-python",
   "name": "python",
   "nbconvert_exporter": "python",
   "pygments_lexer": "ipython3",
   "version": "3.11.0"
  }
 },
 "nbformat": 4,
 "nbformat_minor": 5
}
