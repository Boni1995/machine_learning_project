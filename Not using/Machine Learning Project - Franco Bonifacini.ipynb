{
 "cells": [
  {
   "cell_type": "markdown",
   "id": "6d33c9f5-cff7-4471-bd99-789fdb76aea8",
   "metadata": {},
   "source": [
    "# Pre-requisites\n",
    "_Libraries and objects used, together with the imported dataset._"
   ]
  },
  {
   "cell_type": "markdown",
   "id": "869e4e45-41cc-4196-a234-ef630931b794",
   "metadata": {},
   "source": [
    "## Libraries used"
   ]
  },
  {
   "cell_type": "code",
   "execution_count": 1,
   "id": "56ad84de-f502-42a9-abac-e3fcfbab2aa2",
   "metadata": {},
   "outputs": [],
   "source": [
    "import numpy as np\n",
    "import pandas as pd"
   ]
  },
  {
   "cell_type": "markdown",
   "id": "25922277-b0b4-4495-bf20-8f942f1cb51d",
   "metadata": {},
   "source": [
    "## Objects used"
   ]
  },
  {
   "cell_type": "code",
   "execution_count": 2,
   "id": "943b800f-8cc7-4ca5-8324-0ec3a59ac3de",
   "metadata": {},
   "outputs": [],
   "source": [
    "# Object for importing data\n",
    "from data import Mushrooms_dataset\n",
    "\n",
    "# Object for encoding categorical values and target\n",
    "from encoding import Encoding\n",
    "\n",
    "# Object for splitting data into train and test set\n",
    "from train_test_split import split\n",
    "\n",
    "# Object for calculating the gini function\n",
    "from criterions import information_gain\n",
    "\n",
    "# Object for Randomized Search CV\n",
    "from randomized_search_cv import RandomizedSearchCV\n",
    "\n",
    "# Object for the tree's nodes\n",
    "from tree_node import TreeNode\n",
    "\n",
    "# Object for the tree algorithm\n",
    "from tree_algorithm import DecisionTree\n",
    "\n",
    "# Object for evaluating the final model\n",
    "from model_evaluation import ModelEvaluator"
   ]
  },
  {
   "cell_type": "markdown",
   "id": "1134ea93-260e-4893-9a8b-6c2c41f1d54b",
   "metadata": {},
   "source": [
    "## Import dataset"
   ]
  },
  {
   "cell_type": "code",
   "execution_count": 3,
   "id": "00f4a570-28bb-420d-a9eb-99f7a8dc5f2e",
   "metadata": {},
   "outputs": [],
   "source": [
    "# Folder where the dataset is saved\n",
    "path = 'Datasets'"
   ]
  },
  {
   "cell_type": "code",
   "execution_count": 4,
   "id": "7c29d74c-136f-436a-8305-ca287ff877bf",
   "metadata": {},
   "outputs": [],
   "source": [
    "# Associating the dataset to a variable\n",
    "df_mushrooms = Mushrooms_dataset(path).dataset"
   ]
  },
  {
   "cell_type": "markdown",
   "id": "97993947-f207-4a8a-91e9-f78e9dc769ba",
   "metadata": {},
   "source": [
    "# EDA\n",
    "_Some exploratory data analysis to understando the data that is going to be used for the construction of the tree predictor._"
   ]
  },
  {
   "cell_type": "code",
   "execution_count": 5,
   "id": "ca9aae53-1cfc-461e-8244-758b4efcf40d",
   "metadata": {},
   "outputs": [
    {
     "data": {
      "text/html": [
       "<div>\n",
       "<style scoped>\n",
       "    .dataframe tbody tr th:only-of-type {\n",
       "        vertical-align: middle;\n",
       "    }\n",
       "\n",
       "    .dataframe tbody tr th {\n",
       "        vertical-align: top;\n",
       "    }\n",
       "\n",
       "    .dataframe thead th {\n",
       "        text-align: right;\n",
       "    }\n",
       "</style>\n",
       "<table border=\"1\" class=\"dataframe\">\n",
       "  <thead>\n",
       "    <tr style=\"text-align: right;\">\n",
       "      <th></th>\n",
       "      <th>class</th>\n",
       "      <th>cap-diameter</th>\n",
       "      <th>cap-shape</th>\n",
       "      <th>cap-surface</th>\n",
       "      <th>cap-color</th>\n",
       "      <th>does-bruise-or-bleed</th>\n",
       "      <th>gill-attachment</th>\n",
       "      <th>gill-spacing</th>\n",
       "      <th>gill-color</th>\n",
       "      <th>stem-height</th>\n",
       "      <th>...</th>\n",
       "      <th>stem-root</th>\n",
       "      <th>stem-surface</th>\n",
       "      <th>stem-color</th>\n",
       "      <th>veil-type</th>\n",
       "      <th>veil-color</th>\n",
       "      <th>has-ring</th>\n",
       "      <th>ring-type</th>\n",
       "      <th>spore-print-color</th>\n",
       "      <th>habitat</th>\n",
       "      <th>season</th>\n",
       "    </tr>\n",
       "  </thead>\n",
       "  <tbody>\n",
       "    <tr>\n",
       "      <th>0</th>\n",
       "      <td>p</td>\n",
       "      <td>15.26</td>\n",
       "      <td>x</td>\n",
       "      <td>g</td>\n",
       "      <td>o</td>\n",
       "      <td>f</td>\n",
       "      <td>e</td>\n",
       "      <td>NaN</td>\n",
       "      <td>w</td>\n",
       "      <td>16.95</td>\n",
       "      <td>...</td>\n",
       "      <td>s</td>\n",
       "      <td>y</td>\n",
       "      <td>w</td>\n",
       "      <td>u</td>\n",
       "      <td>w</td>\n",
       "      <td>t</td>\n",
       "      <td>g</td>\n",
       "      <td>NaN</td>\n",
       "      <td>d</td>\n",
       "      <td>w</td>\n",
       "    </tr>\n",
       "    <tr>\n",
       "      <th>1</th>\n",
       "      <td>p</td>\n",
       "      <td>16.60</td>\n",
       "      <td>x</td>\n",
       "      <td>g</td>\n",
       "      <td>o</td>\n",
       "      <td>f</td>\n",
       "      <td>e</td>\n",
       "      <td>NaN</td>\n",
       "      <td>w</td>\n",
       "      <td>17.99</td>\n",
       "      <td>...</td>\n",
       "      <td>s</td>\n",
       "      <td>y</td>\n",
       "      <td>w</td>\n",
       "      <td>u</td>\n",
       "      <td>w</td>\n",
       "      <td>t</td>\n",
       "      <td>g</td>\n",
       "      <td>NaN</td>\n",
       "      <td>d</td>\n",
       "      <td>u</td>\n",
       "    </tr>\n",
       "    <tr>\n",
       "      <th>2</th>\n",
       "      <td>p</td>\n",
       "      <td>14.07</td>\n",
       "      <td>x</td>\n",
       "      <td>g</td>\n",
       "      <td>o</td>\n",
       "      <td>f</td>\n",
       "      <td>e</td>\n",
       "      <td>NaN</td>\n",
       "      <td>w</td>\n",
       "      <td>17.80</td>\n",
       "      <td>...</td>\n",
       "      <td>s</td>\n",
       "      <td>y</td>\n",
       "      <td>w</td>\n",
       "      <td>u</td>\n",
       "      <td>w</td>\n",
       "      <td>t</td>\n",
       "      <td>g</td>\n",
       "      <td>NaN</td>\n",
       "      <td>d</td>\n",
       "      <td>w</td>\n",
       "    </tr>\n",
       "    <tr>\n",
       "      <th>3</th>\n",
       "      <td>p</td>\n",
       "      <td>14.17</td>\n",
       "      <td>f</td>\n",
       "      <td>h</td>\n",
       "      <td>e</td>\n",
       "      <td>f</td>\n",
       "      <td>e</td>\n",
       "      <td>NaN</td>\n",
       "      <td>w</td>\n",
       "      <td>15.77</td>\n",
       "      <td>...</td>\n",
       "      <td>s</td>\n",
       "      <td>y</td>\n",
       "      <td>w</td>\n",
       "      <td>u</td>\n",
       "      <td>w</td>\n",
       "      <td>t</td>\n",
       "      <td>p</td>\n",
       "      <td>NaN</td>\n",
       "      <td>d</td>\n",
       "      <td>w</td>\n",
       "    </tr>\n",
       "    <tr>\n",
       "      <th>4</th>\n",
       "      <td>p</td>\n",
       "      <td>14.64</td>\n",
       "      <td>x</td>\n",
       "      <td>h</td>\n",
       "      <td>o</td>\n",
       "      <td>f</td>\n",
       "      <td>e</td>\n",
       "      <td>NaN</td>\n",
       "      <td>w</td>\n",
       "      <td>16.53</td>\n",
       "      <td>...</td>\n",
       "      <td>s</td>\n",
       "      <td>y</td>\n",
       "      <td>w</td>\n",
       "      <td>u</td>\n",
       "      <td>w</td>\n",
       "      <td>t</td>\n",
       "      <td>p</td>\n",
       "      <td>NaN</td>\n",
       "      <td>d</td>\n",
       "      <td>w</td>\n",
       "    </tr>\n",
       "  </tbody>\n",
       "</table>\n",
       "<p>5 rows × 21 columns</p>\n",
       "</div>"
      ],
      "text/plain": [
       "  class  cap-diameter cap-shape cap-surface cap-color does-bruise-or-bleed  \\\n",
       "0     p         15.26         x           g         o                    f   \n",
       "1     p         16.60         x           g         o                    f   \n",
       "2     p         14.07         x           g         o                    f   \n",
       "3     p         14.17         f           h         e                    f   \n",
       "4     p         14.64         x           h         o                    f   \n",
       "\n",
       "  gill-attachment gill-spacing gill-color  stem-height  ...  stem-root  \\\n",
       "0               e          NaN          w        16.95  ...          s   \n",
       "1               e          NaN          w        17.99  ...          s   \n",
       "2               e          NaN          w        17.80  ...          s   \n",
       "3               e          NaN          w        15.77  ...          s   \n",
       "4               e          NaN          w        16.53  ...          s   \n",
       "\n",
       "  stem-surface stem-color veil-type veil-color has-ring ring-type  \\\n",
       "0            y          w         u          w        t         g   \n",
       "1            y          w         u          w        t         g   \n",
       "2            y          w         u          w        t         g   \n",
       "3            y          w         u          w        t         p   \n",
       "4            y          w         u          w        t         p   \n",
       "\n",
       "  spore-print-color habitat season  \n",
       "0               NaN       d      w  \n",
       "1               NaN       d      u  \n",
       "2               NaN       d      w  \n",
       "3               NaN       d      w  \n",
       "4               NaN       d      w  \n",
       "\n",
       "[5 rows x 21 columns]"
      ]
     },
     "execution_count": 5,
     "metadata": {},
     "output_type": "execute_result"
    }
   ],
   "source": [
    "# See the first 5 rows of the dataset\n",
    "original_data = df_mushrooms # Just for future comparisons after processing data\n",
    "df_mushrooms.head(5)"
   ]
  },
  {
   "cell_type": "code",
   "execution_count": 6,
   "id": "a413441b-166f-469e-be5b-0008da0f2ccd",
   "metadata": {},
   "outputs": [
    {
     "name": "stdout",
     "output_type": "stream",
     "text": [
      "There are some attributes with missing values:\n",
      "<class 'pandas.core.frame.DataFrame'>\n",
      "RangeIndex: 61069 entries, 0 to 61068\n",
      "Data columns (total 21 columns):\n",
      " #   Column                Non-Null Count  Dtype  \n",
      "---  ------                --------------  -----  \n",
      " 0   class                 61069 non-null  object \n",
      " 1   cap-diameter          61069 non-null  float64\n",
      " 2   cap-shape             61069 non-null  object \n",
      " 3   cap-surface           46949 non-null  object \n",
      " 4   cap-color             61069 non-null  object \n",
      " 5   does-bruise-or-bleed  61069 non-null  object \n",
      " 6   gill-attachment       51185 non-null  object \n",
      " 7   gill-spacing          36006 non-null  object \n",
      " 8   gill-color            61069 non-null  object \n",
      " 9   stem-height           61069 non-null  float64\n",
      " 10  stem-width            61069 non-null  float64\n",
      " 11  stem-root             9531 non-null   object \n",
      " 12  stem-surface          22945 non-null  object \n",
      " 13  stem-color            61069 non-null  object \n",
      " 14  veil-type             3177 non-null   object \n",
      " 15  veil-color            7413 non-null   object \n",
      " 16  has-ring              61069 non-null  object \n",
      " 17  ring-type             58598 non-null  object \n",
      " 18  spore-print-color     6354 non-null   object \n",
      " 19  habitat               61069 non-null  object \n",
      " 20  season                61069 non-null  object \n",
      "dtypes: float64(3), object(18)\n",
      "memory usage: 9.8+ MB\n",
      "None\n"
     ]
    }
   ],
   "source": [
    "# Check the type of each attribute\n",
    "print(f\"There are some attributes with missing values:\")\n",
    "print(df_mushrooms.info())"
   ]
  },
  {
   "cell_type": "markdown",
   "id": "767524de-b250-4785-aa82-900743d4f014",
   "metadata": {},
   "source": [
    "No null values for continuous values, while some categorical columns have nul values."
   ]
  },
  {
   "cell_type": "code",
   "execution_count": 7,
   "id": "95dec12f-eaac-4652-bd17-4043ff85a2c9",
   "metadata": {},
   "outputs": [
    {
     "name": "stdout",
     "output_type": "stream",
     "text": [
      "Taking into account these percentages, I'll exclude those attributes with more than 80% of null values:\n",
      "class                    0.00\n",
      "cap-diameter             0.00\n",
      "cap-shape                0.00\n",
      "cap-surface             23.12\n",
      "cap-color                0.00\n",
      "does-bruise-or-bleed     0.00\n",
      "gill-attachment         16.18\n",
      "gill-spacing            41.04\n",
      "gill-color               0.00\n",
      "stem-height              0.00\n",
      "stem-width               0.00\n",
      "stem-root               84.39\n",
      "stem-surface            62.43\n",
      "stem-color               0.00\n",
      "veil-type               94.80\n",
      "veil-color              87.86\n",
      "has-ring                 0.00\n",
      "ring-type                4.05\n",
      "spore-print-color       89.60\n",
      "habitat                  0.00\n",
      "season                   0.00\n",
      "dtype: float64\n"
     ]
    }
   ],
   "source": [
    "# Obtain percentage of null values\n",
    "print(f\"Taking into account these percentages, I'll exclude those attributes with more than 80% of null values:\")\n",
    "print(round(df_mushrooms.isna().sum()/len(df_mushrooms)*100,2))"
   ]
  },
  {
   "cell_type": "code",
   "execution_count": 8,
   "id": "5f4f7fed-8db5-44e1-80b4-38867b62bb80",
   "metadata": {},
   "outputs": [
    {
     "data": {
      "text/plain": [
       "Index(['stem-root', 'veil-type', 'veil-color', 'spore-print-color'], dtype='object')"
      ]
     },
     "execution_count": 8,
     "metadata": {},
     "output_type": "execute_result"
    }
   ],
   "source": [
    "# Obtain columns which exceed the threshold of 80%\n",
    "columns_to_drop = df_mushrooms.columns[(round(df_mushrooms.isna().sum()/len(df_mushrooms)*100,2)) >= 80]\n",
    "columns_to_drop"
   ]
  },
  {
   "cell_type": "code",
   "execution_count": 9,
   "id": "5c9703a1-4d94-465f-869f-f09b139a8efe",
   "metadata": {},
   "outputs": [
    {
     "data": {
      "text/html": [
       "<div>\n",
       "<style scoped>\n",
       "    .dataframe tbody tr th:only-of-type {\n",
       "        vertical-align: middle;\n",
       "    }\n",
       "\n",
       "    .dataframe tbody tr th {\n",
       "        vertical-align: top;\n",
       "    }\n",
       "\n",
       "    .dataframe thead th {\n",
       "        text-align: right;\n",
       "    }\n",
       "</style>\n",
       "<table border=\"1\" class=\"dataframe\">\n",
       "  <thead>\n",
       "    <tr style=\"text-align: right;\">\n",
       "      <th></th>\n",
       "      <th>class</th>\n",
       "      <th>cap-diameter</th>\n",
       "      <th>cap-shape</th>\n",
       "      <th>cap-surface</th>\n",
       "      <th>cap-color</th>\n",
       "      <th>does-bruise-or-bleed</th>\n",
       "      <th>gill-attachment</th>\n",
       "      <th>gill-spacing</th>\n",
       "      <th>gill-color</th>\n",
       "      <th>stem-height</th>\n",
       "      <th>stem-width</th>\n",
       "      <th>stem-surface</th>\n",
       "      <th>stem-color</th>\n",
       "      <th>has-ring</th>\n",
       "      <th>ring-type</th>\n",
       "      <th>habitat</th>\n",
       "      <th>season</th>\n",
       "    </tr>\n",
       "  </thead>\n",
       "  <tbody>\n",
       "    <tr>\n",
       "      <th>0</th>\n",
       "      <td>p</td>\n",
       "      <td>15.26</td>\n",
       "      <td>x</td>\n",
       "      <td>g</td>\n",
       "      <td>o</td>\n",
       "      <td>f</td>\n",
       "      <td>e</td>\n",
       "      <td>NaN</td>\n",
       "      <td>w</td>\n",
       "      <td>16.95</td>\n",
       "      <td>17.09</td>\n",
       "      <td>y</td>\n",
       "      <td>w</td>\n",
       "      <td>t</td>\n",
       "      <td>g</td>\n",
       "      <td>d</td>\n",
       "      <td>w</td>\n",
       "    </tr>\n",
       "    <tr>\n",
       "      <th>1</th>\n",
       "      <td>p</td>\n",
       "      <td>16.60</td>\n",
       "      <td>x</td>\n",
       "      <td>g</td>\n",
       "      <td>o</td>\n",
       "      <td>f</td>\n",
       "      <td>e</td>\n",
       "      <td>NaN</td>\n",
       "      <td>w</td>\n",
       "      <td>17.99</td>\n",
       "      <td>18.19</td>\n",
       "      <td>y</td>\n",
       "      <td>w</td>\n",
       "      <td>t</td>\n",
       "      <td>g</td>\n",
       "      <td>d</td>\n",
       "      <td>u</td>\n",
       "    </tr>\n",
       "    <tr>\n",
       "      <th>2</th>\n",
       "      <td>p</td>\n",
       "      <td>14.07</td>\n",
       "      <td>x</td>\n",
       "      <td>g</td>\n",
       "      <td>o</td>\n",
       "      <td>f</td>\n",
       "      <td>e</td>\n",
       "      <td>NaN</td>\n",
       "      <td>w</td>\n",
       "      <td>17.80</td>\n",
       "      <td>17.74</td>\n",
       "      <td>y</td>\n",
       "      <td>w</td>\n",
       "      <td>t</td>\n",
       "      <td>g</td>\n",
       "      <td>d</td>\n",
       "      <td>w</td>\n",
       "    </tr>\n",
       "    <tr>\n",
       "      <th>3</th>\n",
       "      <td>p</td>\n",
       "      <td>14.17</td>\n",
       "      <td>f</td>\n",
       "      <td>h</td>\n",
       "      <td>e</td>\n",
       "      <td>f</td>\n",
       "      <td>e</td>\n",
       "      <td>NaN</td>\n",
       "      <td>w</td>\n",
       "      <td>15.77</td>\n",
       "      <td>15.98</td>\n",
       "      <td>y</td>\n",
       "      <td>w</td>\n",
       "      <td>t</td>\n",
       "      <td>p</td>\n",
       "      <td>d</td>\n",
       "      <td>w</td>\n",
       "    </tr>\n",
       "    <tr>\n",
       "      <th>4</th>\n",
       "      <td>p</td>\n",
       "      <td>14.64</td>\n",
       "      <td>x</td>\n",
       "      <td>h</td>\n",
       "      <td>o</td>\n",
       "      <td>f</td>\n",
       "      <td>e</td>\n",
       "      <td>NaN</td>\n",
       "      <td>w</td>\n",
       "      <td>16.53</td>\n",
       "      <td>17.20</td>\n",
       "      <td>y</td>\n",
       "      <td>w</td>\n",
       "      <td>t</td>\n",
       "      <td>p</td>\n",
       "      <td>d</td>\n",
       "      <td>w</td>\n",
       "    </tr>\n",
       "  </tbody>\n",
       "</table>\n",
       "</div>"
      ],
      "text/plain": [
       "  class  cap-diameter cap-shape cap-surface cap-color does-bruise-or-bleed  \\\n",
       "0     p         15.26         x           g         o                    f   \n",
       "1     p         16.60         x           g         o                    f   \n",
       "2     p         14.07         x           g         o                    f   \n",
       "3     p         14.17         f           h         e                    f   \n",
       "4     p         14.64         x           h         o                    f   \n",
       "\n",
       "  gill-attachment gill-spacing gill-color  stem-height  stem-width  \\\n",
       "0               e          NaN          w        16.95       17.09   \n",
       "1               e          NaN          w        17.99       18.19   \n",
       "2               e          NaN          w        17.80       17.74   \n",
       "3               e          NaN          w        15.77       15.98   \n",
       "4               e          NaN          w        16.53       17.20   \n",
       "\n",
       "  stem-surface stem-color has-ring ring-type habitat season  \n",
       "0            y          w        t         g       d      w  \n",
       "1            y          w        t         g       d      u  \n",
       "2            y          w        t         g       d      w  \n",
       "3            y          w        t         p       d      w  \n",
       "4            y          w        t         p       d      w  "
      ]
     },
     "execution_count": 9,
     "metadata": {},
     "output_type": "execute_result"
    }
   ],
   "source": [
    "# Drop the columns obtained before (>=80%)\n",
    "df_mushrooms = df_mushrooms.drop(columns=columns_to_drop)\n",
    "df_mushrooms.head(5)"
   ]
  },
  {
   "cell_type": "code",
   "execution_count": 10,
   "id": "19908df5-d922-4abd-8e07-bb18bab6a1a9",
   "metadata": {},
   "outputs": [
    {
     "name": "stdout",
     "output_type": "stream",
     "text": [
      "The maximum percentage of null values for a single row is: 23.53%.\n",
      "With this value, I won't drop any row and replace null values with mode.\n"
     ]
    }
   ],
   "source": [
    "# Now I'll check the percentage of nan values by row\n",
    "row_null = round((df_mushrooms.isna().sum(axis=1) / df_mushrooms.shape[1])*100,2)\n",
    "print(f\"The maximum percentage of null values for a single row is: {row_null.max()}%.\")\n",
    "print(f\"With this value, I won't drop any row and replace null values with mode.\")"
   ]
  },
  {
   "cell_type": "code",
   "execution_count": 11,
   "id": "48ec9adb-8198-4146-a77d-f0db232150d5",
   "metadata": {},
   "outputs": [
    {
     "data": {
      "text/plain": [
       "146"
      ]
     },
     "execution_count": 11,
     "metadata": {},
     "output_type": "execute_result"
    }
   ],
   "source": [
    "# Finally, I'll check the presence of any duplicate\n",
    "df_mushrooms.duplicated().sum()"
   ]
  },
  {
   "cell_type": "code",
   "execution_count": 12,
   "id": "0ef7643f-f56e-4778-9f2e-c0c8645ddad6",
   "metadata": {},
   "outputs": [
    {
     "name": "stdout",
     "output_type": "stream",
     "text": [
      "Finally, the final dataset has 146 less rows and 4 less columns than the original dataset.\n"
     ]
    }
   ],
   "source": [
    "# To avoid overfitting, I'll remove those duplicated rows\n",
    "df_mushrooms = df_mushrooms.drop_duplicates()\n",
    "\n",
    "print(f\"Finally, the final dataset has {len(original_data) - len(df_mushrooms)} less rows and {original_data.shape[1] - df_mushrooms.shape[1]} less columns than the original dataset.\")"
   ]
  },
  {
   "cell_type": "markdown",
   "id": "94100cd8-5cbd-4990-98d7-7c99bc5a7e32",
   "metadata": {},
   "source": [
    "# Tree Predictor\n",
    "_Implementation of the tree predictor._"
   ]
  },
  {
   "cell_type": "markdown",
   "id": "a13440a1-685f-4845-a799-f40fcf5deae1",
   "metadata": {},
   "source": [
    "## Train-Test Split"
   ]
  },
  {
   "cell_type": "markdown",
   "id": "67638372-27f7-46b3-b634-89b2e4e2bfd0",
   "metadata": {},
   "source": [
    "For simplifying variables, now features are called x, and target are y."
   ]
  },
  {
   "cell_type": "code",
   "execution_count": 13,
   "id": "92b10c04-d8b8-4bb0-9f08-200074ea4403",
   "metadata": {},
   "outputs": [],
   "source": [
    "# Features and target\n",
    "features = df_mushrooms.drop('class', axis=1)\n",
    "target = df_mushrooms['class']"
   ]
  },
  {
   "cell_type": "code",
   "execution_count": 14,
   "id": "8ceafce2-ddbb-4125-9e78-17e3c8aa6ebc",
   "metadata": {},
   "outputs": [],
   "source": [
    "# First I split the dataset into a training and test set.\n",
    "# I splitted 80/20 (train/test), and defined seed=0 to keep the same result each time the notebook is run.\n",
    "x_train, x_test, y_train, y_test = split(features, target, test_size=0.2, seed = 0)"
   ]
  },
  {
   "cell_type": "code",
   "execution_count": 15,
   "id": "92209127-0b26-4932-9fe1-35078d771a46",
   "metadata": {},
   "outputs": [],
   "source": [
    "# Replace missing values with the mode\n",
    "for dataset in [x_train, x_test]:\n",
    "    for col in dataset.columns:\n",
    "        if dataset[col].dtype == 'object':\n",
    "            object_value = dataset[col].mode()[0]\n",
    "            dataset.loc[:, col] = dataset[col].fillna(object_value)\n",
    "\n",
    "for dataset in [y_train, y_test]:\n",
    "    if dataset.dtype == 'object':\n",
    "        object_value = dataset.mode()[0]\n",
    "        dataset.loc[:] = dataset.fillna(object_value)"
   ]
  },
  {
   "cell_type": "code",
   "execution_count": 16,
   "id": "2d7f5128-7998-49bc-824d-3b197a04110a",
   "metadata": {},
   "outputs": [],
   "source": [
    "# Encoding both categorical features and targets for further usage\n",
    "encoder = Encoding()\n",
    "\n",
    "x_train = encoder.one_hot_encoding(x_train, fit=True)\n",
    "y_train, target_mapping = encoder.target_encoding(y_train, fit=True)\n",
    "\n",
    "x_test = encoder.one_hot_encoding(x_test, fit=False)\n",
    "y_test, _ = encoder.target_encoding(y_test, fit=False)"
   ]
  },
  {
   "cell_type": "code",
   "execution_count": 17,
   "id": "4f6e6e0c-36b0-4b68-aea4-c3ffdd863631",
   "metadata": {},
   "outputs": [
    {
     "name": "stdout",
     "output_type": "stream",
     "text": [
      "Original dataset: 60923\n",
      "Train set: 48738\n",
      "Test set: 12185\n"
     ]
    }
   ],
   "source": [
    "# Check the number of samples for each set\n",
    "print(f'Original dataset: {len(df_mushrooms)}')\n",
    "print(f'Train set: {len(x_train)}')\n",
    "print(f'Test set: {len(x_test)}')"
   ]
  },
  {
   "cell_type": "markdown",
   "id": "37a6520d-3ff5-48d6-8138-57bd6119b8f6",
   "metadata": {},
   "source": [
    "# Run Tree"
   ]
  },
  {
   "cell_type": "code",
   "execution_count": 18,
   "id": "573fb3d4-b947-4dce-a8a7-a49d0ef52da2",
   "metadata": {},
   "outputs": [],
   "source": [
    "param_grid = {\n",
    "    'max_depth': [10, 25, 40],\n",
    "    'min_samples': [5, 15, 20],\n",
    "    'criterion': ['gini', 'entropy', 'misclassification_error']\n",
    "}"
   ]
  },
  {
   "cell_type": "code",
   "execution_count": 19,
   "id": "c9a6fe76-8a39-4eb4-abbe-68c9cfb7f4f5",
   "metadata": {},
   "outputs": [],
   "source": [
    "# Convert pandas DataFrame to numpy array for compatibility\n",
    "x_train_np = x_train.to_numpy()\n",
    "y_train_np = y_train"
   ]
  },
  {
   "cell_type": "code",
   "execution_count": 20,
   "id": "ef5dc5e9-0266-4fdf-afe9-d76891664c5f",
   "metadata": {},
   "outputs": [],
   "source": [
    "search = RandomizedSearchCV(param_grid, x_train_np, y_train_np, n_iter=10, cv=5, seed=0, n_jobs=-1)"
   ]
  },
  {
   "cell_type": "code",
   "execution_count": 21,
   "id": "fbb48180-c61d-4c65-89e8-5424fa04cb0f",
   "metadata": {},
   "outputs": [],
   "source": [
    "best_params, best_score = search.fit()"
   ]
  },
  {
   "cell_type": "code",
   "execution_count": 22,
   "id": "1ac8d3f5-464e-4105-896e-e2750b0b8f52",
   "metadata": {},
   "outputs": [
    {
     "name": "stdout",
     "output_type": "stream",
     "text": [
      "Best parameters:  {'max_depth': 25, 'min_samples': 5, 'criterion': 'gini'}\n"
     ]
    }
   ],
   "source": [
    "# Output the best parameters\n",
    "print(\"Best parameters: \", best_params)"
   ]
  },
  {
   "cell_type": "code",
   "execution_count": 23,
   "id": "7448f026-9aca-49c9-8396-980220209377",
   "metadata": {},
   "outputs": [
    {
     "name": "stdout",
     "output_type": "stream",
     "text": [
      "Best cv score:  0.9959\n"
     ]
    }
   ],
   "source": [
    "# Output the best score\n",
    "print(\"Best cv score: \", round(best_score,4))"
   ]
  },
  {
   "cell_type": "code",
   "execution_count": 24,
   "id": "05576a18-30fa-4aa4-8e72-ff57b08d2868",
   "metadata": {},
   "outputs": [],
   "source": [
    "# Now I use the best hyperparameters outputed previously, into the tree\n",
    "final_tree = DecisionTree(**best_params)\n",
    "\n",
    "# Train the tree with the best parameters on the full training data\n",
    "final_tree.fit(x_train_np, y_train_np)"
   ]
  },
  {
   "cell_type": "code",
   "execution_count": 25,
   "id": "306b5dd2-99db-4168-80f2-e552bddfb70b",
   "metadata": {},
   "outputs": [],
   "source": [
    "# Predictions on test set\n",
    "predicted_y = final_tree.predict(x_test.to_numpy())"
   ]
  },
  {
   "cell_type": "code",
   "execution_count": 26,
   "id": "667eebe7-b667-492e-ad54-4f9e9e450879",
   "metadata": {},
   "outputs": [
    {
     "name": "stdout",
     "output_type": "stream",
     "text": [
      "Test performance: {'accuracy': 0.9971276159212146, 'precision': 0.9972992437882607, 'recall': 0.9964022306170175, 'f1_score': 0.9968505354089805, 'confusion_matrix': {'tp': 5539, 'tn': 6611, 'fp': 15, 'fn': 20}}\n"
     ]
    }
   ],
   "source": [
    "test_metric_eval = ModelEvaluator(y_test, predicted_y)\n",
    "print(f\"Test performance: {test_metric_eval.evaluate()}\")"
   ]
  },
  {
   "cell_type": "code",
   "execution_count": 27,
   "id": "0e5dd5db-e266-4647-8dd5-42388b7cb095",
   "metadata": {},
   "outputs": [],
   "source": [
    "# Calculate the test performance\n",
    "test_loss = final_tree.evaluate(x_test.to_numpy(), y_test)"
   ]
  },
  {
   "cell_type": "code",
   "execution_count": 28,
   "id": "e4bb6f23-e0f0-4f8d-b257-41e3e812e9b0",
   "metadata": {},
   "outputs": [],
   "source": [
    "# Finally, we calculate the training performance\n",
    "predicted_train = final_tree.predict(x_train.to_numpy())\n",
    "train_loss = final_tree.evaluate(x_train.to_numpy(), y_train)"
   ]
  },
  {
   "cell_type": "code",
   "execution_count": 29,
   "id": "abb3a1b8-f42f-48f1-96ad-27b4b4e36929",
   "metadata": {},
   "outputs": [
    {
     "name": "stdout",
     "output_type": "stream",
     "text": [
      "Zero-One Loss for training set: 0.14%\n",
      "Zero-One Loss for test set: 0.29%\n"
     ]
    }
   ],
   "source": [
    "print(f\"Zero-One Loss for training set: {train_loss * 100:.2f}%\")\n",
    "print(f\"Zero-One Loss for test set: {test_loss * 100:.2f}%\")"
   ]
  },
  {
   "cell_type": "markdown",
   "id": "26e04229-cb81-4988-862e-0fdf6dbb45eb",
   "metadata": {},
   "source": [
    "# Testing Tree"
   ]
  },
  {
   "cell_type": "code",
   "execution_count": 30,
   "id": "27ca01b5-5755-418e-986a-ea749af17b9b",
   "metadata": {},
   "outputs": [
    {
     "name": "stdout",
     "output_type": "stream",
     "text": [
      "The mushroom is EDIBLE, you can eat it.\n"
     ]
    }
   ],
   "source": [
    "new_mushroom = np.array([[\n",
    "    5.2,  # cap-diameter\n",
    "    0, 1, 0, 0, 0, 0, 0,  # cap-shape (x = 1, rest 0)\n",
    "    0, 0, 1, 0, 0, 0, 0, 0, 0, 0, 0,  # cap-surface (y = 1)\n",
    "    0, 1, 0, 0, 0, 0, 0, 0, 0, 0, 0, 0,  # cap-color (w = 1)\n",
    "    0, 1,  # does-bruise-or-bleed (t = 1)\n",
    "    1, 0, 0, 0, 0, 0, 0,  # gill-attachment (f = 1)\n",
    "    0, 0, 1,  # gill-spacing (c = 1)\n",
    "    0, 0, 0, 0, 0, 1, 0, 0, 0, 0, 0, 0,  # gill-color (k = 1)\n",
    "    10.1,  # stem-height\n",
    "    1.2,   # stem-width\n",
    "    0, 1, 0, 0, 0, 0, 0, 0,  # stem-surface (s = 1)\n",
    "    1, 0, 0, 0, 0, 0, 0, 0, 0, 0, 0, 0,  # stem-color (g = 1)\n",
    "    0, 1,  # has-ring (t = 1)\n",
    "    0, 0, 0, 0, 0, 1, 0, 0,  # ring-type (p = 1)\n",
    "    0, 0, 0, 0, 1, 0, 0, 0,  # habitat (w = 1)\n",
    "    0, 0, 1, 0  # season (s = 1)\n",
    "]])\n",
    "\n",
    "prediction = final_tree.predict(new_mushroom)\n",
    "\n",
    "if prediction[0] == 1:\n",
    "    print(\"The mushroom is POISONOUS, DON'T eat it.\")\n",
    "else:\n",
    "    print(\"The mushroom is EDIBLE, you can eat it.\")"
   ]
  }
 ],
 "metadata": {
  "kernelspec": {
   "display_name": "Python 3 (ipykernel)",
   "language": "python",
   "name": "python3"
  },
  "language_info": {
   "codemirror_mode": {
    "name": "ipython",
    "version": 3
   },
   "file_extension": ".py",
   "mimetype": "text/x-python",
   "name": "python",
   "nbconvert_exporter": "python",
   "pygments_lexer": "ipython3",
   "version": "3.11.0"
  }
 },
 "nbformat": 4,
 "nbformat_minor": 5
}
